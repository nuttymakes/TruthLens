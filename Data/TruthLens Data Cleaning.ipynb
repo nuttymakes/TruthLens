{
 "cells": [
  {
   "cell_type": "markdown",
   "id": "c70aa54e",
   "metadata": {
    "id": "c70aa54e"
   },
   "source": [
    "# TruthLens Data Cleaning and Exploration\n",
    "The purpose of this notebook is to prepare the data, both the ISOT dataset and the custom scraped data, for the modelling process.\n",
    "\n",
    "## Phase 1: Real vs. Fake News Classification\n",
    "The first stage leverages the Misinformation & Fake News text dataset, which contains almost 79,000 long-form articles evenly distributed between two classes: real and fake news. The dataset is well-suited for binary classification due to its balance and scale. Using an existing dataset eliminates the need for custom data collection for this phase and accelerates development.\n",
    "\n",
    "Phase 1 preprocessing includes tokenisation, stop-word removal, and text normalisation. These steps ensure consistency and reduce noise in the input data, enabling efficient model training.\n",
    "\n",
    "The Misinformation & Fake News text dataset has been downloaded from https://www.kaggle.com/datasets/stevenpeutz/misinformation-fake-news-text-dataset-79k"
   ]
  },
  {
   "cell_type": "code",
   "execution_count": 1,
   "id": "5e5a35fd",
   "metadata": {},
   "outputs": [
    {
     "name": "stdout",
     "output_type": "stream",
     "text": [
      "Requirement already satisfied: textacy in c:\\users\\hazel\\anaconda3\\lib\\site-packages (0.13.0)\n",
      "Requirement already satisfied: spacy~=3.0 in c:\\users\\hazel\\anaconda3\\lib\\site-packages (from textacy) (3.8.3)\n",
      "Requirement already satisfied: catalogue~=2.0 in c:\\users\\hazel\\anaconda3\\lib\\site-packages (from textacy) (2.0.10)\n",
      "Requirement already satisfied: networkx>=2.7 in c:\\users\\hazel\\anaconda3\\lib\\site-packages (from textacy) (2.8.4)\n",
      "Requirement already satisfied: scikit-learn>=1.0 in c:\\users\\hazel\\anaconda3\\lib\\site-packages (from textacy) (1.2.1)\n",
      "Requirement already satisfied: requests>=2.10.0 in c:\\users\\hazel\\anaconda3\\lib\\site-packages (from textacy) (2.28.1)\n",
      "Requirement already satisfied: joblib>=0.13.0 in c:\\users\\hazel\\anaconda3\\lib\\site-packages (from textacy) (1.1.1)\n",
      "Requirement already satisfied: jellyfish>=0.8.0 in c:\\users\\hazel\\anaconda3\\lib\\site-packages (from textacy) (0.9.0)\n",
      "Requirement already satisfied: numpy>=1.17.0 in c:\\users\\hazel\\anaconda3\\lib\\site-packages (from textacy) (1.23.5)\n",
      "Requirement already satisfied: scipy>=1.8.0 in c:\\users\\hazel\\anaconda3\\lib\\site-packages (from textacy) (1.10.0)\n",
      "Requirement already satisfied: pyphen>=0.10.0 in c:\\users\\hazel\\anaconda3\\lib\\site-packages (from textacy) (0.17.2)\n",
      "Requirement already satisfied: tqdm>=4.19.6 in c:\\users\\hazel\\anaconda3\\lib\\site-packages (from textacy) (4.64.1)\n",
      "Requirement already satisfied: cytoolz>=0.10.1 in c:\\users\\hazel\\anaconda3\\lib\\site-packages (from textacy) (0.12.0)\n",
      "Requirement already satisfied: cachetools>=4.0.0 in c:\\users\\hazel\\anaconda3\\lib\\site-packages (from textacy) (5.3.2)\n",
      "Requirement already satisfied: floret~=0.10.0 in c:\\users\\hazel\\anaconda3\\lib\\site-packages (from textacy) (0.10.5)\n",
      "Requirement already satisfied: toolz>=0.8.0 in c:\\users\\hazel\\anaconda3\\lib\\site-packages (from cytoolz>=0.10.1->textacy) (0.12.0)\n",
      "Requirement already satisfied: idna<4,>=2.5 in c:\\users\\hazel\\anaconda3\\lib\\site-packages (from requests>=2.10.0->textacy) (3.4)\n",
      "Requirement already satisfied: urllib3<1.27,>=1.21.1 in c:\\users\\hazel\\anaconda3\\lib\\site-packages (from requests>=2.10.0->textacy) (1.26.14)\n",
      "Requirement already satisfied: charset-normalizer<3,>=2 in c:\\users\\hazel\\anaconda3\\lib\\site-packages (from requests>=2.10.0->textacy) (2.0.4)\n",
      "Requirement already satisfied: certifi>=2017.4.17 in c:\\users\\hazel\\anaconda3\\lib\\site-packages (from requests>=2.10.0->textacy) (2022.12.7)\n",
      "Requirement already satisfied: threadpoolctl>=2.0.0 in c:\\users\\hazel\\anaconda3\\lib\\site-packages (from scikit-learn>=1.0->textacy) (2.2.0)\n",
      "Requirement already satisfied: pydantic!=1.8,!=1.8.1,<3.0.0,>=1.7.4 in c:\\users\\hazel\\anaconda3\\lib\\site-packages (from spacy~=3.0->textacy) (2.10.4)\n",
      "Requirement already satisfied: spacy-legacy<3.1.0,>=3.0.11 in c:\\users\\hazel\\anaconda3\\lib\\site-packages (from spacy~=3.0->textacy) (3.0.12)\n",
      "Requirement already satisfied: preshed<3.1.0,>=3.0.2 in c:\\users\\hazel\\anaconda3\\lib\\site-packages (from spacy~=3.0->textacy) (3.0.9)\n",
      "Requirement already satisfied: langcodes<4.0.0,>=3.2.0 in c:\\users\\hazel\\anaconda3\\lib\\site-packages (from spacy~=3.0->textacy) (3.5.0)\n",
      "Requirement already satisfied: thinc<8.4.0,>=8.3.0 in c:\\users\\hazel\\anaconda3\\lib\\site-packages (from spacy~=3.0->textacy) (8.3.3)\n",
      "Requirement already satisfied: setuptools in c:\\users\\hazel\\anaconda3\\lib\\site-packages (from spacy~=3.0->textacy) (65.6.3)\n",
      "Requirement already satisfied: cymem<2.1.0,>=2.0.2 in c:\\users\\hazel\\anaconda3\\lib\\site-packages (from spacy~=3.0->textacy) (2.0.10)\n",
      "Requirement already satisfied: jinja2 in c:\\users\\hazel\\anaconda3\\lib\\site-packages (from spacy~=3.0->textacy) (3.1.2)\n",
      "Requirement already satisfied: wasabi<1.2.0,>=0.9.1 in c:\\users\\hazel\\anaconda3\\lib\\site-packages (from spacy~=3.0->textacy) (1.1.3)\n",
      "Requirement already satisfied: srsly<3.0.0,>=2.4.3 in c:\\users\\hazel\\anaconda3\\lib\\site-packages (from spacy~=3.0->textacy) (2.5.0)\n",
      "Requirement already satisfied: murmurhash<1.1.0,>=0.28.0 in c:\\users\\hazel\\anaconda3\\lib\\site-packages (from spacy~=3.0->textacy) (1.0.11)\n",
      "Requirement already satisfied: packaging>=20.0 in c:\\users\\hazel\\anaconda3\\lib\\site-packages (from spacy~=3.0->textacy) (22.0)\n",
      "Requirement already satisfied: weasel<0.5.0,>=0.1.0 in c:\\users\\hazel\\anaconda3\\lib\\site-packages (from spacy~=3.0->textacy) (0.4.1)\n",
      "Requirement already satisfied: spacy-loggers<2.0.0,>=1.0.0 in c:\\users\\hazel\\anaconda3\\lib\\site-packages (from spacy~=3.0->textacy) (1.0.5)\n",
      "Requirement already satisfied: typer<1.0.0,>=0.3.0 in c:\\users\\hazel\\anaconda3\\lib\\site-packages (from spacy~=3.0->textacy) (0.15.1)\n",
      "Requirement already satisfied: colorama in c:\\users\\hazel\\anaconda3\\lib\\site-packages (from tqdm>=4.19.6->textacy) (0.4.6)\n",
      "Requirement already satisfied: language-data>=1.2 in c:\\users\\hazel\\anaconda3\\lib\\site-packages (from langcodes<4.0.0,>=3.2.0->spacy~=3.0->textacy) (1.3.0)\n",
      "Requirement already satisfied: pydantic-core==2.27.2 in c:\\users\\hazel\\anaconda3\\lib\\site-packages (from pydantic!=1.8,!=1.8.1,<3.0.0,>=1.7.4->spacy~=3.0->textacy) (2.27.2)\n",
      "Requirement already satisfied: annotated-types>=0.6.0 in c:\\users\\hazel\\anaconda3\\lib\\site-packages (from pydantic!=1.8,!=1.8.1,<3.0.0,>=1.7.4->spacy~=3.0->textacy) (0.7.0)\n",
      "Requirement already satisfied: typing-extensions>=4.12.2 in c:\\users\\hazel\\anaconda3\\lib\\site-packages (from pydantic!=1.8,!=1.8.1,<3.0.0,>=1.7.4->spacy~=3.0->textacy) (4.12.2)\n",
      "Requirement already satisfied: blis<1.2.0,>=1.1.0 in c:\\users\\hazel\\anaconda3\\lib\\site-packages (from thinc<8.4.0,>=8.3.0->spacy~=3.0->textacy) (1.1.0)\n",
      "Requirement already satisfied: confection<1.0.0,>=0.0.1 in c:\\users\\hazel\\anaconda3\\lib\\site-packages (from thinc<8.4.0,>=8.3.0->spacy~=3.0->textacy) (0.1.5)\n",
      "Requirement already satisfied: shellingham>=1.3.0 in c:\\users\\hazel\\anaconda3\\lib\\site-packages (from typer<1.0.0,>=0.3.0->spacy~=3.0->textacy) (1.5.4)\n",
      "Requirement already satisfied: click>=8.0.0 in c:\\users\\hazel\\anaconda3\\lib\\site-packages (from typer<1.0.0,>=0.3.0->spacy~=3.0->textacy) (8.0.4)\n",
      "Requirement already satisfied: rich>=10.11.0 in c:\\users\\hazel\\anaconda3\\lib\\site-packages (from typer<1.0.0,>=0.3.0->spacy~=3.0->textacy) (13.9.4)\n",
      "Requirement already satisfied: smart-open<8.0.0,>=5.2.1 in c:\\users\\hazel\\anaconda3\\lib\\site-packages (from weasel<0.5.0,>=0.1.0->spacy~=3.0->textacy) (5.2.1)\n",
      "Requirement already satisfied: cloudpathlib<1.0.0,>=0.7.0 in c:\\users\\hazel\\anaconda3\\lib\\site-packages (from weasel<0.5.0,>=0.1.0->spacy~=3.0->textacy) (0.20.0)\n",
      "Requirement already satisfied: MarkupSafe>=2.0 in c:\\users\\hazel\\anaconda3\\lib\\site-packages (from jinja2->spacy~=3.0->textacy) (2.1.1)\n",
      "Requirement already satisfied: marisa-trie>=1.1.0 in c:\\users\\hazel\\anaconda3\\lib\\site-packages (from language-data>=1.2->langcodes<4.0.0,>=3.2.0->spacy~=3.0->textacy) (1.2.1)\n",
      "Requirement already satisfied: markdown-it-py>=2.2.0 in c:\\users\\hazel\\anaconda3\\lib\\site-packages (from rich>=10.11.0->typer<1.0.0,>=0.3.0->spacy~=3.0->textacy) (3.0.0)\n",
      "Requirement already satisfied: pygments<3.0.0,>=2.13.0 in c:\\users\\hazel\\anaconda3\\lib\\site-packages (from rich>=10.11.0->typer<1.0.0,>=0.3.0->spacy~=3.0->textacy) (2.18.0)\n",
      "Requirement already satisfied: mdurl~=0.1 in c:\\users\\hazel\\anaconda3\\lib\\site-packages (from markdown-it-py>=2.2.0->rich>=10.11.0->typer<1.0.0,>=0.3.0->spacy~=3.0->textacy) (0.1.2)\n",
      "Requirement already satisfied: textstat in c:\\users\\hazel\\anaconda3\\lib\\site-packages (0.7.5)\n",
      "Requirement already satisfied: cmudict in c:\\users\\hazel\\anaconda3\\lib\\site-packages (from textstat) (1.0.32)\n",
      "Requirement already satisfied: pyphen in c:\\users\\hazel\\anaconda3\\lib\\site-packages (from textstat) (0.17.2)\n",
      "Requirement already satisfied: setuptools in c:\\users\\hazel\\anaconda3\\lib\\site-packages (from textstat) (65.6.3)\n",
      "Requirement already satisfied: importlib-metadata>=5 in c:\\users\\hazel\\anaconda3\\lib\\site-packages (from cmudict->textstat) (8.6.1)\n",
      "Requirement already satisfied: importlib-resources>=5 in c:\\users\\hazel\\anaconda3\\lib\\site-packages (from cmudict->textstat) (6.5.2)\n",
      "Requirement already satisfied: zipp>=3.20 in c:\\users\\hazel\\anaconda3\\lib\\site-packages (from importlib-metadata>=5->cmudict->textstat) (3.21.0)\n"
     ]
    }
   ],
   "source": [
    "!pip install textacy\n",
    "!pip install textstat"
   ]
  },
  {
   "cell_type": "code",
   "execution_count": 2,
   "id": "105e624f",
   "metadata": {
    "colab": {
     "base_uri": "https://localhost:8080/"
    },
    "id": "105e624f",
    "outputId": "99507040-d0d4-43aa-f761-62f3c859a8cd"
   },
   "outputs": [
    {
     "name": "stderr",
     "output_type": "stream",
     "text": [
      "[nltk_data] Downloading package punkt_tab to\n",
      "[nltk_data]     C:\\Users\\hazel\\AppData\\Roaming\\nltk_data...\n",
      "[nltk_data]   Package punkt_tab is already up-to-date!\n",
      "[nltk_data] Downloading package averaged_perceptron_tagger_eng to\n",
      "[nltk_data]     C:\\Users\\hazel\\AppData\\Roaming\\nltk_data...\n",
      "[nltk_data]   Package averaged_perceptron_tagger_eng is already up-to-\n",
      "[nltk_data]       date!\n",
      "[nltk_data] Downloading package wordnet to\n",
      "[nltk_data]     C:\\Users\\hazel\\AppData\\Roaming\\nltk_data...\n",
      "[nltk_data]   Package wordnet is already up-to-date!\n"
     ]
    },
    {
     "data": {
      "text/plain": [
       "True"
      ]
     },
     "execution_count": 2,
     "metadata": {},
     "output_type": "execute_result"
    }
   ],
   "source": [
    "#all imports\n",
    "import pandas as pd\n",
    "from sklearn.feature_extraction.text import CountVectorizer\n",
    "from sklearn.preprocessing import LabelEncoder\n",
    "import numpy as np\n",
    "import re\n",
    "import matplotlib.pyplot as plt\n",
    "import seaborn as sns\n",
    "import random\n",
    "import nltk\n",
    "import time\n",
    "import csv\n",
    "from nltk.corpus import stopwords\n",
    "from nltk.corpus import wordnet\n",
    "from nltk import word_tokenize, pos_tag\n",
    "from nltk.stem.snowball import SnowballStemmer\n",
    "from nltk.stem import WordNetLemmatizer, PorterStemmer\n",
    "import string\n",
    "from string import punctuation\n",
    "from textacy import preprocessing\n",
    "import textstat\n",
    "from wordcloud import WordCloud\n",
    "from tqdm.notebook import tqdm\n",
    "tqdm.pandas()\n",
    "\n",
    "#settings\n",
    "pd.set_option('display.max_colwidth', None)\n",
    "nltk.download('punkt_tab')\n",
    "nltk.download('averaged_perceptron_tagger_eng')\n",
    "nltk.download('wordnet')"
   ]
  },
  {
   "cell_type": "markdown",
   "id": "fff8ea58",
   "metadata": {
    "id": "fff8ea58"
   },
   "source": [
    "### Load the dataset"
   ]
  },
  {
   "cell_type": "code",
   "execution_count": 3,
   "id": "fb88e341",
   "metadata": {
    "colab": {
     "base_uri": "https://localhost:8080/"
    },
    "id": "fb88e341",
    "outputId": "21d47d2c-fd96-4227-d126-addec5c54387"
   },
   "outputs": [
    {
     "name": "stdout",
     "output_type": "stream",
     "text": [
      "DataFrame Info:\n",
      "<class 'pandas.core.frame.DataFrame'>\n",
      "Int64Index: 78588 entries, 0 to 78616\n",
      "Data columns (total 2 columns):\n",
      " #   Column   Non-Null Count  Dtype \n",
      "---  ------   --------------  ----- \n",
      " 0   content  78588 non-null  object\n",
      " 1   label    78588 non-null  int64 \n",
      "dtypes: int64(1), object(1)\n",
      "memory usage: 1.8+ MB\n",
      "\n",
      "Class overview:\n",
      "1    43642\n",
      "0    34946\n",
      "Name: label, dtype: int64\n"
     ]
    }
   ],
   "source": [
    "input_True = 'DataSet_Misinfo_TRUE.csv'\n",
    "input_Fake = 'DataSet_Misinfo_FAKE.csv'\n",
    "#load each subset to a dataframe\n",
    "true_df = pd.read_csv(input_True)\n",
    "fake_df = pd.read_csv(input_Fake)\n",
    "#add a label for each class - 0 for True and 1 for False\n",
    "true_df['label'] = 0\n",
    "fake_df['label'] = 1\n",
    "#combine the dataframes\n",
    "df = pd.concat([true_df, fake_df], ignore_index=True)\n",
    "#shuffle the dataset\n",
    "df = df.sample(frac=1, random_state=999).reset_index(drop=True)\n",
    "#drop unnecessary columns\n",
    "df = df[['text', 'label']]\n",
    "#rename column\n",
    "df = df.rename(columns={\"text\":\"content\"})\n",
    "#drop na\n",
    "df = df.dropna(subset=['content'])\n",
    "#store\n",
    "df.to_csv('new_data.csv', index=False)\n",
    "#basic checks\n",
    "print(\"DataFrame Info:\")\n",
    "df.info()\n",
    "print(\"\\nClass overview:\")\n",
    "print(df['label'].value_counts())"
   ]
  },
  {
   "cell_type": "markdown",
   "id": "04b73500",
   "metadata": {
    "id": "04b73500"
   },
   "source": [
    "### Replace censored words\n",
    "I've noticed that the data contains a lot of censored words - for example \"f*ck\" instead of \"fuck\", so I am replacing those with the uncensored versions before continuing with preprocessing."
   ]
  },
  {
   "cell_type": "code",
   "execution_count": 4,
   "id": "549019ef",
   "metadata": {
    "id": "549019ef"
   },
   "outputs": [],
   "source": [
    "def find_censored_words(dataframe, column_name):\n",
    "    \"\"\"\n",
    "    Finds censored words in the specified column of a DataFrame, where a censored word contains one or more * e.g. f*ck.\n",
    "\n",
    "    Parameters:\n",
    "    ----------\n",
    "    dataframe : pd.DataFrame\n",
    "        The DataFrame containing the text data.\n",
    "    column_name : str\n",
    "        The name of the column to search for censored words.\n",
    "\n",
    "    Returns:\n",
    "    -------\n",
    "    list\n",
    "        A set of unique censored words found in the specified column.\n",
    "    \"\"\"\n",
    "    #Regex pattern for censored words - word boundary, 1 or more alphanumeric characters on each side, 1 or more asterix.\n",
    "    pattern = r'\\b\\w+\\*+\\w+\\b'\n",
    "    # Combine all text in the specified column\n",
    "    combined_text = ' '.join(dataframe[column_name].astype(str)).lower()\n",
    "    # Find all matches of the pattern\n",
    "    censored_words = re.findall(pattern, combined_text)\n",
    "    # Return unique matches\n",
    "    return list(set(censored_words))"
   ]
  },
  {
   "cell_type": "code",
   "execution_count": 5,
   "id": "2f70880b",
   "metadata": {
    "colab": {
     "base_uri": "https://localhost:8080/"
    },
    "id": "2f70880b",
    "outputId": "ede9226e-e838-4f4d-a69c-9b28caf330de"
   },
   "outputs": [
    {
     "name": "stdout",
     "output_type": "stream",
     "text": [
      "Find censored words: 26.8108 seconds\n",
      "Sample of censored words found:\n",
      " b*tched p*ssy f*cks p*rnography f*ckstraightwhiteamerica payer**clinton f*ckup f****d c*nts f*ckability\n"
     ]
    }
   ],
   "source": [
    "#Find censored words\n",
    "start_time = time.time()\n",
    "censored_words = find_censored_words(df, 'content')\n",
    "print(\"Find censored words: {:.4f} seconds\".format(time.time() - start_time))\n",
    "print(\"Sample of censored words found:\\n\", ' '.join(random.sample(censored_words, 10)))"
   ]
  },
  {
   "cell_type": "code",
   "execution_count": 6,
   "id": "a23e9011",
   "metadata": {
    "colab": {
     "base_uri": "https://localhost:8080/",
     "height": 801,
     "referenced_widgets": [
      "ccd1ce39b3cf48389aac70e4b6e02c11",
      "8023bc2f7bb2433687c993118166fb10",
      "186d5b794614407c83af14e0eca0d301",
      "edea0d8518674e89a759a2198931beb3",
      "b4911de035cf4ad18b2b2348d5237c99",
      "39ef300a70844ee0a549818937361628",
      "3680883e78c24821a860160ca303b339",
      "ab43ba9aef2c4e82991540c652d2a85d",
      "832075caaccb4004a668fcfe75acca67",
      "5680598b01b546f0be4702f73286ee79",
      "a6e1ff3740394119a00f83b1043c9729"
     ]
    },
    "id": "a23e9011",
    "outputId": "8dc0656d-825f-4f38-b10e-e3cfa208a820"
   },
   "outputs": [
    {
     "data": {
      "application/vnd.jupyter.widget-view+json": {
       "model_id": "cdee31717bfa472d813b2cb61b2835f9",
       "version_major": 2,
       "version_minor": 0
      },
      "text/plain": [
       "  0%|          | 0/78588 [00:00<?, ?it/s]"
      ]
     },
     "metadata": {},
     "output_type": "display_data"
    },
    {
     "name": "stdout",
     "output_type": "stream",
     "text": [
      "Replace censored words: 115.4821 seconds\n"
     ]
    },
    {
     "data": {
      "text/html": [
       "<div>\n",
       "<style scoped>\n",
       "    .dataframe tbody tr th:only-of-type {\n",
       "        vertical-align: middle;\n",
       "    }\n",
       "\n",
       "    .dataframe tbody tr th {\n",
       "        vertical-align: top;\n",
       "    }\n",
       "\n",
       "    .dataframe thead th {\n",
       "        text-align: right;\n",
       "    }\n",
       "</style>\n",
       "<table border=\"1\" class=\"dataframe\">\n",
       "  <thead>\n",
       "    <tr style=\"text-align: right;\">\n",
       "      <th></th>\n",
       "      <th>content</th>\n",
       "      <th>label</th>\n",
       "    </tr>\n",
       "  </thead>\n",
       "  <tbody>\n",
       "    <tr>\n",
       "      <th>0</th>\n",
       "      <td>Of course, America s favorite criminal candidate says America shouldn t believe the infamous hacker who claims he accessed her unsecured server because he s a  criminal.  LOL if anyone can spot a criminal, it s Crooked Hillary The infamous Romanian hacker known as  Guccifer,  speaking exclusively with Fox News, claimed he easily   and repeatedly   breached former Secretary of State Hillary Clinton s personal email server in early 2013. For me, it was easy   easy for me, for everybody,  Marcel Lehel Lazar, who goes by the moniker  Guccifer,  told Fox News from a Virginia jail where he is being held.Guccifer s potential role in the Clinton email investigation was first reported by Fox News last month. The hacker subsequently claimed he was able to access the server   and provided extensive details about how he did it and what he found   over the course of a half-hour jailhouse interview and a series of recorded phone calls with Fox News.Fox News could not independently confirm Lazar s claims.In response to Lazar s claims, the Clinton campaign issued a statement Wednesday night saying,  There is absolutely no basis to believe the claims made by this criminal from his prison cell. In addition to the fact he offers no proof to support his claims, his descriptions of Secretary Clinton s server are inaccurate. It is unfathomable that he would have gained access to her emails and not leaked them the way he did to his other victims. The former secretary of state s server held nearly 2,200 emails containing information now deemed classified, and another 22 at the  Top Secret  level. Via: FOX News</td>\n",
       "      <td>1</td>\n",
       "    </tr>\n",
       "    <tr>\n",
       "      <th>1</th>\n",
       "      <td>U.S. President Donald Trump expressed satisfaction on Tuesday with the federal response to Hurricane Maria s devastation of Puerto Rico, despite criticism that the government was slow to address the crisis. Trump, who has grappled with hurricanes Harvey, Irma and Maria in the past six weeks, said at a briefing that the disasters were straining the U.S. budget.  I hate to tell you, Puerto Rico, but you ve thrown our budget a little out of whack because we ve spent a lot of money on Puerto Rico,  he said.  And that s fine. We ve saved a lot of lives.  Two weeks after it was hit by the worst hurricane in 90 years, many of Puerto Rico s 3.4 million residents are still struggling without basic necessities. Shortly after Trump left Puerto Rico, Governor Ricardo Rosello said the death toll had risen from 16 to 34.  The U.S. territory s economy already was in recession before Hurricane Maria and its government had filed for bankruptcy in the face of a $72 billion debt load. In an interview with Fox News, Trump said the island s debt would have to be erased.  They owe a lot of money to your friends on Wall Street and we re going to have to wipe that out. You re going to say goodbye to that, I don t know if it s Goldman Sachs but whoever it is you can wave goodbye to that,  Trump said in the interview, conducted while he visited the island. Moody s on Tuesday estimated Maria s total cost to Puerto Rico, including lost output, at $45 billion to $95 billion and significant relief from the federal government would be required. Trump said the federal response to Maria compared favorably with a  real catastrophe like Katrina,  the 2005 storm that swamped Louisiana and Mississippi and killed more than 1,800.  What s happened in terms of recovery, in terms of saving lives</td>\n",
       "      <td>0</td>\n",
       "    </tr>\n",
       "    <tr>\n",
       "      <th>2</th>\n",
       "      <td>Romania s lower house of parliament approved on Wednesday legislation to overhaul its justice system, legislation that the European Commission, the U.S. State Department and the country s president have criticized as threatening judicial independence. Two bills, and a third which was approved on Monday, are part of a wider overhaul that has triggered street protests across the country in recent weeks and which thousands of magistrates oppose The European Union state, ranked as one of the bloc s most corrupt, joins its eastern European peers Hungary and Poland, where populist leaders are also trying to control the judiciary, defying EU concerns over the rule of law. Romania s ruling Social Democrats, which command an overwhelming majority in parliament together with their junior coalition partner, ALDE, have so far ignored the protesters. Changes approved on Wednesday include setting up a special unit to investigate criminal offences committed by judges and prosecutors. This makes magistrates the only professional category with a system dedicated to investigating them. The bills also enforce more restrictive criteria for prosecutors seeking to join anti-corruption and anti-organized- crime prosecuting units. On Monday, lawmakers approved a bill that changes the way magistrates are supervised and amends the definition of prosecutor activity to exclude the word  independent .  The three bills must now be approved by the senate, with a vote expected next week. Opposition parties and President Klaus Iohannis could also challenge the bills at the Constitutional Court, but the outcome of that was unclear. The ruling Social Democrats also plan changes to the country s criminal code. In November, the European Commission said justice reform has stagnated this year and challenges to judicial independence remain a persistent source of concern. At the start of this year, attempts by the Social Democrats to decriminalize several corruption offences triggered the country s largest street protests in decades. Romanian prosecutors have investigated thousands of public officials in an unprecedented crackdown on top-level graft. The lower house and senate speakers are both currently on trial in separate cases.</td>\n",
       "      <td>0</td>\n",
       "    </tr>\n",
       "  </tbody>\n",
       "</table>\n",
       "</div>"
      ],
      "text/plain": [
       "                                                                                                                                                                                                                                                                                                                                                                                                                                                                                                                                                                                                                                                                                                                                                                                                                                                                                                                                                                                                                                                                                                                                                                                                                                                                                                                                                                                                                                                                                                                                                                                                                                                                                                                                                                                                                                                                                                                                                                                                                                                                                                                                                                                                                                                                                                                  content  \\\n",
       "0                                                                                                                                                                                                                                                                                                                                                                                                                                                                                                                                                                                                                                           Of course, America s favorite criminal candidate says America shouldn t believe the infamous hacker who claims he accessed her unsecured server because he s a  criminal.  LOL if anyone can spot a criminal, it s Crooked Hillary The infamous Romanian hacker known as  Guccifer,  speaking exclusively with Fox News, claimed he easily   and repeatedly   breached former Secretary of State Hillary Clinton s personal email server in early 2013. For me, it was easy   easy for me, for everybody,  Marcel Lehel Lazar, who goes by the moniker  Guccifer,  told Fox News from a Virginia jail where he is being held.Guccifer s potential role in the Clinton email investigation was first reported by Fox News last month. The hacker subsequently claimed he was able to access the server   and provided extensive details about how he did it and what he found   over the course of a half-hour jailhouse interview and a series of recorded phone calls with Fox News.Fox News could not independently confirm Lazar s claims.In response to Lazar s claims, the Clinton campaign issued a statement Wednesday night saying,  There is absolutely no basis to believe the claims made by this criminal from his prison cell. In addition to the fact he offers no proof to support his claims, his descriptions of Secretary Clinton s server are inaccurate. It is unfathomable that he would have gained access to her emails and not leaked them the way he did to his other victims. The former secretary of state s server held nearly 2,200 emails containing information now deemed classified, and another 22 at the  Top Secret  level. Via: FOX News   \n",
       "1                                                                                                                                                                                                                                                                                                                                                                                                                                                               U.S. President Donald Trump expressed satisfaction on Tuesday with the federal response to Hurricane Maria s devastation of Puerto Rico, despite criticism that the government was slow to address the crisis. Trump, who has grappled with hurricanes Harvey, Irma and Maria in the past six weeks, said at a briefing that the disasters were straining the U.S. budget.  I hate to tell you, Puerto Rico, but you ve thrown our budget a little out of whack because we ve spent a lot of money on Puerto Rico,  he said.  And that s fine. We ve saved a lot of lives.  Two weeks after it was hit by the worst hurricane in 90 years, many of Puerto Rico s 3.4 million residents are still struggling without basic necessities. Shortly after Trump left Puerto Rico, Governor Ricardo Rosello said the death toll had risen from 16 to 34.  The U.S. territory s economy already was in recession before Hurricane Maria and its government had filed for bankruptcy in the face of a $72 billion debt load. In an interview with Fox News, Trump said the island s debt would have to be erased.  They owe a lot of money to your friends on Wall Street and we re going to have to wipe that out. You re going to say goodbye to that, I don t know if it s Goldman Sachs but whoever it is you can wave goodbye to that,  Trump said in the interview, conducted while he visited the island. Moody s on Tuesday estimated Maria s total cost to Puerto Rico, including lost output, at $45 billion to $95 billion and significant relief from the federal government would be required. Trump said the federal response to Maria compared favorably with a  real catastrophe like Katrina,  the 2005 storm that swamped Louisiana and Mississippi and killed more than 1,800.  What s happened in terms of recovery, in terms of saving lives   \n",
       "2  Romania s lower house of parliament approved on Wednesday legislation to overhaul its justice system, legislation that the European Commission, the U.S. State Department and the country s president have criticized as threatening judicial independence. Two bills, and a third which was approved on Monday, are part of a wider overhaul that has triggered street protests across the country in recent weeks and which thousands of magistrates oppose The European Union state, ranked as one of the bloc s most corrupt, joins its eastern European peers Hungary and Poland, where populist leaders are also trying to control the judiciary, defying EU concerns over the rule of law. Romania s ruling Social Democrats, which command an overwhelming majority in parliament together with their junior coalition partner, ALDE, have so far ignored the protesters. Changes approved on Wednesday include setting up a special unit to investigate criminal offences committed by judges and prosecutors. This makes magistrates the only professional category with a system dedicated to investigating them. The bills also enforce more restrictive criteria for prosecutors seeking to join anti-corruption and anti-organized- crime prosecuting units. On Monday, lawmakers approved a bill that changes the way magistrates are supervised and amends the definition of prosecutor activity to exclude the word  independent .  The three bills must now be approved by the senate, with a vote expected next week. Opposition parties and President Klaus Iohannis could also challenge the bills at the Constitutional Court, but the outcome of that was unclear. The ruling Social Democrats also plan changes to the country s criminal code. In November, the European Commission said justice reform has stagnated this year and challenges to judicial independence remain a persistent source of concern. At the start of this year, attempts by the Social Democrats to decriminalize several corruption offences triggered the country s largest street protests in decades. Romanian prosecutors have investigated thousands of public officials in an unprecedented crackdown on top-level graft. The lower house and senate speakers are both currently on trial in separate cases.   \n",
       "\n",
       "   label  \n",
       "0      1  \n",
       "1      0  \n",
       "2      0  "
      ]
     },
     "execution_count": 6,
     "metadata": {},
     "output_type": "execute_result"
    }
   ],
   "source": [
    "substitutions = {\n",
    "    'f*ckton':'fuckton', 'sh**tting':'shitting', 'sh*tter':'shitter', 'p****y':'pussy', 'f*ckballs':'fuckballs', 'ni**ers':'niggers', 'motherf***er':'motherfucker', 'ni***r':'nigger', 'c*m':'cum', 'f*ckups':'fuckups', 'dumbsh*t':'dumbshit', 'f***ing':'fucking','n****r':'nigger', 'sh*tty':'shitty', 'n***ers':'niggers', 'p*ssing':'pissing', 'p***ed':'pissed', 'motherf*ckers':'motherfuckers','chickensh*t':'chickenshit', 'f***er':'fucker', 'b*tches':'bitches', 'f*****g':'fucking', 'd**ks':'dicks', 'p*ssies':'pussies','n***a':'nigga', 'f*cks':'fucks', 'f**king':'fucking', 'f**ker':'fucker', 'sh*tting':'shitting', 'bulls*it':'bullshit', 's*it':'shit','f*ckface':'fuckface', 'wh*res':'whores', 'd*ick':'dick', 'sh*t':'shit', 'h*mos':'homos', 'sh*tstorm':'shitstorm', 'b*tch':'bitch','f*cking':'fucking', 's*ithead':'shithead', 'tr*mp':'trump', 'a*shole':'asshole', 'f*cker':'fucker', 'a**hole':'asshole','a*ses':'asses', 'assh*le':'asshole', 'g*damn':'goddamn', 'f*cktruck':'fucktruck', 'p***y':'pussy', 'f**k':'fuck', 'as*hole':'asshole','mother*cker':'motherfucker', 'f****ts':'faggots', 'f*g':'fag', 'g**damned':'goddamned', 'f*ckers':'fuckers', 'ratf*cking':'ratfucking','apesh**t':'apeshit', 'sh*tshow':'shitshow', 'c*ckblocking':'cockblocking', 'f*ker':'fucker', 'n**ger':'nigger', 'p*ssyhats':'pussyhats','batsh*t':'batshit', 'nostradumb*ss':'nostradumbass', 'f**cking':'fucking', 'a**es':'asses', 'n*ggers':'niggers', 'buls**t':'bullshit','ni**er':'nigger', 'f*ckin':'fucking', 'dipsh*t':'dipshit', 'f**ckers':'fuckers', 'a**holes':'assholes', 'shi**y':'shitty', 'g**damn':'goddamn','sh*tbag':'shitbag', 'b*stard':'bastard', 'd*ldo':'dildo', 'r*pe':'rape', 'p*nis':'penis', 'd*k':'dick', 'f*ckwits':'fuckwits','f*gs':'fags', 'm*******rs':'motherfuckers', 'magash*ts':'magashits', 'g*d':'god', 'f*ckabee':'fuckabee', 'n**gadown':'niggadown','n*gger':'nigger', 'n**ers':'niggers', 'bi*ch':'bitch', 'bulls*t':'bullshit', 'n*ggas':'niggas', 'f****d':'fucked', 'scr*wed':'screwed','dumbf*ckery':'dumbfuckery', 'motherf**king':'motherfucking', 's**t':'shit', 'bast*rds':'bastards', 'f*fuckers':'fuckers', 'sh*ts':'shits','f**kers':'fuckers', 'c**k':'cock', 'a**s':'ass', 'n***gaguns':'niggaguns', 'n*gga':'nigga', 'a**holery':'assholery','apesh*t':'apeshit', 'sl*t':'slut', 'sh*tstain':'shitstain', 'dumb*ss':'dumbass', 'f**got':'faggot', 'horses**t':'horseshit', 'f*ggoty':'faggoty', 'sh*tfest':'shitfest', 'p*ssed':'pissed', 'd*ldos':'dildos', 'fu**ing':'fucking', 'w***ers':'wankers','f***it':'fuck it', 'cough*hillaryclinton':'cough hillary clinton', 'bullish*t':'bullshit', 'c*ck':'cock', 'p*ss':'piss','q****s':'queers', 'd**k':'dick','t*t':'tit', 'bulls**t':'bullshit', 'fu*king':'fucking', 'a*s':'ass', 'f**ked':'fucked','c*cksucker':'cocksucker', 'sh*tgibbon':'shitgibbon', 'c*nts':'cunts', 'f*ggot':'faggot', 's*x':'sex', 'd*cks':'dicks','n***gers':'niggers', 'pu**ygate':'pussygate', 'pu**y':'pussy', 'f*cked':'fucked', 'f*ggots':'faggots', 'bit*h':'bitch','c**kblocking':'cockblocking', 'bullsh*tter':'bullshitter', 'bullsh*t':'bullshit', 'f*ck':'fuck', 'p*ssygrabber':'pussygrabber','ratf*cker':'ratfucker', 'd*ck':'dick', 'd*uche':'douche', 'motherf*cking':'motherfucking', 'n*****rs':'niggers', 'f***ed':'fucked','f**ck':'fuck', 's*xual':'sexual', 'b*tched':'bitched', 'g*ddamn':'goddamn', 'f*ckup':'fuckup', 'f***in':'fucking','c*ckblocked':'cockblocked', 'bad*ss':'badass', 'nig*a':'nigga', 's*ck':'sick', 'sh*tless':'shitless', 'motherf*cker':'motherfucker','n****rs':'niggers', 'b***s':'bitches', 'sl*tshaming':'slutshaming', 'sh*tcanned':'shitcanned', 'f**ks':'fucks','c*nt':'cubt', 'b**tard,':'bastard', 'n**gers':'niggers', 'p*rnography':'pornography',  'clusterf*ck':'ckusterfuck','d*ckbags':'dickbags', 'h*ll':'hell','b*tching':'bitching', 'horseshi*t':'horseshit', 'f*ckability':'fuckability', 'ni*gers':'niggers','f***king':'fucking', 'p*ssy':'pussy', 'horsesh*t':'horseshit', 'f*cksticks':'fucksticks', 'wh*re':'whore', 'b**ch':'bitch','bullsh**t':'bullshit', 'n*****s':'niggers', 'f*ckery':'fuckery', 'd*mn':'damn', 'n***er':'nigger', 'dipsh*ts':'dipshits','dumbf*ck':'dumbfuck', 'p*rn':'porn'\n",
    "}\n",
    "\n",
    "pattern = re.compile(\"|\".join(map(re.escape, substitutions.keys())), flags=re.IGNORECASE)\n",
    "\n",
    "def replace_censored_words(text, substitutions):\n",
    "    \"\"\"\n",
    "    Replaces censored words in the given text based on the substitutions dictionary.\n",
    "\n",
    "    Parameters:\n",
    "    ----------\n",
    "    text : str\n",
    "        The input text to process.\n",
    "    substitutions : dict\n",
    "        A dictionary where keys are censored words and values are their uncensored equivalents.\n",
    "\n",
    "    Returns:\n",
    "    -------\n",
    "    str\n",
    "        The text with censored words replaced.\n",
    "    \"\"\"\n",
    "    #return pattern.sub(lambda m: substitutions[m.group(0).lower()], text)\n",
    "    for censored, uncensored in substitutions.items():\n",
    "        text = text.replace(censored, uncensored)\n",
    "    return text\n",
    "\n",
    "start_time = time.time()\n",
    "#replace the censored words\n",
    "df['content'] = df['content'].progress_apply(lambda x: replace_censored_words(x, substitutions))\n",
    "#take care of the other random asterixes by replacing with a space e.g. \"language***killer\" and \"2016*you\"\n",
    "df['content'] = df['content'].str.replace(r'\\*', ' ', regex=True)\n",
    "#remove twitter noise (any time twitter is repeated 3 or more times in a row)\n",
    "df['content'] = df['content'].str.replace(r'(?i)(?:twitter){3,}', ' ', regex=True)\n",
    "#print time taken\n",
    "print(\"Replace censored words: {:.4f} seconds\".format(time.time() - start_time))\n",
    "#quick check\n",
    "df.head(3)"
   ]
  },
  {
   "cell_type": "markdown",
   "id": "489e6344",
   "metadata": {
    "id": "489e6344"
   },
   "source": [
    "### Text normalisation\n",
    "I am using the Textacy library to perform some important preprocessing steps such as standardising unicode and removing URLs."
   ]
  },
  {
   "cell_type": "code",
   "execution_count": 7,
   "id": "4da4130e",
   "metadata": {
    "id": "4da4130e"
   },
   "outputs": [],
   "source": [
    "basic_clean =  preprocessing.make_pipeline(\n",
    "    #normalise unicode\n",
    "    preprocessing.normalize.unicode,\n",
    "    #fix hyphenated words\n",
    "    preprocessing.normalize.hyphenated_words,\n",
    "    #handle differemt types of quotation marks\n",
    "    preprocessing.normalize.quotation_marks,\n",
    "    #normalise whitespace\n",
    "    preprocessing.normalize.whitespace,\n",
    "    #remove any HTML tags that may have snuck in\n",
    "    preprocessing.remove.html_tags,\n",
    "    #get rid of URLs\n",
    "    preprocessing.replace.urls,\n",
    "    #get rid of Twitter handles\n",
    "    preprocessing.replace.user_handles,\n",
    "    #replace currency symbols with '__CUR__'\n",
    "    preprocessing.replace.currency_symbols,\n",
    "    #get rid of brackets\n",
    "    preprocessing.remove.brackets\n",
    ")"
   ]
  },
  {
   "cell_type": "code",
   "execution_count": 8,
   "id": "3fa98bc9",
   "metadata": {
    "colab": {
     "base_uri": "https://localhost:8080/",
     "height": 801,
     "referenced_widgets": [
      "8b394cded28441e1b703658eddade4a7",
      "2afa685a1f2340a7a567ef1335144ea1",
      "6542a71ce1634f958b60ff851eee15c3",
      "e4b6dbdc37004964b8ab7a676eb16e41",
      "9d83c48596774357874c6f6922f7639e",
      "3fc7b55fc6c94658a71efcfebd481e36",
      "6c461ae2ac6748ca806d94b1b6e6b57b",
      "2cba372ef2d741f7bd05c00b82c2d4e7",
      "089ca46a36ad4820ae344000f2a765c4",
      "a9045380051d4b48805535f6c46687f6",
      "c6c55437a0b84151a1bb4c24ffd0659a"
     ]
    },
    "id": "3fa98bc9",
    "outputId": "567fcf8e-6c68-4826-8f4b-c3ec2a6d02af"
   },
   "outputs": [
    {
     "data": {
      "application/vnd.jupyter.widget-view+json": {
       "model_id": "459754c5d13b4789b4f34394c43356c4",
       "version_major": 2,
       "version_minor": 0
      },
      "text/plain": [
       "  0%|          | 0/78588 [00:00<?, ?it/s]"
      ]
     },
     "metadata": {},
     "output_type": "display_data"
    },
    {
     "name": "stdout",
     "output_type": "stream",
     "text": [
      "Basic clean: 308.4778 seconds\n"
     ]
    },
    {
     "data": {
      "text/html": [
       "<div>\n",
       "<style scoped>\n",
       "    .dataframe tbody tr th:only-of-type {\n",
       "        vertical-align: middle;\n",
       "    }\n",
       "\n",
       "    .dataframe tbody tr th {\n",
       "        vertical-align: top;\n",
       "    }\n",
       "\n",
       "    .dataframe thead th {\n",
       "        text-align: right;\n",
       "    }\n",
       "</style>\n",
       "<table border=\"1\" class=\"dataframe\">\n",
       "  <thead>\n",
       "    <tr style=\"text-align: right;\">\n",
       "      <th></th>\n",
       "      <th>content</th>\n",
       "      <th>label</th>\n",
       "    </tr>\n",
       "  </thead>\n",
       "  <tbody>\n",
       "    <tr>\n",
       "      <th>0</th>\n",
       "      <td>Of course, America s favorite criminal candidate says America shouldn t believe the infamous hacker who claims he accessed her unsecured server because he s a criminal. LOL if anyone can spot a criminal, it s Crooked Hillary The infamous Romanian hacker known as Guccifer, speaking exclusively with Fox News, claimed he easily and repeatedly breached former Secretary of State Hillary Clinton s personal email server in early 2013. For me, it was easy easy for me, for everybody, Marcel Lehel Lazar, who goes by the moniker Guccifer, told Fox News from a Virginia jail where he is being held.Guccifer s potential role in the Clinton email investigation was first reported by Fox News last month. The hacker subsequently claimed he was able to access the server and provided extensive details about how he did it and what he found over the course of a half-hour jailhouse interview and a series of recorded phone calls with Fox News.Fox News could not independently confirm Lazar s claims.In response to Lazar s claims, the Clinton campaign issued a statement Wednesday night saying, There is absolutely no basis to believe the claims made by this criminal from his prison cell. In addition to the fact he offers no proof to support his claims, his descriptions of Secretary Clinton s server are inaccurate. It is unfathomable that he would have gained access to her emails and not leaked them the way he did to his other victims. The former secretary of state s server held nearly 2,200 emails containing information now deemed classified, and another 22 at the Top Secret level. Via: FOX News</td>\n",
       "      <td>1</td>\n",
       "    </tr>\n",
       "    <tr>\n",
       "      <th>1</th>\n",
       "      <td>U.S. President Donald Trump expressed satisfaction on Tuesday with the federal response to Hurricane Maria s devastation of Puerto Rico, despite criticism that the government was slow to address the crisis. Trump, who has grappled with hurricanes Harvey, Irma and Maria in the past six weeks, said at a briefing that the disasters were straining the U.S. budget. I hate to tell you, Puerto Rico, but you ve thrown our budget a little out of whack because we ve spent a lot of money on Puerto Rico, he said. And that s fine. We ve saved a lot of lives. Two weeks after it was hit by the worst hurricane in 90 years, many of Puerto Rico s 3.4 million residents are still struggling without basic necessities. Shortly after Trump left Puerto Rico, Governor Ricardo Rosello said the death toll had risen from 16 to 34. The U.S. territory s economy already was in recession before Hurricane Maria and its government had filed for bankruptcy in the face of a _CUR_72 billion debt load. In an interview with Fox News, Trump said the island s debt would have to be erased. They owe a lot of money to your friends on Wall Street and we re going to have to wipe that out. You re going to say goodbye to that, I don t know if it s Goldman Sachs but whoever it is you can wave goodbye to that, Trump said in the interview, conducted while he visited the island. Moody s on Tuesday estimated Maria s total cost to Puerto Rico, including lost output, at _CUR_45 billion to _CUR_95 billion and significant relief from the federal government would be required. Trump said the federal response to Maria compared favorably with a real catastrophe like Katrina, the 2005 storm that swamped Louisiana and Mississippi and killed more than 1,800. What s happened in terms of recovery, in terms of saving lives</td>\n",
       "      <td>0</td>\n",
       "    </tr>\n",
       "    <tr>\n",
       "      <th>2</th>\n",
       "      <td>Romania s lower house of parliament approved on Wednesday legislation to overhaul its justice system, legislation that the European Commission, the U.S. State Department and the country s president have criticized as threatening judicial independence. Two bills, and a third which was approved on Monday, are part of a wider overhaul that has triggered street protests across the country in recent weeks and which thousands of magistrates oppose The European Union state, ranked as one of the bloc s most corrupt, joins its eastern European peers Hungary and Poland, where populist leaders are also trying to control the judiciary, defying EU concerns over the rule of law. Romania s ruling Social Democrats, which command an overwhelming majority in parliament together with their junior coalition partner, ALDE, have so far ignored the protesters. Changes approved on Wednesday include setting up a special unit to investigate criminal offences committed by judges and prosecutors. This makes magistrates the only professional category with a system dedicated to investigating them. The bills also enforce more restrictive criteria for prosecutors seeking to join anti-corruption and anti-organizedcrime prosecuting units. On Monday, lawmakers approved a bill that changes the way magistrates are supervised and amends the definition of prosecutor activity to exclude the word independent . The three bills must now be approved by the senate, with a vote expected next week. Opposition parties and President Klaus Iohannis could also challenge the bills at the Constitutional Court, but the outcome of that was unclear. The ruling Social Democrats also plan changes to the country s criminal code. In November, the European Commission said justice reform has stagnated this year and challenges to judicial independence remain a persistent source of concern. At the start of this year, attempts by the Social Democrats to decriminalize several corruption offences triggered the country s largest street protests in decades. Romanian prosecutors have investigated thousands of public officials in an unprecedented crackdown on top-level graft. The lower house and senate speakers are both currently on trial in separate cases.</td>\n",
       "      <td>0</td>\n",
       "    </tr>\n",
       "  </tbody>\n",
       "</table>\n",
       "</div>"
      ],
      "text/plain": [
       "                                                                                                                                                                                                                                                                                                                                                                                                                                                                                                                                                                                                                                                                                                                                                                                                                                                                                                                                                                                                                                                                                                                                                                                                                                                                                                                                                                                                                                                                                                                                                                                                                                                                                                                                                                                                                                                                                                                                                                                                                                                                                                                                                                                                                                                                                                              content  \\\n",
       "0                                                                                                                                                                                                                                                                                                                                                                                                                                                                                                                                                                                                                                                           Of course, America s favorite criminal candidate says America shouldn t believe the infamous hacker who claims he accessed her unsecured server because he s a criminal. LOL if anyone can spot a criminal, it s Crooked Hillary The infamous Romanian hacker known as Guccifer, speaking exclusively with Fox News, claimed he easily and repeatedly breached former Secretary of State Hillary Clinton s personal email server in early 2013. For me, it was easy easy for me, for everybody, Marcel Lehel Lazar, who goes by the moniker Guccifer, told Fox News from a Virginia jail where he is being held.Guccifer s potential role in the Clinton email investigation was first reported by Fox News last month. The hacker subsequently claimed he was able to access the server and provided extensive details about how he did it and what he found over the course of a half-hour jailhouse interview and a series of recorded phone calls with Fox News.Fox News could not independently confirm Lazar s claims.In response to Lazar s claims, the Clinton campaign issued a statement Wednesday night saying, There is absolutely no basis to believe the claims made by this criminal from his prison cell. In addition to the fact he offers no proof to support his claims, his descriptions of Secretary Clinton s server are inaccurate. It is unfathomable that he would have gained access to her emails and not leaked them the way he did to his other victims. The former secretary of state s server held nearly 2,200 emails containing information now deemed classified, and another 22 at the Top Secret level. Via: FOX News   \n",
       "1                                                                                                                                                                                                                                                                                                                                                                                                                                                         U.S. President Donald Trump expressed satisfaction on Tuesday with the federal response to Hurricane Maria s devastation of Puerto Rico, despite criticism that the government was slow to address the crisis. Trump, who has grappled with hurricanes Harvey, Irma and Maria in the past six weeks, said at a briefing that the disasters were straining the U.S. budget. I hate to tell you, Puerto Rico, but you ve thrown our budget a little out of whack because we ve spent a lot of money on Puerto Rico, he said. And that s fine. We ve saved a lot of lives. Two weeks after it was hit by the worst hurricane in 90 years, many of Puerto Rico s 3.4 million residents are still struggling without basic necessities. Shortly after Trump left Puerto Rico, Governor Ricardo Rosello said the death toll had risen from 16 to 34. The U.S. territory s economy already was in recession before Hurricane Maria and its government had filed for bankruptcy in the face of a _CUR_72 billion debt load. In an interview with Fox News, Trump said the island s debt would have to be erased. They owe a lot of money to your friends on Wall Street and we re going to have to wipe that out. You re going to say goodbye to that, I don t know if it s Goldman Sachs but whoever it is you can wave goodbye to that, Trump said in the interview, conducted while he visited the island. Moody s on Tuesday estimated Maria s total cost to Puerto Rico, including lost output, at _CUR_45 billion to _CUR_95 billion and significant relief from the federal government would be required. Trump said the federal response to Maria compared favorably with a real catastrophe like Katrina, the 2005 storm that swamped Louisiana and Mississippi and killed more than 1,800. What s happened in terms of recovery, in terms of saving lives   \n",
       "2  Romania s lower house of parliament approved on Wednesday legislation to overhaul its justice system, legislation that the European Commission, the U.S. State Department and the country s president have criticized as threatening judicial independence. Two bills, and a third which was approved on Monday, are part of a wider overhaul that has triggered street protests across the country in recent weeks and which thousands of magistrates oppose The European Union state, ranked as one of the bloc s most corrupt, joins its eastern European peers Hungary and Poland, where populist leaders are also trying to control the judiciary, defying EU concerns over the rule of law. Romania s ruling Social Democrats, which command an overwhelming majority in parliament together with their junior coalition partner, ALDE, have so far ignored the protesters. Changes approved on Wednesday include setting up a special unit to investigate criminal offences committed by judges and prosecutors. This makes magistrates the only professional category with a system dedicated to investigating them. The bills also enforce more restrictive criteria for prosecutors seeking to join anti-corruption and anti-organizedcrime prosecuting units. On Monday, lawmakers approved a bill that changes the way magistrates are supervised and amends the definition of prosecutor activity to exclude the word independent . The three bills must now be approved by the senate, with a vote expected next week. Opposition parties and President Klaus Iohannis could also challenge the bills at the Constitutional Court, but the outcome of that was unclear. The ruling Social Democrats also plan changes to the country s criminal code. In November, the European Commission said justice reform has stagnated this year and challenges to judicial independence remain a persistent source of concern. At the start of this year, attempts by the Social Democrats to decriminalize several corruption offences triggered the country s largest street protests in decades. Romanian prosecutors have investigated thousands of public officials in an unprecedented crackdown on top-level graft. The lower house and senate speakers are both currently on trial in separate cases.   \n",
       "\n",
       "   label  \n",
       "0      1  \n",
       "1      0  \n",
       "2      0  "
      ]
     },
     "execution_count": 8,
     "metadata": {},
     "output_type": "execute_result"
    }
   ],
   "source": [
    "start_time = time.time()\n",
    "df['content'] = df['content'].progress_apply(basic_clean)\n",
    "print(\"Basic clean: {:.4f} seconds\".format(time.time() - start_time))\n",
    "df.head(3)"
   ]
  },
  {
   "cell_type": "markdown",
   "id": "1089b620",
   "metadata": {
    "id": "1089b620"
   },
   "source": [
    "### Calculate readability metrics\n",
    "Readability metrics help us to understand the complexity of the text. We can see that there are some differences between the misinformation and real news with regards to readability. \"True\" news (class 0) has a slightly lower average Flesch score than \"fake\" news (class 1), indicating that the fake news is easier to read on average. Looking at the spread for each class - the real news content has a relatively tight range, while the texts in the other class have more variance as well as some outliers."
   ]
  },
  {
   "cell_type": "code",
   "execution_count": 9,
   "id": "386f7bbc",
   "metadata": {
    "id": "386f7bbc"
   },
   "outputs": [],
   "source": [
    "df['word_count'] = df['content'].apply(lambda x: len(x.split()))\n",
    "df['sentence_count'] = df['content'].apply(lambda x: (textstat.sentence_count(x)))\n",
    "df['flesch_reading_ease'] = df['content'].apply(lambda x: textstat.flesch_reading_ease(x))"
   ]
  },
  {
   "cell_type": "code",
   "execution_count": 10,
   "id": "7f7ff1a7",
   "metadata": {
    "colab": {
     "base_uri": "https://localhost:8080/",
     "height": 462
    },
    "id": "7f7ff1a7",
    "outputId": "697d07ac-a297-438f-e8c8-2e7499777e8e"
   },
   "outputs": [
    {
     "data": {
      "image/png": "[encoded data removed]",
      "text/plain": [
       "<Figure size 640x480 with 1 Axes>"
      ]
     },
     "metadata": {},
     "output_type": "display_data"
    }
   ],
   "source": [
    "df.boxplot(column='flesch_reading_ease', by='label')\n",
    "plt.xlabel('Label')\n",
    "plt.ylabel('Flesch Reading Ease')\n",
    "plt.title('Flesch Reading Ease by Label')\n",
    "plt.suptitle('')\n",
    "plt.show()"
   ]
  },
  {
   "cell_type": "markdown",
   "id": "9b3f063d",
   "metadata": {
    "id": "9b3f063d"
   },
   "source": [
    "### Stemming/Lemmatisation\n",
    "Stemming and lemmatisation are standard text normalisation techniques in natural language processing. The purpose of stemming and lemmatisation is to reduce words to their root or base form. This helps improve the accuracy of text processing because it reduces the amount of word variance. The major difference between the two techniques is that stemming reduces words to stems, which may or may not be valid, while lemmatisation reduces the words to linguistically valid lemmas. For example, the word \"nothing\" is reduced to \"noth\" with a Porter stemmer, while it remains as \"nothing\" using the WordNet lemmatizer. Here I am testing the results of four different techniques to see which is the most appropriate for my data:\n",
    "- Porter stemmer\n",
    "- Snowball stemmer\n",
    "- WordNet lemmatiser\n",
    "- WordNet lemmatiser with part of speech (POS) tagging."
   ]
  },
  {
   "cell_type": "code",
   "execution_count": 11,
   "id": "5f32f66b",
   "metadata": {
    "id": "5f32f66b"
   },
   "outputs": [],
   "source": [
    "#get a random sample of 10 articles\n",
    "df_sample = df.sample(n=10, random_state=999).copy()\n",
    "#don't need class label\n",
    "df_sample.drop(columns=['label'], inplace=True)\n",
    "\n",
    "#initialize the stemmers and lemmatizer\n",
    "porter = PorterStemmer()\n",
    "snowball = SnowballStemmer(\"english\")\n",
    "lemmatizer = WordNetLemmatizer()\n",
    "\n",
    "#POS tagging code\n",
    "def get_wordnet_pos(tag):\n",
    "    if tag.startswith('J'):\n",
    "        return wordnet.ADJ\n",
    "    elif tag.startswith('V'):\n",
    "        return wordnet.VERB\n",
    "    elif tag.startswith('N'):\n",
    "        return wordnet.NOUN\n",
    "    elif tag.startswith('R'):\n",
    "        return wordnet.ADV\n",
    "    else:\n",
    "        return wordnet.NOUN\n",
    "\n",
    "# Functions for each of the stemmers/lemmatisers\n",
    "def process_porter(text):\n",
    "    tokens = word_tokenize(text)\n",
    "    return \" \".join([porter.stem(token) for token in tokens])\n",
    "\n",
    "def process_snowball(text):\n",
    "    tokens = word_tokenize(text)\n",
    "    return \" \".join([snowball.stem(token) for token in tokens])\n",
    "\n",
    "def process_wordnet(text):\n",
    "    tokens = word_tokenize(text)\n",
    "    return \" \".join([lemmatizer.lemmatize(token) for token in tokens])\n",
    "\n",
    "def lemmatize_passage(text):\n",
    "    words = word_tokenize(text)\n",
    "    pos_tags = pos_tag(words)\n",
    "    lemmatized_words = [lemmatizer.lemmatize(word, get_wordnet_pos(tag)) for word, tag in pos_tags]\n",
    "    return ' '.join(lemmatized_words)"
   ]
  },
  {
   "cell_type": "code",
   "execution_count": 12,
   "id": "cf722280",
   "metadata": {
    "colab": {
     "base_uri": "https://localhost:8080/",
     "height": 1000
    },
    "id": "cf722280",
    "outputId": "1b47362f-240c-4443-945e-557c561a594c"
   },
   "outputs": [
    {
     "name": "stdout",
     "output_type": "stream",
     "text": [
      "Porter Stemmer time: 0.3436 seconds\n",
      "Snowball Stemmer time: 0.1532 seconds\n",
      "WordNet Lemmatizer time: 9.3133 seconds\n",
      "WordNet Lemmatizer with POS tagging time: 0.9117 seconds\n"
     ]
    },
    {
     "data": {
      "text/html": [
       "<div>\n",
       "<style scoped>\n",
       "    .dataframe tbody tr th:only-of-type {\n",
       "        vertical-align: middle;\n",
       "    }\n",
       "\n",
       "    .dataframe tbody tr th {\n",
       "        vertical-align: top;\n",
       "    }\n",
       "\n",
       "    .dataframe thead th {\n",
       "        text-align: right;\n",
       "    }\n",
       "</style>\n",
       "<table border=\"1\" class=\"dataframe\">\n",
       "  <thead>\n",
       "    <tr style=\"text-align: right;\">\n",
       "      <th></th>\n",
       "      <th>content</th>\n",
       "      <th>word_count</th>\n",
       "      <th>sentence_count</th>\n",
       "      <th>flesch_reading_ease</th>\n",
       "      <th>porter</th>\n",
       "      <th>snowball</th>\n",
       "      <th>wordnet</th>\n",
       "      <th>wordnetPOS</th>\n",
       "    </tr>\n",
       "  </thead>\n",
       "  <tbody>\n",
       "    <tr>\n",
       "      <th>23724</th>\n",
       "      <td>Among the senseless beatings inflicted on reality during the presidential debate on Monday night was the discussion of New York City's tactics. Donald J. Trump attributed a nonexistent increase in murder to actions that never happened, namely, the ending of the practice by, variously, \"a judge, who was a very judge,\" and the \"current mayor. \" This was multilayered fiction. Murder declined. A judge did not end . Neither did the current mayor. In fact, the Police Department began to drastically curtail its use in 2012, under the administration of Mayor Michael R. Bloomberg, an independent. This is well documented but only lightly noticed. On July 9, 2012, an editorial in The New York Post warned that the reduction in its use would lead to \"more blood in the street. \" By the way, did more blood run in the street? No, less blood did. Murder is down 32 percent since 2011, the last year of the old era, having dropped to 352 homicides in 2015 from 515 in 2011. In the same period, stops were down by about 97 percent, said J. Peter Donald, a spokesman for the department. During the debate, Hillary Clinton, the Democratic nominee, alluded to a few of these numbers. Mr. Trump, her Republican opponent, started shouting. \"Under the current mayor, crime has continued to drop, including murders,\" she said. \"So there is — — \" \"No, you're wrong,\" Mr. Trump interjected. \"You're wrong. \" \"No, I'm not,\" Mrs. Clinton said. \"Murders are up, all right,\" Mr. Trump said. \"You check it. \" All right, as Mr. Trump said, let's check it. A Google search for \"Historical New York City Crime Data\" will bring you to a site with charts of serious felonies. Frisks went down. So has murder, a steady decline that has continued, with slight annual variations, through this year. In the used by Mr. Trump, those details land upside down. Also, he repeated a more common mistake about the decline of the tactics, attributing it to a federal judge hearing a lawsuit against the city, and to Mayor Bill de Blasio, a Democrat, who succeeded Mr. Bloomberg in 2014. \"It was terminated by the current mayor,\" Mr. Trump said. Actually, no. Last year, the city police conducted 22, 939 stops, or about 63 a day. So was not terminated by Mr. de Blasio, or by anyone else for that matter. It's true that the use of the tactic has declined. During the mayoralty of Mr. Bloomberg, the number of reported stops skyrocketed, but then was scaled back as the city faced pressure from the litigation, brought by the New York Civil Liberties Union and the Center for Constitutional Rights. By the end of 2013, the year Shira A. Scheindlin, the federal judge hearing the case, ruled that the city's wholesale search practices violated the Constitution, the number of stops had declined by 72 percent from its peak in 2011. \"But had a tremendous impact on the safety of New York City,\" Mr. Trump said during the debate. \"Tremendous beyond belief. So when you say it has no impact, it really did. It had a very, very big impact. \" During the era praised by Mr. Trump, about 90 percent of the people who were stopped were young black or Latino men who had committed no crime whatsoever, according to police data. Of those few who were arrested, the vast majority were charged with nothing more serious than possession of marijuana, not having guns. Hundreds of thousands of innocent people were being stopped every year so that the city could arrest tens of thousands for having weed. Applied almost exclusively to minorities, the tactics in New York became an elephantine government project that wasted time and money, degrading both to the personhood of the men and women who were stopped and to the professionalism of the people doing the stopping. It was poor social hygiene, not defensible as a matter of law or as effective law and order. As Mr. Trump said, it was \"tremendous beyond belief. \" Just so.</td>\n",
       "      <td>677</td>\n",
       "      <td>51</td>\n",
       "      <td>66.64</td>\n",
       "      <td>among the senseless beat inflict on realiti dure the presidenti debat on monday night wa the discuss of new york citi 's tactic . donald j. trump attribut a nonexist increas in murder to action that never happen , name , the end of the practic by , various , `` a judg , who wa a veri judg , '' and the `` current mayor. `` thi wa multilay fiction . murder declin . a judg did not end . neither did the current mayor . in fact , the polic depart began to drastic curtail it use in 2012 , under the administr of mayor michael r. bloomberg , an independ . thi is well document but onli lightli notic . on juli 9 , 2012 , an editori in the new york post warn that the reduct in it use would lead to `` more blood in the street. `` by the way , did more blood run in the street ? no , less blood did . murder is down 32 percent sinc 2011 , the last year of the old era , have drop to 352 homicid in 2015 from 515 in 2011 . in the same period , stop were down by about 97 percent , said j. peter donald , a spokesman for the depart . dure the debat , hillari clinton , the democrat nomine , allud to a few of these number . mr. trump , her republican oppon , start shout . `` under the current mayor , crime ha continu to drop , includ murder , '' she said . `` so there is — — `` `` no , you 're wrong , '' mr. trump interject . `` you 're wrong. `` `` no , i 'm not , '' mrs. clinton said . `` murder are up , all right , '' mr. trump said . `` you check it. `` all right , as mr. trump said , let 's check it . a googl search for `` histor new york citi crime data '' will bring you to a site with chart of seriou feloni . frisk went down . so ha murder , a steadi declin that ha continu , with slight annual variat , through thi year . in the use by mr. trump , those detail land upsid down . also , he repeat a more common mistak about the declin of the tactic , attribut it to a feder judg hear a lawsuit against the citi , and to mayor bill de blasio , a democrat , who succeed mr. bloomberg in 2014 . `` it wa termin by the current mayor , '' mr. trump said . actual , no . last year , the citi polic conduct 22 , 939 stop , or about 63 a day . so wa not termin by mr. de blasio , or by anyon els for that matter . it 's true that the use of the tactic ha declin . dure the mayoralti of mr. bloomberg , the number of report stop skyrocket , but then wa scale back as the citi face pressur from the litig , brought by the new york civil liberti union and the center for constitut right . by the end of 2013 , the year shira a. scheindlin , the feder judg hear the case , rule that the citi 's wholesal search practic violat the constitut , the number of stop had declin by 72 percent from it peak in 2011 . `` but had a tremend impact on the safeti of new york citi , '' mr. trump said dure the debat . `` tremend beyond belief . so when you say it ha no impact , it realli did . it had a veri , veri big impact. `` dure the era prais by mr. trump , about 90 percent of the peopl who were stop were young black or latino men who had commit no crime whatsoev , accord to polic data . of those few who were arrest , the vast major were charg with noth more seriou than possess of marijuana , not have gun . hundr of thousand of innoc peopl were be stop everi year so that the citi could arrest ten of thousand for have weed . appli almost exclus to minor , the tactic in new york becam an elephantin govern project that wast time and money , degrad both to the personhood of the men and women who were stop and to the profession of the peopl do the stop . it wa poor social hygien , not defens as a matter of law or as effect law and order . as mr. trump said , it wa `` tremend beyond belief. `` just so .</td>\n",
       "      <td>among the senseless beat inflict on realiti dure the presidenti debat on monday night was the discuss of new york citi 's tactic . donald j. trump attribut a nonexist increas in murder to action that never happen , name , the end of the practic by , various , `` a judg , who was a veri judg , '' and the `` current mayor. `` this was multilay fiction . murder declin . a judg did not end . neither did the current mayor . in fact , the polic depart began to drastic curtail it use in 2012 , under the administr of mayor michael r. bloomberg , an independ . this is well document but onli light notic . on juli 9 , 2012 , an editori in the new york post warn that the reduct in it use would lead to `` more blood in the street. `` by the way , did more blood run in the street ? no , less blood did . murder is down 32 percent sinc 2011 , the last year of the old era , have drop to 352 homicid in 2015 from 515 in 2011 . in the same period , stop were down by about 97 percent , said j. peter donald , a spokesman for the depart . dure the debat , hillari clinton , the democrat nomine , allud to a few of these number . mr. trump , her republican oppon , start shout . `` under the current mayor , crime has continu to drop , includ murder , '' she said . `` so there is — — `` `` no , you re wrong , '' mr. trump interject . `` you re wrong. `` `` no , i 'm not , '' mrs. clinton said . `` murder are up , all right , '' mr. trump said . `` you check it. `` all right , as mr. trump said , let 's check it . a googl search for `` histor new york citi crime data '' will bring you to a site with chart of serious feloni . frisk went down . so has murder , a steadi declin that has continu , with slight annual variat , through this year . in the use by mr. trump , those detail land upsid down . also , he repeat a more common mistak about the declin of the tactic , attribut it to a feder judg hear a lawsuit against the citi , and to mayor bill de blasio , a democrat , who succeed mr. bloomberg in 2014 . `` it was termin by the current mayor , '' mr. trump said . actual , no . last year , the citi polic conduct 22 , 939 stop , or about 63 a day . so was not termin by mr. de blasio , or by anyon els for that matter . it 's true that the use of the tactic has declin . dure the mayoralti of mr. bloomberg , the number of report stop skyrocket , but then was scale back as the citi face pressur from the litig , brought by the new york civil liberti union and the center for constitut right . by the end of 2013 , the year shira a. scheindlin , the feder judg hear the case , rule that the citi 's wholesal search practic violat the constitut , the number of stop had declin by 72 percent from it peak in 2011 . `` but had a tremend impact on the safeti of new york citi , '' mr. trump said dure the debat . `` tremend beyond belief . so when you say it has no impact , it realli did . it had a veri , veri big impact. `` dure the era prais by mr. trump , about 90 percent of the peopl who were stop were young black or latino men who had commit no crime whatsoev , accord to polic data . of those few who were arrest , the vast major were charg with noth more serious than possess of marijuana , not have gun . hundr of thousand of innoc peopl were be stop everi year so that the citi could arrest ten of thousand for have weed . appli almost exclus to minor , the tactic in new york becam an elephantin govern project that wast time and money , degrad both to the personhood of the men and women who were stop and to the profession of the peopl do the stop . it was poor social hygien , not defens as a matter of law or as effect law and order . as mr. trump said , it was `` tremend beyond belief. `` just so .</td>\n",
       "      <td>Among the senseless beating inflicted on reality during the presidential debate on Monday night wa the discussion of New York City 's tactic . Donald J. Trump attributed a nonexistent increase in murder to action that never happened , namely , the ending of the practice by , variously , `` a judge , who wa a very judge , '' and the `` current mayor. `` This wa multilayered fiction . Murder declined . A judge did not end . Neither did the current mayor . In fact , the Police Department began to drastically curtail it use in 2012 , under the administration of Mayor Michael R. Bloomberg , an independent . This is well documented but only lightly noticed . On July 9 , 2012 , an editorial in The New York Post warned that the reduction in it use would lead to `` more blood in the street. `` By the way , did more blood run in the street ? No , less blood did . Murder is down 32 percent since 2011 , the last year of the old era , having dropped to 352 homicide in 2015 from 515 in 2011 . In the same period , stop were down by about 97 percent , said J. Peter Donald , a spokesman for the department . During the debate , Hillary Clinton , the Democratic nominee , alluded to a few of these number . Mr. Trump , her Republican opponent , started shouting . `` Under the current mayor , crime ha continued to drop , including murder , '' she said . `` So there is — — `` `` No , you 're wrong , '' Mr. Trump interjected . `` You 're wrong. `` `` No , I 'm not , '' Mrs. Clinton said . `` Murders are up , all right , '' Mr. Trump said . `` You check it. `` All right , a Mr. Trump said , let 's check it . A Google search for `` Historical New York City Crime Data '' will bring you to a site with chart of serious felony . Frisks went down . So ha murder , a steady decline that ha continued , with slight annual variation , through this year . In the used by Mr. Trump , those detail land upside down . Also , he repeated a more common mistake about the decline of the tactic , attributing it to a federal judge hearing a lawsuit against the city , and to Mayor Bill de Blasio , a Democrat , who succeeded Mr. Bloomberg in 2014 . `` It wa terminated by the current mayor , '' Mr. Trump said . Actually , no . Last year , the city police conducted 22 , 939 stop , or about 63 a day . So wa not terminated by Mr. de Blasio , or by anyone else for that matter . It 's true that the use of the tactic ha declined . During the mayoralty of Mr. Bloomberg , the number of reported stop skyrocketed , but then wa scaled back a the city faced pressure from the litigation , brought by the New York Civil Liberties Union and the Center for Constitutional Rights . By the end of 2013 , the year Shira A. Scheindlin , the federal judge hearing the case , ruled that the city 's wholesale search practice violated the Constitution , the number of stop had declined by 72 percent from it peak in 2011 . `` But had a tremendous impact on the safety of New York City , '' Mr. Trump said during the debate . `` Tremendous beyond belief . So when you say it ha no impact , it really did . It had a very , very big impact. `` During the era praised by Mr. Trump , about 90 percent of the people who were stopped were young black or Latino men who had committed no crime whatsoever , according to police data . Of those few who were arrested , the vast majority were charged with nothing more serious than possession of marijuana , not having gun . Hundreds of thousand of innocent people were being stopped every year so that the city could arrest ten of thousand for having weed . Applied almost exclusively to minority , the tactic in New York became an elephantine government project that wasted time and money , degrading both to the personhood of the men and woman who were stopped and to the professionalism of the people doing the stopping . It wa poor social hygiene , not defensible a a matter of law or a effective law and order . As Mr. Trump said , it wa `` tremendous beyond belief. `` Just so .</td>\n",
       "      <td>Among the senseless beating inflict on reality during the presidential debate on Monday night be the discussion of New York City 's tactic . Donald J. Trump attribute a nonexistent increase in murder to action that never happen , namely , the end of the practice by , variously , `` a judge , who be a very judge , '' and the `` current mayor. `` This be multilayered fiction . Murder decline . A judge do not end . Neither do the current mayor . In fact , the Police Department begin to drastically curtail it use in 2012 , under the administration of Mayor Michael R. Bloomberg , an independent . This be well document but only lightly notice . On July 9 , 2012 , an editorial in The New York Post warn that the reduction in it use would lead to `` more blood in the street. `` By the way , do more blood run in the street ? No , less blood do . Murder be down 32 percent since 2011 , the last year of the old era , have drop to 352 homicide in 2015 from 515 in 2011 . In the same period , stop be down by about 97 percent , say J. Peter Donald , a spokesman for the department . During the debate , Hillary Clinton , the Democratic nominee , allude to a few of these number . Mr. Trump , her Republican opponent , start shout . `` Under the current mayor , crime have continue to drop , include murder , '' she say . `` So there be — — `` `` No , you 're wrong , '' Mr. Trump interject . `` You 're wrong. `` `` No , I 'm not , '' Mrs. Clinton say . `` Murders be up , all right , '' Mr. Trump say . `` You check it. `` All right , a Mr. Trump say , let 's check it . A Google search for `` Historical New York City Crime Data '' will bring you to a site with chart of serious felony . Frisks go down . So have murder , a steady decline that have continue , with slight annual variation , through this year . In the use by Mr. Trump , those detail land upside down . Also , he repeat a more common mistake about the decline of the tactic , attribute it to a federal judge hear a lawsuit against the city , and to Mayor Bill de Blasio , a Democrat , who succeed Mr. Bloomberg in 2014 . `` It be terminate by the current mayor , '' Mr. Trump say . Actually , no . Last year , the city police conduct 22 , 939 stop , or about 63 a day . So be not terminate by Mr. de Blasio , or by anyone else for that matter . It 's true that the use of the tactic have decline . During the mayoralty of Mr. Bloomberg , the number of reported stop skyrocket , but then be scale back a the city face pressure from the litigation , bring by the New York Civil Liberties Union and the Center for Constitutional Rights . By the end of 2013 , the year Shira A. Scheindlin , the federal judge hear the case , rule that the city 's wholesale search practice violate the Constitution , the number of stop have decline by 72 percent from it peak in 2011 . `` But have a tremendous impact on the safety of New York City , '' Mr. Trump say during the debate . `` Tremendous beyond belief . So when you say it have no impact , it really do . It have a very , very big impact. `` During the era praise by Mr. Trump , about 90 percent of the people who be stop be young black or Latino men who have commit no crime whatsoever , accord to police data . Of those few who be arrest , the vast majority be charge with nothing more serious than possession of marijuana , not have gun . Hundreds of thousand of innocent people be be stop every year so that the city could arrest ten of thousand for have weed . Applied almost exclusively to minority , the tactic in New York become an elephantine government project that waste time and money , degrade both to the personhood of the men and woman who be stop and to the professionalism of the people do the stopping . It be poor social hygiene , not defensible a a matter of law or a effective law and order . As Mr. Trump say , it be `` tremendous beyond belief. `` Just so .</td>\n",
       "    </tr>\n",
       "    <tr>\n",
       "      <th>47399</th>\n",
       "      <td>Even Daddy isn't totally immune from public sector bureaucracy and delays. So we're giving him a head start![ Starring: MILO, MILO's trainer Will Magner, Brett Gilly, _USER_, Mike Ma and special guest PABLITO. Shot and edited by Matthew Perdie. MILO wears Lunar Force 1 Duckboot by Nike, _CUR_165. Sportswear tech fleece windrunner by Nike, _CUR_130. Sportswear tech fleece men's joggers by Nike, _CUR_100. Glasses by Givenchy, _CUR_350. Snake embossed leather baseball hat by Gucci, _CUR_560. DANGEROUS is available to now via Amazon, in hardcover and Kindle editions. And yes, MILO is reading the audiobook version himself! Follow Milo Yiannopoulos  on Facebook, Instagram and Snapchat. Hear him every Friday on The Milo Yiannopoulos Show. Write to Milo at milo@breitbart. com.</td>\n",
       "      <td>119</td>\n",
       "      <td>14</td>\n",
       "      <td>62.85</td>\n",
       "      <td>even daddi is n't total immun from public sector bureaucraci and delay . so we 're give him a head start ! [ star : milo , milo 's trainer will magner , brett gilli , _user_ , mike ma and special guest pablito . shot and edit by matthew perdi . milo wear lunar forc 1 duckboot by nike , _cur_165 . sportswear tech fleec windrunn by nike , _cur_130 . sportswear tech fleec men 's jogger by nike , _cur_100 . glass by givenchi , _cur_350 . snake emboss leather basebal hat by gucci , _cur_560 . danger is avail to now via amazon , in hardcov and kindl edit . and ye , milo is read the audiobook version himself ! follow milo yiannopoulo on facebook , instagram and snapchat . hear him everi friday on the milo yiannopoulo show . write to milo at milo @ breitbart . com .</td>\n",
       "      <td>even daddi is n't total immun from public sector bureaucraci and delay . so we re give him a head start ! [ star : milo , milo 's trainer will magner , brett gilli , _user_ , mike ma and special guest pablito . shot and edit by matthew perdi . milo wear lunar forc 1 duckboot by nike , _cur_165 . sportswear tech fleec windrunn by nike , _cur_130 . sportswear tech fleec men 's jogger by nike , _cur_100 . glass by givenchi , _cur_350 . snake emboss leather basebal hat by gucci , _cur_560 . danger is avail to now via amazon , in hardcov and kindl edit . and yes , milo is read the audiobook version himself ! follow milo yiannopoulo on facebook , instagram and snapchat . hear him everi friday on the milo yiannopoulo show . write to milo at milo @ breitbart . com .</td>\n",
       "      <td>Even Daddy is n't totally immune from public sector bureaucracy and delay . So we 're giving him a head start ! [ Starring : MILO , MILO 's trainer Will Magner , Brett Gilly , _USER_ , Mike Ma and special guest PABLITO . Shot and edited by Matthew Perdie . MILO wear Lunar Force 1 Duckboot by Nike , _CUR_165 . Sportswear tech fleece windrunner by Nike , _CUR_130 . Sportswear tech fleece men 's jogger by Nike , _CUR_100 . Glasses by Givenchy , _CUR_350 . Snake embossed leather baseball hat by Gucci , _CUR_560 . DANGEROUS is available to now via Amazon , in hardcover and Kindle edition . And yes , MILO is reading the audiobook version himself ! Follow Milo Yiannopoulos on Facebook , Instagram and Snapchat . Hear him every Friday on The Milo Yiannopoulos Show . Write to Milo at milo @ breitbart . com .</td>\n",
       "      <td>Even Daddy be n't totally immune from public sector bureaucracy and delay . So we 're give him a head start ! [ Starring : MILO , MILO 's trainer Will Magner , Brett Gilly , _USER_ , Mike Ma and special guest PABLITO . Shot and edit by Matthew Perdie . MILO wear Lunar Force 1 Duckboot by Nike , _CUR_165 . Sportswear tech fleece windrunner by Nike , _CUR_130 . Sportswear tech fleece men 's jogger by Nike , _CUR_100 . Glasses by Givenchy , _CUR_350 . Snake emboss leather baseball hat by Gucci , _CUR_560 . DANGEROUS be available to now via Amazon , in hardcover and Kindle edition . And yes , MILO be read the audiobook version himself ! Follow Milo Yiannopoulos on Facebook , Instagram and Snapchat . Hear him every Friday on The Milo Yiannopoulos Show . Write to Milo at milo @ breitbart . com .</td>\n",
       "    </tr>\n",
       "    <tr>\n",
       "      <th>23459</th>\n",
       "      <td>An Etihad Airways flight traveling from Abu Dhabi to Sydney made an emergency landing at Australia s Adelaide Airport early on Saturday after a warning indicator activated in the cockpit. Crew on board Etihad flight EY450 landed the plane at 5 a.m.  at Adelaide Airport, in the state of South Australia. The Boeing 777 passenger jet had 349 passengers on board who disembarked via emergency exits, according to online news service Adelaide Advertiser. A technical fault with a cargo hold air recirculation fan had been found, Etihad Airways told Reuters in an email. Etihad Airways apologizes for the inconvenience. The safety of our guests and crew is of paramount importance, it said. Australia s ABC News had reported that a smoke alarm had activated. Passengers would make their onward journeys via other airlines due to crew rest requirements, the airline said. Saturday s Etihad flight EY451, from Sydney to Abu Dhabi, had been canceled and passengers would be rescheduled on later Etihad services out of Sydney, the airline said. It was the second incident this year for the Etihad flight that connects Australia s biggest city with the hub of Abu Dhabi, where passengers transit for worldwide destinations. In July, four men were arrested in Sydney over an Islamist plot to attack the flight. One of the men sent his unsuspecting brother to catch the July 15 Sydney to Abu Dhabi flight carrying a bomb hidden in a meat-mincer.</td>\n",
       "      <td>239</td>\n",
       "      <td>13</td>\n",
       "      <td>44.34</td>\n",
       "      <td>an etihad airway flight travel from abu dhabi to sydney made an emerg land at australia s adelaid airport earli on saturday after a warn indic activ in the cockpit . crew on board etihad flight ey450 land the plane at 5 a.m. at adelaid airport , in the state of south australia . the boe 777 passeng jet had 349 passeng on board who disembark via emerg exit , accord to onlin news servic adelaid advertis . a technic fault with a cargo hold air recircul fan had been found , etihad airway told reuter in an email . etihad airway apolog for the inconveni . the safeti of our guest and crew is of paramount import , it said . australia s abc new had report that a smoke alarm had activ . passeng would make their onward journey via other airlin due to crew rest requir , the airlin said . saturday s etihad flight ey451 , from sydney to abu dhabi , had been cancel and passeng would be reschedul on later etihad servic out of sydney , the airlin said . it wa the second incid thi year for the etihad flight that connect australia s biggest citi with the hub of abu dhabi , where passeng transit for worldwid destin . in juli , four men were arrest in sydney over an islamist plot to attack the flight . one of the men sent hi unsuspect brother to catch the juli 15 sydney to abu dhabi flight carri a bomb hidden in a meat-minc .</td>\n",
       "      <td>an etihad airway flight travel from abu dhabi to sydney made an emerg land at australia s adelaid airport earli on saturday after a warn indic activ in the cockpit . crew on board etihad flight ey450 land the plane at 5 a.m. at adelaid airport , in the state of south australia . the boe 777 passeng jet had 349 passeng on board who disembark via emerg exit , accord to onlin news servic adelaid advertis . a technic fault with a cargo hold air recircul fan had been found , etihad airway told reuter in an email . etihad airway apolog for the inconveni . the safeti of our guest and crew is of paramount import , it said . australia s abc news had report that a smoke alarm had activ . passeng would make their onward journey via other airlin due to crew rest requir , the airlin said . saturday s etihad flight ey451 , from sydney to abu dhabi , had been cancel and passeng would be reschedul on later etihad servic out of sydney , the airlin said . it was the second incid this year for the etihad flight that connect australia s biggest citi with the hub of abu dhabi , where passeng transit for worldwid destin . in juli , four men were arrest in sydney over an islamist plot to attack the flight . one of the men sent his unsuspect brother to catch the juli 15 sydney to abu dhabi flight carri a bomb hidden in a meat-minc .</td>\n",
       "      <td>An Etihad Airways flight traveling from Abu Dhabi to Sydney made an emergency landing at Australia s Adelaide Airport early on Saturday after a warning indicator activated in the cockpit . Crew on board Etihad flight EY450 landed the plane at 5 a.m. at Adelaide Airport , in the state of South Australia . The Boeing 777 passenger jet had 349 passenger on board who disembarked via emergency exit , according to online news service Adelaide Advertiser . A technical fault with a cargo hold air recirculation fan had been found , Etihad Airways told Reuters in an email . Etihad Airways apologizes for the inconvenience . The safety of our guest and crew is of paramount importance , it said . Australia s ABC News had reported that a smoke alarm had activated . Passengers would make their onward journey via other airline due to crew rest requirement , the airline said . Saturday s Etihad flight EY451 , from Sydney to Abu Dhabi , had been canceled and passenger would be rescheduled on later Etihad service out of Sydney , the airline said . It wa the second incident this year for the Etihad flight that connects Australia s biggest city with the hub of Abu Dhabi , where passenger transit for worldwide destination . In July , four men were arrested in Sydney over an Islamist plot to attack the flight . One of the men sent his unsuspecting brother to catch the July 15 Sydney to Abu Dhabi flight carrying a bomb hidden in a meat-mincer .</td>\n",
       "      <td>An Etihad Airways flight travel from Abu Dhabi to Sydney make an emergency land at Australia s Adelaide Airport early on Saturday after a warning indicator activate in the cockpit . Crew on board Etihad flight EY450 land the plane at 5 a.m. at Adelaide Airport , in the state of South Australia . The Boeing 777 passenger jet have 349 passenger on board who disembark via emergency exit , accord to online news service Adelaide Advertiser . A technical fault with a cargo hold air recirculation fan have be find , Etihad Airways tell Reuters in an email . Etihad Airways apologize for the inconvenience . The safety of our guest and crew be of paramount importance , it say . Australia s ABC News have report that a smoke alarm have activate . Passengers would make their onward journey via other airline due to crew rest requirement , the airline say . Saturday s Etihad flight EY451 , from Sydney to Abu Dhabi , have be cancel and passenger would be reschedule on later Etihad service out of Sydney , the airline say . It be the second incident this year for the Etihad flight that connect Australia s big city with the hub of Abu Dhabi , where passenger transit for worldwide destination . In July , four men be arrest in Sydney over an Islamist plot to attack the flight . One of the men send his unsuspecting brother to catch the July 15 Sydney to Abu Dhabi flight carry a bomb hidden in a meat-mincer .</td>\n",
       "    </tr>\n",
       "    <tr>\n",
       "      <th>16024</th>\n",
       "      <td>A Columbia University professor from Brooklyn went into hiding Thursday after pal James Comey revealed during his Senate testimony that the man leaked memos detailing the former FBI chief s conversations with President Trump to the press.But Richman had vanished from his Henry Street digs by midday, and family members, friends and neighbors wouldn t answer doors or phone calls to shed any more light.A doorman eventually turned security guard to stop reporters entering the building.Richman s wife, Alexandra Bowie, is a former president of the influential neighborhood civic group the Brooklyn Heights Association. Its director, Peter Bray, declined to speak about the man who had suddenly usurped Lena Dunham as the nabe s most famous inhabitant.Comey said in his testimony that he decided to give the content of his Trump memo to his good friend to leak to the press after President Trump tweeted out about possible takes of their conversations. Comey also said of leaking the memo, I thought it might prompt the appointment of a special counsel. Via: NYPWho knew the FBI Director was a leaker! This is too much! Our intel community has become so politicized that it prohibits them from following the law or even focusing on gutting to the truth! During testimony today, Susan Collins asked if Comey ever shared memos from President Trump:COMEY S RESPONSE WAS A SHOCKER. HE SAID HE FELT HE NEEDED TO GET THAT OUT INTO THE PUBLIC SQUARE SO HE ASKED A FRIEND TO SHARE THE MEMO WITH A REPORTER:The person that Comey gave the memos to is a former classmate from Columbia Law School. He is considered to be a and adviser to Comey. Daniel Richman is in the video below and is a rather interesting guy. The video is dated but is meant to give you an idea of the character of this friend and adviser to the former FBI Director.Comey stated:James Comey leaked details of his conversation with _USER_ to friend and confidant Daniel Richman.Does this man look sane to you? _URL_ Josh Caplan  June 8, 2017 Does this man look sane to you? _URL_ Josh Caplan  June 8, 2017</td>\n",
       "      <td>354</td>\n",
       "      <td>19</td>\n",
       "      <td>52.60</td>\n",
       "      <td>a columbia univers professor from brooklyn went into hide thursday after pal jame comey reveal dure hi senat testimoni that the man leak memo detail the former fbi chief s convers with presid trump to the press.but richman had vanish from hi henri street dig by midday , and famili member , friend and neighbor wouldn t answer door or phone call to shed ani more light.a doorman eventu turn secur guard to stop report enter the building.richman s wife , alexandra bowi , is a former presid of the influenti neighborhood civic group the brooklyn height associ . it director , peter bray , declin to speak about the man who had suddenli usurp lena dunham as the nabe s most famou inhabitant.comey said in hi testimoni that he decid to give the content of hi trump memo to hi good friend to leak to the press after presid trump tweet out about possibl take of their convers . comey also said of leak the memo , i thought it might prompt the appoint of a special counsel . via : nypwho knew the fbi director wa a leaker ! thi is too much ! our intel commun ha becom so politic that it prohibit them from follow the law or even focus on gut to the truth ! dure testimoni today , susan collin ask if comey ever share memo from presid trump : comey s respons wa a shocker . he said he felt he need to get that out into the public squar so he ask a friend to share the memo with a report : the person that comey gave the memo to is a former classmat from columbia law school . he is consid to be a and advis to comey . daniel richman is in the video below and is a rather interest guy . the video is date but is meant to give you an idea of the charact of thi friend and advis to the former fbi director.comey state : jame comey leak detail of hi convers with _user_ to friend and confid daniel richman.do thi man look sane to you ? _url_ josh caplan june 8 , 2017 doe thi man look sane to you ? _url_ josh caplan june 8 , 2017</td>\n",
       "      <td>a columbia univers professor from brooklyn went into hide thursday after pal jame comey reveal dure his senat testimoni that the man leak memo detail the former fbi chief s convers with presid trump to the press.but richman had vanish from his henri street dig by midday , and famili member , friend and neighbor wouldn t answer door or phone call to shed ani more light.a doorman eventu turn secur guard to stop report enter the building.richman s wife , alexandra bowi , is a former presid of the influenti neighborhood civic group the brooklyn height associ . it director , peter bray , declin to speak about the man who had sudden usurp lena dunham as the nabe s most famous inhabitant.comey said in his testimoni that he decid to give the content of his trump memo to his good friend to leak to the press after presid trump tweet out about possibl take of their convers . comey also said of leak the memo , i thought it might prompt the appoint of a special counsel . via : nypwho knew the fbi director was a leaker ! this is too much ! our intel communiti has becom so politic that it prohibit them from follow the law or even focus on gut to the truth ! dure testimoni today , susan collin ask if comey ever share memo from presid trump : comey s respons was a shocker . he said he felt he need to get that out into the public squar so he ask a friend to share the memo with a report : the person that comey gave the memo to is a former classmat from columbia law school . he is consid to be a and advis to comey . daniel richman is in the video below and is a rather interest guy . the video is date but is meant to give you an idea of the charact of this friend and advis to the former fbi director.comey state : jame comey leak detail of his convers with _user_ to friend and confid daniel richman.do this man look sane to you ? _url_ josh caplan june 8 , 2017 doe this man look sane to you ? _url_ josh caplan june 8 , 2017</td>\n",
       "      <td>A Columbia University professor from Brooklyn went into hiding Thursday after pal James Comey revealed during his Senate testimony that the man leaked memo detailing the former FBI chief s conversation with President Trump to the press.But Richman had vanished from his Henry Street dig by midday , and family member , friend and neighbor wouldn t answer door or phone call to shed any more light.A doorman eventually turned security guard to stop reporter entering the building.Richman s wife , Alexandra Bowie , is a former president of the influential neighborhood civic group the Brooklyn Heights Association . Its director , Peter Bray , declined to speak about the man who had suddenly usurped Lena Dunham a the nabe s most famous inhabitant.Comey said in his testimony that he decided to give the content of his Trump memo to his good friend to leak to the press after President Trump tweeted out about possible take of their conversation . Comey also said of leaking the memo , I thought it might prompt the appointment of a special counsel . Via : NYPWho knew the FBI Director wa a leaker ! This is too much ! Our intel community ha become so politicized that it prohibits them from following the law or even focusing on gutting to the truth ! During testimony today , Susan Collins asked if Comey ever shared memo from President Trump : COMEY S RESPONSE WAS A SHOCKER . HE SAID HE FELT HE NEEDED TO GET THAT OUT INTO THE PUBLIC SQUARE SO HE ASKED A FRIEND TO SHARE THE MEMO WITH A REPORTER : The person that Comey gave the memo to is a former classmate from Columbia Law School . He is considered to be a and adviser to Comey . Daniel Richman is in the video below and is a rather interesting guy . The video is dated but is meant to give you an idea of the character of this friend and adviser to the former FBI Director.Comey stated : James Comey leaked detail of his conversation with _USER_ to friend and confidant Daniel Richman.Does this man look sane to you ? _URL_ Josh Caplan June 8 , 2017 Does this man look sane to you ? _URL_ Josh Caplan June 8 , 2017</td>\n",
       "      <td>A Columbia University professor from Brooklyn go into hide Thursday after pal James Comey reveal during his Senate testimony that the man leak memos detail the former FBI chief s conversation with President Trump to the press.But Richman have vanish from his Henry Street dig by midday , and family member , friend and neighbor wouldn t answer door or phone call to shed any more light.A doorman eventually turn security guard to stop reporter enter the building.Richman s wife , Alexandra Bowie , be a former president of the influential neighborhood civic group the Brooklyn Heights Association . Its director , Peter Bray , decline to speak about the man who have suddenly usurped Lena Dunham a the nabe s most famous inhabitant.Comey say in his testimony that he decide to give the content of his Trump memo to his good friend to leak to the press after President Trump tweet out about possible take of their conversation . Comey also say of leak the memo , I think it might prompt the appointment of a special counsel . Via : NYPWho know the FBI Director be a leaker ! This be too much ! Our intel community have become so politicized that it prohibit them from follow the law or even focus on gutting to the truth ! During testimony today , Susan Collins ask if Comey ever share memo from President Trump : COMEY S RESPONSE WAS A SHOCKER . HE SAID HE FELT HE NEEDED TO GET THAT OUT INTO THE PUBLIC SQUARE SO HE ASKED A FRIEND TO SHARE THE MEMO WITH A REPORTER : The person that Comey give the memo to be a former classmate from Columbia Law School . He be consider to be a and adviser to Comey . Daniel Richman be in the video below and be a rather interesting guy . The video be date but be mean to give you an idea of the character of this friend and adviser to the former FBI Director.Comey state : James Comey leak detail of his conversation with _USER_ to friend and confidant Daniel Richman.Does this man look sane to you ? _URL_ Josh Caplan June 8 , 2017 Does this man look sane to you ? _URL_ Josh Caplan June 8 , 2017</td>\n",
       "    </tr>\n",
       "    <tr>\n",
       "      <th>75038</th>\n",
       "      <td>HERE S WHAT MCCAIN SAID THAT GOT RAND PAUL ALL WORKED UP:</td>\n",
       "      <td>12</td>\n",
       "      <td>1</td>\n",
       "      <td>101.60</td>\n",
       "      <td>here s what mccain said that got rand paul all work up :</td>\n",
       "      <td>here s what mccain said that got rand paul all work up :</td>\n",
       "      <td>HERE S WHAT MCCAIN SAID THAT GOT RAND PAUL ALL WORKED UP :</td>\n",
       "      <td>HERE S WHAT MCCAIN SAID THAT GOT RAND PAUL ALL WORKED UP :</td>\n",
       "    </tr>\n",
       "  </tbody>\n",
       "</table>\n",
       "</div>"
      ],
      "text/plain": [
       "                                                                                                                                                                                                                                                                                                                                                                                                                                                                                                                                                                                                                                                                                                                                                                                                                                                                                                                                                                                                                                                                                                                                                                                                                                                                                                                                                                                                                                                                                                                                                                                                                                                                                                                                                                                                                                                                                                                                                                                                                                                                                                                                                                                                                                                                                                                                                                                                                                                                                                                                                                                                                                                                                                                                                                                                                                                                                                                                                                                                                                                                                                                                                                                                                                                                                                                                                                                                                                                                                                                                                                                                                                                                                                                                                                                                                                                                                                                                                                                                                                   content  \\\n",
       "23724  Among the senseless beatings inflicted on reality during the presidential debate on Monday night was the discussion of New York City's tactics. Donald J. Trump attributed a nonexistent increase in murder to actions that never happened, namely, the ending of the practice by, variously, \"a judge, who was a very judge,\" and the \"current mayor. \" This was multilayered fiction. Murder declined. A judge did not end . Neither did the current mayor. In fact, the Police Department began to drastically curtail its use in 2012, under the administration of Mayor Michael R. Bloomberg, an independent. This is well documented but only lightly noticed. On July 9, 2012, an editorial in The New York Post warned that the reduction in its use would lead to \"more blood in the street. \" By the way, did more blood run in the street? No, less blood did. Murder is down 32 percent since 2011, the last year of the old era, having dropped to 352 homicides in 2015 from 515 in 2011. In the same period, stops were down by about 97 percent, said J. Peter Donald, a spokesman for the department. During the debate, Hillary Clinton, the Democratic nominee, alluded to a few of these numbers. Mr. Trump, her Republican opponent, started shouting. \"Under the current mayor, crime has continued to drop, including murders,\" she said. \"So there is — — \" \"No, you're wrong,\" Mr. Trump interjected. \"You're wrong. \" \"No, I'm not,\" Mrs. Clinton said. \"Murders are up, all right,\" Mr. Trump said. \"You check it. \" All right, as Mr. Trump said, let's check it. A Google search for \"Historical New York City Crime Data\" will bring you to a site with charts of serious felonies. Frisks went down. So has murder, a steady decline that has continued, with slight annual variations, through this year. In the used by Mr. Trump, those details land upside down. Also, he repeated a more common mistake about the decline of the tactics, attributing it to a federal judge hearing a lawsuit against the city, and to Mayor Bill de Blasio, a Democrat, who succeeded Mr. Bloomberg in 2014. \"It was terminated by the current mayor,\" Mr. Trump said. Actually, no. Last year, the city police conducted 22, 939 stops, or about 63 a day. So was not terminated by Mr. de Blasio, or by anyone else for that matter. It's true that the use of the tactic has declined. During the mayoralty of Mr. Bloomberg, the number of reported stops skyrocketed, but then was scaled back as the city faced pressure from the litigation, brought by the New York Civil Liberties Union and the Center for Constitutional Rights. By the end of 2013, the year Shira A. Scheindlin, the federal judge hearing the case, ruled that the city's wholesale search practices violated the Constitution, the number of stops had declined by 72 percent from its peak in 2011. \"But had a tremendous impact on the safety of New York City,\" Mr. Trump said during the debate. \"Tremendous beyond belief. So when you say it has no impact, it really did. It had a very, very big impact. \" During the era praised by Mr. Trump, about 90 percent of the people who were stopped were young black or Latino men who had committed no crime whatsoever, according to police data. Of those few who were arrested, the vast majority were charged with nothing more serious than possession of marijuana, not having guns. Hundreds of thousands of innocent people were being stopped every year so that the city could arrest tens of thousands for having weed. Applied almost exclusively to minorities, the tactics in New York became an elephantine government project that wasted time and money, degrading both to the personhood of the men and women who were stopped and to the professionalism of the people doing the stopping. It was poor social hygiene, not defensible as a matter of law or as effective law and order. As Mr. Trump said, it was \"tremendous beyond belief. \" Just so.   \n",
       "47399                                                                                                                                                                                                                                                                                                                                                                                                                                                                                                                                                                                                                                                                                                                                                                                                                                                                                                                                                                                                                                                                                                                                                                                                                                                                                                                                                                                                                                                                                                                                                                                                                                                                                                                                                                                                                                                                                                                                                                                                                                                                                                                                                                                                                                                                                                                                                                                                                                                                                                                                                                                                                                                                                                                                                                                                                                                                                                                                                                                                                                                                                                                                                                                                                          Even Daddy isn't totally immune from public sector bureaucracy and delays. So we're giving him a head start![ Starring: MILO, MILO's trainer Will Magner, Brett Gilly, _USER_, Mike Ma and special guest PABLITO. Shot and edited by Matthew Perdie. MILO wears Lunar Force 1 Duckboot by Nike, _CUR_165. Sportswear tech fleece windrunner by Nike, _CUR_130. Sportswear tech fleece men's joggers by Nike, _CUR_100. Glasses by Givenchy, _CUR_350. Snake embossed leather baseball hat by Gucci, _CUR_560. DANGEROUS is available to now via Amazon, in hardcover and Kindle editions. And yes, MILO is reading the audiobook version himself! Follow Milo Yiannopoulos  on Facebook, Instagram and Snapchat. Hear him every Friday on The Milo Yiannopoulos Show. Write to Milo at milo@breitbart. com.   \n",
       "23459                                                                                                                                                                                                                                                                                                                                                                                                                                                                                                                                                                                                                                                                                                                                                                                                                                                                                                                                                                                                                                                                                                                                                                                                                                                                                                                                                                                                                                                                                                                                                                                                                                                                                                                                                                                                                                                                                                                                                                                                                                                                                                                                                                                                                                                                                                                                                                                                                                                                                                                                           An Etihad Airways flight traveling from Abu Dhabi to Sydney made an emergency landing at Australia s Adelaide Airport early on Saturday after a warning indicator activated in the cockpit. Crew on board Etihad flight EY450 landed the plane at 5 a.m.  at Adelaide Airport, in the state of South Australia. The Boeing 777 passenger jet had 349 passengers on board who disembarked via emergency exits, according to online news service Adelaide Advertiser. A technical fault with a cargo hold air recirculation fan had been found, Etihad Airways told Reuters in an email. Etihad Airways apologizes for the inconvenience. The safety of our guests and crew is of paramount importance, it said. Australia s ABC News had reported that a smoke alarm had activated. Passengers would make their onward journeys via other airlines due to crew rest requirements, the airline said. Saturday s Etihad flight EY451, from Sydney to Abu Dhabi, had been canceled and passengers would be rescheduled on later Etihad services out of Sydney, the airline said. It was the second incident this year for the Etihad flight that connects Australia s biggest city with the hub of Abu Dhabi, where passengers transit for worldwide destinations. In July, four men were arrested in Sydney over an Islamist plot to attack the flight. One of the men sent his unsuspecting brother to catch the July 15 Sydney to Abu Dhabi flight carrying a bomb hidden in a meat-mincer.   \n",
       "16024                                                                                                                                                                                                                                                                                                                                                                                                                                                                                                                                                                                                                                                                                                                                                                                                                                                                                                                                                                                                                                                                                                                                                                                                                                                                                                                                                                                                                                                                                                                                                                                                                                                                                                                                                                                                                                                                                      A Columbia University professor from Brooklyn went into hiding Thursday after pal James Comey revealed during his Senate testimony that the man leaked memos detailing the former FBI chief s conversations with President Trump to the press.But Richman had vanished from his Henry Street digs by midday, and family members, friends and neighbors wouldn t answer doors or phone calls to shed any more light.A doorman eventually turned security guard to stop reporters entering the building.Richman s wife, Alexandra Bowie, is a former president of the influential neighborhood civic group the Brooklyn Heights Association. Its director, Peter Bray, declined to speak about the man who had suddenly usurped Lena Dunham as the nabe s most famous inhabitant.Comey said in his testimony that he decided to give the content of his Trump memo to his good friend to leak to the press after President Trump tweeted out about possible takes of their conversations. Comey also said of leaking the memo, I thought it might prompt the appointment of a special counsel. Via: NYPWho knew the FBI Director was a leaker! This is too much! Our intel community has become so politicized that it prohibits them from following the law or even focusing on gutting to the truth! During testimony today, Susan Collins asked if Comey ever shared memos from President Trump:COMEY S RESPONSE WAS A SHOCKER. HE SAID HE FELT HE NEEDED TO GET THAT OUT INTO THE PUBLIC SQUARE SO HE ASKED A FRIEND TO SHARE THE MEMO WITH A REPORTER:The person that Comey gave the memos to is a former classmate from Columbia Law School. He is considered to be a and adviser to Comey. Daniel Richman is in the video below and is a rather interesting guy. The video is dated but is meant to give you an idea of the character of this friend and adviser to the former FBI Director.Comey stated:James Comey leaked details of his conversation with _USER_ to friend and confidant Daniel Richman.Does this man look sane to you? _URL_ Josh Caplan  June 8, 2017 Does this man look sane to you? _URL_ Josh Caplan  June 8, 2017   \n",
       "75038                                                                                                                                                                                                                                                                                                                                                                                                                                                                                                                                                                                                                                                                                                                                                                                                                                                                                                                                                                                                                                                                                                                                                                                                                                                                                                                                                                                                                                                                                                                                                                                                                                                                                                                                                                                                                                                                                                                                                                                                                                                                                                                                                                                                                                                                                                                                                                                                                                                                                                                                                                                                                                                                                                                                                                                                                                                                                                                                                                                                                                                                                                                                                                                                                                                                                                                                                                                                                                                                                                                                                                                                                                                                                                                                                                                                                                                                                                                                                                            HERE S WHAT MCCAIN SAID THAT GOT RAND PAUL ALL WORKED UP:   \n",
       "\n",
       "       word_count  sentence_count  flesch_reading_ease  \\\n",
       "23724         677              51                66.64   \n",
       "47399         119              14                62.85   \n",
       "23459         239              13                44.34   \n",
       "16024         354              19                52.60   \n",
       "75038          12               1               101.60   \n",
       "\n",
       "                                                                                                                                                                                                                                                                                                                                                                                                                                                                                                                                                                                                                                                                                                                                                                                                                                                                                                                                                                                                                                                                                                                                                                                                                                                                                                                                                                                                                                                                                                                                                                                                                                                                                                                                                                                                                                                                                                                                                                                                                                                                                                                                                                                                                                                                                                                                                                                                                                                                                                                                                                                                                                                                                                                                                                                                                                                                                                                                                                                                                                                                                                                                                                                                                                                                                                                                                                                                                                                                                                                                                                                                                                                                                                                                                                                                                                                           porter  \\\n",
       "23724  among the senseless beat inflict on realiti dure the presidenti debat on monday night wa the discuss of new york citi 's tactic . donald j. trump attribut a nonexist increas in murder to action that never happen , name , the end of the practic by , various , `` a judg , who wa a veri judg , '' and the `` current mayor. `` thi wa multilay fiction . murder declin . a judg did not end . neither did the current mayor . in fact , the polic depart began to drastic curtail it use in 2012 , under the administr of mayor michael r. bloomberg , an independ . thi is well document but onli lightli notic . on juli 9 , 2012 , an editori in the new york post warn that the reduct in it use would lead to `` more blood in the street. `` by the way , did more blood run in the street ? no , less blood did . murder is down 32 percent sinc 2011 , the last year of the old era , have drop to 352 homicid in 2015 from 515 in 2011 . in the same period , stop were down by about 97 percent , said j. peter donald , a spokesman for the depart . dure the debat , hillari clinton , the democrat nomine , allud to a few of these number . mr. trump , her republican oppon , start shout . `` under the current mayor , crime ha continu to drop , includ murder , '' she said . `` so there is — — `` `` no , you 're wrong , '' mr. trump interject . `` you 're wrong. `` `` no , i 'm not , '' mrs. clinton said . `` murder are up , all right , '' mr. trump said . `` you check it. `` all right , as mr. trump said , let 's check it . a googl search for `` histor new york citi crime data '' will bring you to a site with chart of seriou feloni . frisk went down . so ha murder , a steadi declin that ha continu , with slight annual variat , through thi year . in the use by mr. trump , those detail land upsid down . also , he repeat a more common mistak about the declin of the tactic , attribut it to a feder judg hear a lawsuit against the citi , and to mayor bill de blasio , a democrat , who succeed mr. bloomberg in 2014 . `` it wa termin by the current mayor , '' mr. trump said . actual , no . last year , the citi polic conduct 22 , 939 stop , or about 63 a day . so wa not termin by mr. de blasio , or by anyon els for that matter . it 's true that the use of the tactic ha declin . dure the mayoralti of mr. bloomberg , the number of report stop skyrocket , but then wa scale back as the citi face pressur from the litig , brought by the new york civil liberti union and the center for constitut right . by the end of 2013 , the year shira a. scheindlin , the feder judg hear the case , rule that the citi 's wholesal search practic violat the constitut , the number of stop had declin by 72 percent from it peak in 2011 . `` but had a tremend impact on the safeti of new york citi , '' mr. trump said dure the debat . `` tremend beyond belief . so when you say it ha no impact , it realli did . it had a veri , veri big impact. `` dure the era prais by mr. trump , about 90 percent of the peopl who were stop were young black or latino men who had commit no crime whatsoev , accord to polic data . of those few who were arrest , the vast major were charg with noth more seriou than possess of marijuana , not have gun . hundr of thousand of innoc peopl were be stop everi year so that the citi could arrest ten of thousand for have weed . appli almost exclus to minor , the tactic in new york becam an elephantin govern project that wast time and money , degrad both to the personhood of the men and women who were stop and to the profession of the peopl do the stop . it wa poor social hygien , not defens as a matter of law or as effect law and order . as mr. trump said , it wa `` tremend beyond belief. `` just so .   \n",
       "47399                                                                                                                                                                                                                                                                                                                                                                                                                                                                                                                                                                                                                                                                                                                                                                                                                                                                                                                                                                                                                                                                                                                                                                                                                                                                                                                                                                                                                                                                                                                                                                                                                                                                                                                                                                                                                                                                                                                                                                                                                                                                                                                                                                                                                                                                                                                                                                                                                                                                                                                                                                                                                                                                                                                                                                                                                                                                                                                                                                                                                                                            even daddi is n't total immun from public sector bureaucraci and delay . so we 're give him a head start ! [ star : milo , milo 's trainer will magner , brett gilli , _user_ , mike ma and special guest pablito . shot and edit by matthew perdi . milo wear lunar forc 1 duckboot by nike , _cur_165 . sportswear tech fleec windrunn by nike , _cur_130 . sportswear tech fleec men 's jogger by nike , _cur_100 . glass by givenchi , _cur_350 . snake emboss leather basebal hat by gucci , _cur_560 . danger is avail to now via amazon , in hardcov and kindl edit . and ye , milo is read the audiobook version himself ! follow milo yiannopoulo on facebook , instagram and snapchat . hear him everi friday on the milo yiannopoulo show . write to milo at milo @ breitbart . com .   \n",
       "23459                                                                                                                                                                                                                                                                                                                                                                                                                                                                                                                                                                                                                                                                                                                                                                                                                                                                                                                                                                                                                                                                                                                                                                                                                                                                                                                                                                                                                                                                                                                                                                                                                                                                                                                                                                                                                                                                                                                                                                                                                                                                                                                                                                                                                                                                                                                                                                                                                                                                              an etihad airway flight travel from abu dhabi to sydney made an emerg land at australia s adelaid airport earli on saturday after a warn indic activ in the cockpit . crew on board etihad flight ey450 land the plane at 5 a.m. at adelaid airport , in the state of south australia . the boe 777 passeng jet had 349 passeng on board who disembark via emerg exit , accord to onlin news servic adelaid advertis . a technic fault with a cargo hold air recircul fan had been found , etihad airway told reuter in an email . etihad airway apolog for the inconveni . the safeti of our guest and crew is of paramount import , it said . australia s abc new had report that a smoke alarm had activ . passeng would make their onward journey via other airlin due to crew rest requir , the airlin said . saturday s etihad flight ey451 , from sydney to abu dhabi , had been cancel and passeng would be reschedul on later etihad servic out of sydney , the airlin said . it wa the second incid thi year for the etihad flight that connect australia s biggest citi with the hub of abu dhabi , where passeng transit for worldwid destin . in juli , four men were arrest in sydney over an islamist plot to attack the flight . one of the men sent hi unsuspect brother to catch the juli 15 sydney to abu dhabi flight carri a bomb hidden in a meat-minc .   \n",
       "16024                                                                                                                                                                                                                                                                                                                                                                                                                                                                                                                                                                                                                                                                                                                                                                                                                                                                                                                                                                                                                                                                                                                                                                                                                                                                                                                                                                                                                                                                                                                                                                                                                                                                                                                                                                                                                                                             a columbia univers professor from brooklyn went into hide thursday after pal jame comey reveal dure hi senat testimoni that the man leak memo detail the former fbi chief s convers with presid trump to the press.but richman had vanish from hi henri street dig by midday , and famili member , friend and neighbor wouldn t answer door or phone call to shed ani more light.a doorman eventu turn secur guard to stop report enter the building.richman s wife , alexandra bowi , is a former presid of the influenti neighborhood civic group the brooklyn height associ . it director , peter bray , declin to speak about the man who had suddenli usurp lena dunham as the nabe s most famou inhabitant.comey said in hi testimoni that he decid to give the content of hi trump memo to hi good friend to leak to the press after presid trump tweet out about possibl take of their convers . comey also said of leak the memo , i thought it might prompt the appoint of a special counsel . via : nypwho knew the fbi director wa a leaker ! thi is too much ! our intel commun ha becom so politic that it prohibit them from follow the law or even focus on gut to the truth ! dure testimoni today , susan collin ask if comey ever share memo from presid trump : comey s respons wa a shocker . he said he felt he need to get that out into the public squar so he ask a friend to share the memo with a report : the person that comey gave the memo to is a former classmat from columbia law school . he is consid to be a and advis to comey . daniel richman is in the video below and is a rather interest guy . the video is date but is meant to give you an idea of the charact of thi friend and advis to the former fbi director.comey state : jame comey leak detail of hi convers with _user_ to friend and confid daniel richman.do thi man look sane to you ? _url_ josh caplan june 8 , 2017 doe thi man look sane to you ? _url_ josh caplan june 8 , 2017   \n",
       "75038                                                                                                                                                                                                                                                                                                                                                                                                                                                                                                                                                                                                                                                                                                                                                                                                                                                                                                                                                                                                                                                                                                                                                                                                                                                                                                                                                                                                                                                                                                                                                                                                                                                                                                                                                                                                                                                                                                                                                                                                                                                                                                                                                                                                                                                                                                                                                                                                                                                                                                                                                                                                                                                                                                                                                                                                                                                                                                                                                                                                                                                                                                                                                                                                                                                                                                                                                                                                                                                                                                                                                                                                                                                                                                                                                                                                    here s what mccain said that got rand paul all work up :   \n",
       "\n",
       "                                                                                                                                                                                                                                                                                                                                                                                                                                                                                                                                                                                                                                                                                                                                                                                                                                                                                                                                                                                                                                                                                                                                                                                                                                                                                                                                                                                                                                                                                                                                                                                                                                                                                                                                                                                                                                                                                                                                                                                                                                                                                                                                                                                                                                                                                                                                                                                                                                                                                                                                                                                                                                                                                                                                                                                                                                                                                                                                                                                                                                                                                                                                                                                                                                                                                                                                                                                                                                                                                                                                                                                                                                                                                                                                                                                                                                                                       snowball  \\\n",
       "23724  among the senseless beat inflict on realiti dure the presidenti debat on monday night was the discuss of new york citi 's tactic . donald j. trump attribut a nonexist increas in murder to action that never happen , name , the end of the practic by , various , `` a judg , who was a veri judg , '' and the `` current mayor. `` this was multilay fiction . murder declin . a judg did not end . neither did the current mayor . in fact , the polic depart began to drastic curtail it use in 2012 , under the administr of mayor michael r. bloomberg , an independ . this is well document but onli light notic . on juli 9 , 2012 , an editori in the new york post warn that the reduct in it use would lead to `` more blood in the street. `` by the way , did more blood run in the street ? no , less blood did . murder is down 32 percent sinc 2011 , the last year of the old era , have drop to 352 homicid in 2015 from 515 in 2011 . in the same period , stop were down by about 97 percent , said j. peter donald , a spokesman for the depart . dure the debat , hillari clinton , the democrat nomine , allud to a few of these number . mr. trump , her republican oppon , start shout . `` under the current mayor , crime has continu to drop , includ murder , '' she said . `` so there is — — `` `` no , you re wrong , '' mr. trump interject . `` you re wrong. `` `` no , i 'm not , '' mrs. clinton said . `` murder are up , all right , '' mr. trump said . `` you check it. `` all right , as mr. trump said , let 's check it . a googl search for `` histor new york citi crime data '' will bring you to a site with chart of serious feloni . frisk went down . so has murder , a steadi declin that has continu , with slight annual variat , through this year . in the use by mr. trump , those detail land upsid down . also , he repeat a more common mistak about the declin of the tactic , attribut it to a feder judg hear a lawsuit against the citi , and to mayor bill de blasio , a democrat , who succeed mr. bloomberg in 2014 . `` it was termin by the current mayor , '' mr. trump said . actual , no . last year , the citi polic conduct 22 , 939 stop , or about 63 a day . so was not termin by mr. de blasio , or by anyon els for that matter . it 's true that the use of the tactic has declin . dure the mayoralti of mr. bloomberg , the number of report stop skyrocket , but then was scale back as the citi face pressur from the litig , brought by the new york civil liberti union and the center for constitut right . by the end of 2013 , the year shira a. scheindlin , the feder judg hear the case , rule that the citi 's wholesal search practic violat the constitut , the number of stop had declin by 72 percent from it peak in 2011 . `` but had a tremend impact on the safeti of new york citi , '' mr. trump said dure the debat . `` tremend beyond belief . so when you say it has no impact , it realli did . it had a veri , veri big impact. `` dure the era prais by mr. trump , about 90 percent of the peopl who were stop were young black or latino men who had commit no crime whatsoev , accord to polic data . of those few who were arrest , the vast major were charg with noth more serious than possess of marijuana , not have gun . hundr of thousand of innoc peopl were be stop everi year so that the citi could arrest ten of thousand for have weed . appli almost exclus to minor , the tactic in new york becam an elephantin govern project that wast time and money , degrad both to the personhood of the men and women who were stop and to the profession of the peopl do the stop . it was poor social hygien , not defens as a matter of law or as effect law and order . as mr. trump said , it was `` tremend beyond belief. `` just so .   \n",
       "47399                                                                                                                                                                                                                                                                                                                                                                                                                                                                                                                                                                                                                                                                                                                                                                                                                                                                                                                                                                                                                                                                                                                                                                                                                                                                                                                                                                                                                                                                                                                                                                                                                                                                                                                                                                                                                                                                                                                                                                                                                                                                                                                                                                                                                                                                                                                                                                                                                                                                                                                                                                                                                                                                                                                                                                                                                                                                                                                                                                                                                                                                          even daddi is n't total immun from public sector bureaucraci and delay . so we re give him a head start ! [ star : milo , milo 's trainer will magner , brett gilli , _user_ , mike ma and special guest pablito . shot and edit by matthew perdi . milo wear lunar forc 1 duckboot by nike , _cur_165 . sportswear tech fleec windrunn by nike , _cur_130 . sportswear tech fleec men 's jogger by nike , _cur_100 . glass by givenchi , _cur_350 . snake emboss leather basebal hat by gucci , _cur_560 . danger is avail to now via amazon , in hardcov and kindl edit . and yes , milo is read the audiobook version himself ! follow milo yiannopoulo on facebook , instagram and snapchat . hear him everi friday on the milo yiannopoulo show . write to milo at milo @ breitbart . com .   \n",
       "23459                                                                                                                                                                                                                                                                                                                                                                                                                                                                                                                                                                                                                                                                                                                                                                                                                                                                                                                                                                                                                                                                                                                                                                                                                                                                                                                                                                                                                                                                                                                                                                                                                                                                                                                                                                                                                                                                                                                                                                                                                                                                                                                                                                                                                                                                                                                                                                                                                                                                                        an etihad airway flight travel from abu dhabi to sydney made an emerg land at australia s adelaid airport earli on saturday after a warn indic activ in the cockpit . crew on board etihad flight ey450 land the plane at 5 a.m. at adelaid airport , in the state of south australia . the boe 777 passeng jet had 349 passeng on board who disembark via emerg exit , accord to onlin news servic adelaid advertis . a technic fault with a cargo hold air recircul fan had been found , etihad airway told reuter in an email . etihad airway apolog for the inconveni . the safeti of our guest and crew is of paramount import , it said . australia s abc news had report that a smoke alarm had activ . passeng would make their onward journey via other airlin due to crew rest requir , the airlin said . saturday s etihad flight ey451 , from sydney to abu dhabi , had been cancel and passeng would be reschedul on later etihad servic out of sydney , the airlin said . it was the second incid this year for the etihad flight that connect australia s biggest citi with the hub of abu dhabi , where passeng transit for worldwid destin . in juli , four men were arrest in sydney over an islamist plot to attack the flight . one of the men sent his unsuspect brother to catch the juli 15 sydney to abu dhabi flight carri a bomb hidden in a meat-minc .   \n",
       "16024                                                                                                                                                                                                                                                                                                                                                                                                                                                                                                                                                                                                                                                                                                                                                                                                                                                                                                                                                                                                                                                                                                                                                                                                                                                                                                                                                                                                                                                                                                                                                                                                                                                                                                                                                                                                                                                            a columbia univers professor from brooklyn went into hide thursday after pal jame comey reveal dure his senat testimoni that the man leak memo detail the former fbi chief s convers with presid trump to the press.but richman had vanish from his henri street dig by midday , and famili member , friend and neighbor wouldn t answer door or phone call to shed ani more light.a doorman eventu turn secur guard to stop report enter the building.richman s wife , alexandra bowi , is a former presid of the influenti neighborhood civic group the brooklyn height associ . it director , peter bray , declin to speak about the man who had sudden usurp lena dunham as the nabe s most famous inhabitant.comey said in his testimoni that he decid to give the content of his trump memo to his good friend to leak to the press after presid trump tweet out about possibl take of their convers . comey also said of leak the memo , i thought it might prompt the appoint of a special counsel . via : nypwho knew the fbi director was a leaker ! this is too much ! our intel communiti has becom so politic that it prohibit them from follow the law or even focus on gut to the truth ! dure testimoni today , susan collin ask if comey ever share memo from presid trump : comey s respons was a shocker . he said he felt he need to get that out into the public squar so he ask a friend to share the memo with a report : the person that comey gave the memo to is a former classmat from columbia law school . he is consid to be a and advis to comey . daniel richman is in the video below and is a rather interest guy . the video is date but is meant to give you an idea of the charact of this friend and advis to the former fbi director.comey state : jame comey leak detail of his convers with _user_ to friend and confid daniel richman.do this man look sane to you ? _url_ josh caplan june 8 , 2017 doe this man look sane to you ? _url_ josh caplan june 8 , 2017   \n",
       "75038                                                                                                                                                                                                                                                                                                                                                                                                                                                                                                                                                                                                                                                                                                                                                                                                                                                                                                                                                                                                                                                                                                                                                                                                                                                                                                                                                                                                                                                                                                                                                                                                                                                                                                                                                                                                                                                                                                                                                                                                                                                                                                                                                                                                                                                                                                                                                                                                                                                                                                                                                                                                                                                                                                                                                                                                                                                                                                                                                                                                                                                                                                                                                                                                                                                                                                                                                                                                                                                                                                                                                                                                                                                                                                                                                                                                                  here s what mccain said that got rand paul all work up :   \n",
       "\n",
       "                                                                                                                                                                                                                                                                                                                                                                                                                                                                                                                                                                                                                                                                                                                                                                                                                                                                                                                                                                                                                                                                                                                                                                                                                                                                                                                                                                                                                                                                                                                                                                                                                                                                                                                                                                                                                                                                                                                                                                                                                                                                                                                                                                                                                                                                                                                                                                                                                                                                                                                                                                                                                                                                                                                                                                                                                                                                                                                                                                                                                                                                                                                                                                                                                                                                                                                                                                                                                                                                                                                                                                                                                                                                                                                                                                                                                                                                                                                                                                                                                                                                                                                                                            wordnet  \\\n",
       "23724  Among the senseless beating inflicted on reality during the presidential debate on Monday night wa the discussion of New York City 's tactic . Donald J. Trump attributed a nonexistent increase in murder to action that never happened , namely , the ending of the practice by , variously , `` a judge , who wa a very judge , '' and the `` current mayor. `` This wa multilayered fiction . Murder declined . A judge did not end . Neither did the current mayor . In fact , the Police Department began to drastically curtail it use in 2012 , under the administration of Mayor Michael R. Bloomberg , an independent . This is well documented but only lightly noticed . On July 9 , 2012 , an editorial in The New York Post warned that the reduction in it use would lead to `` more blood in the street. `` By the way , did more blood run in the street ? No , less blood did . Murder is down 32 percent since 2011 , the last year of the old era , having dropped to 352 homicide in 2015 from 515 in 2011 . In the same period , stop were down by about 97 percent , said J. Peter Donald , a spokesman for the department . During the debate , Hillary Clinton , the Democratic nominee , alluded to a few of these number . Mr. Trump , her Republican opponent , started shouting . `` Under the current mayor , crime ha continued to drop , including murder , '' she said . `` So there is — — `` `` No , you 're wrong , '' Mr. Trump interjected . `` You 're wrong. `` `` No , I 'm not , '' Mrs. Clinton said . `` Murders are up , all right , '' Mr. Trump said . `` You check it. `` All right , a Mr. Trump said , let 's check it . A Google search for `` Historical New York City Crime Data '' will bring you to a site with chart of serious felony . Frisks went down . So ha murder , a steady decline that ha continued , with slight annual variation , through this year . In the used by Mr. Trump , those detail land upside down . Also , he repeated a more common mistake about the decline of the tactic , attributing it to a federal judge hearing a lawsuit against the city , and to Mayor Bill de Blasio , a Democrat , who succeeded Mr. Bloomberg in 2014 . `` It wa terminated by the current mayor , '' Mr. Trump said . Actually , no . Last year , the city police conducted 22 , 939 stop , or about 63 a day . So wa not terminated by Mr. de Blasio , or by anyone else for that matter . It 's true that the use of the tactic ha declined . During the mayoralty of Mr. Bloomberg , the number of reported stop skyrocketed , but then wa scaled back a the city faced pressure from the litigation , brought by the New York Civil Liberties Union and the Center for Constitutional Rights . By the end of 2013 , the year Shira A. Scheindlin , the federal judge hearing the case , ruled that the city 's wholesale search practice violated the Constitution , the number of stop had declined by 72 percent from it peak in 2011 . `` But had a tremendous impact on the safety of New York City , '' Mr. Trump said during the debate . `` Tremendous beyond belief . So when you say it ha no impact , it really did . It had a very , very big impact. `` During the era praised by Mr. Trump , about 90 percent of the people who were stopped were young black or Latino men who had committed no crime whatsoever , according to police data . Of those few who were arrested , the vast majority were charged with nothing more serious than possession of marijuana , not having gun . Hundreds of thousand of innocent people were being stopped every year so that the city could arrest ten of thousand for having weed . Applied almost exclusively to minority , the tactic in New York became an elephantine government project that wasted time and money , degrading both to the personhood of the men and woman who were stopped and to the professionalism of the people doing the stopping . It wa poor social hygiene , not defensible a a matter of law or a effective law and order . As Mr. Trump said , it wa `` tremendous beyond belief. `` Just so .   \n",
       "47399                                                                                                                                                                                                                                                                                                                                                                                                                                                                                                                                                                                                                                                                                                                                                                                                                                                                                                                                                                                                                                                                                                                                                                                                                                                                                                                                                                                                                                                                                                                                                                                                                                                                                                                                                                                                                                                                                                                                                                                                                                                                                                                                                                                                                                                                                                                                                                                                                                                                                                                                                                                                                                                                                                                                                                                                                                                                                                                                                                                                                                                                                                                                                                                                                                                                                                                     Even Daddy is n't totally immune from public sector bureaucracy and delay . So we 're giving him a head start ! [ Starring : MILO , MILO 's trainer Will Magner , Brett Gilly , _USER_ , Mike Ma and special guest PABLITO . Shot and edited by Matthew Perdie . MILO wear Lunar Force 1 Duckboot by Nike , _CUR_165 . Sportswear tech fleece windrunner by Nike , _CUR_130 . Sportswear tech fleece men 's jogger by Nike , _CUR_100 . Glasses by Givenchy , _CUR_350 . Snake embossed leather baseball hat by Gucci , _CUR_560 . DANGEROUS is available to now via Amazon , in hardcover and Kindle edition . And yes , MILO is reading the audiobook version himself ! Follow Milo Yiannopoulos on Facebook , Instagram and Snapchat . Hear him every Friday on The Milo Yiannopoulos Show . Write to Milo at milo @ breitbart . com .   \n",
       "23459                                                                                                                                                                                                                                                                                                                                                                                                                                                                                                                                                                                                                                                                                                                                                                                                                                                                                                                                                                                                                                                                                                                                                                                                                                                                                                                                                                                                                                                                                                                                                                                                                                                                                                                                                                                                                                                                                                                                                                                                                                                                                                                                                                                                                                                                                                                                                                                                                                                                                                                                                                                                                                                          An Etihad Airways flight traveling from Abu Dhabi to Sydney made an emergency landing at Australia s Adelaide Airport early on Saturday after a warning indicator activated in the cockpit . Crew on board Etihad flight EY450 landed the plane at 5 a.m. at Adelaide Airport , in the state of South Australia . The Boeing 777 passenger jet had 349 passenger on board who disembarked via emergency exit , according to online news service Adelaide Advertiser . A technical fault with a cargo hold air recirculation fan had been found , Etihad Airways told Reuters in an email . Etihad Airways apologizes for the inconvenience . The safety of our guest and crew is of paramount importance , it said . Australia s ABC News had reported that a smoke alarm had activated . Passengers would make their onward journey via other airline due to crew rest requirement , the airline said . Saturday s Etihad flight EY451 , from Sydney to Abu Dhabi , had been canceled and passenger would be rescheduled on later Etihad service out of Sydney , the airline said . It wa the second incident this year for the Etihad flight that connects Australia s biggest city with the hub of Abu Dhabi , where passenger transit for worldwide destination . In July , four men were arrested in Sydney over an Islamist plot to attack the flight . One of the men sent his unsuspecting brother to catch the July 15 Sydney to Abu Dhabi flight carrying a bomb hidden in a meat-mincer .   \n",
       "16024                                                                                                                                                                                                                                                                                                                                                                                                                                                                                                                                                                                                                                                                                                                                                                                                                                                                                                                                                                                                                                                                                                                                                                                                                                                                                                                                                                                                                                                                                                                                                                                                                                                                                                                                                                                                                                                                                                                                                                                                     A Columbia University professor from Brooklyn went into hiding Thursday after pal James Comey revealed during his Senate testimony that the man leaked memo detailing the former FBI chief s conversation with President Trump to the press.But Richman had vanished from his Henry Street dig by midday , and family member , friend and neighbor wouldn t answer door or phone call to shed any more light.A doorman eventually turned security guard to stop reporter entering the building.Richman s wife , Alexandra Bowie , is a former president of the influential neighborhood civic group the Brooklyn Heights Association . Its director , Peter Bray , declined to speak about the man who had suddenly usurped Lena Dunham a the nabe s most famous inhabitant.Comey said in his testimony that he decided to give the content of his Trump memo to his good friend to leak to the press after President Trump tweeted out about possible take of their conversation . Comey also said of leaking the memo , I thought it might prompt the appointment of a special counsel . Via : NYPWho knew the FBI Director wa a leaker ! This is too much ! Our intel community ha become so politicized that it prohibits them from following the law or even focusing on gutting to the truth ! During testimony today , Susan Collins asked if Comey ever shared memo from President Trump : COMEY S RESPONSE WAS A SHOCKER . HE SAID HE FELT HE NEEDED TO GET THAT OUT INTO THE PUBLIC SQUARE SO HE ASKED A FRIEND TO SHARE THE MEMO WITH A REPORTER : The person that Comey gave the memo to is a former classmate from Columbia Law School . He is considered to be a and adviser to Comey . Daniel Richman is in the video below and is a rather interesting guy . The video is dated but is meant to give you an idea of the character of this friend and adviser to the former FBI Director.Comey stated : James Comey leaked detail of his conversation with _USER_ to friend and confidant Daniel Richman.Does this man look sane to you ? _URL_ Josh Caplan June 8 , 2017 Does this man look sane to you ? _URL_ Josh Caplan June 8 , 2017   \n",
       "75038                                                                                                                                                                                                                                                                                                                                                                                                                                                                                                                                                                                                                                                                                                                                                                                                                                                                                                                                                                                                                                                                                                                                                                                                                                                                                                                                                                                                                                                                                                                                                                                                                                                                                                                                                                                                                                                                                                                                                                                                                                                                                                                                                                                                                                                                                                                                                                                                                                                                                                                                                                                                                                                                                                                                                                                                                                                                                                                                                                                                                                                                                                                                                                                                                                                                                                                                                                                                                                                                                                                                                                                                                                                                                                                                                                                                                                                                                                                                                                                                                                                                                                    HERE S WHAT MCCAIN SAID THAT GOT RAND PAUL ALL WORKED UP :   \n",
       "\n",
       "                                                                                                                                                                                                                                                                                                                                                                                                                                                                                                                                                                                                                                                                                                                                                                                                                                                                                                                                                                                                                                                                                                                                                                                                                                                                                                                                                                                                                                                                                                                                                                                                                                                                                                                                                                                                                                                                                                                                                                                                                                                                                                                                                                                                                                                                                                                                                                                                                                                                                                                                                                                                                                                                                                                                                                                                                                                                                                                                                                                                                                                                                                                                                                                                                                                                                                                                                                                                                                                                                                                                                                                                                                                                                                                                                                                                                                                                                                                                                                                                                                               wordnetPOS  \n",
       "23724  Among the senseless beating inflict on reality during the presidential debate on Monday night be the discussion of New York City 's tactic . Donald J. Trump attribute a nonexistent increase in murder to action that never happen , namely , the end of the practice by , variously , `` a judge , who be a very judge , '' and the `` current mayor. `` This be multilayered fiction . Murder decline . A judge do not end . Neither do the current mayor . In fact , the Police Department begin to drastically curtail it use in 2012 , under the administration of Mayor Michael R. Bloomberg , an independent . This be well document but only lightly notice . On July 9 , 2012 , an editorial in The New York Post warn that the reduction in it use would lead to `` more blood in the street. `` By the way , do more blood run in the street ? No , less blood do . Murder be down 32 percent since 2011 , the last year of the old era , have drop to 352 homicide in 2015 from 515 in 2011 . In the same period , stop be down by about 97 percent , say J. Peter Donald , a spokesman for the department . During the debate , Hillary Clinton , the Democratic nominee , allude to a few of these number . Mr. Trump , her Republican opponent , start shout . `` Under the current mayor , crime have continue to drop , include murder , '' she say . `` So there be — — `` `` No , you 're wrong , '' Mr. Trump interject . `` You 're wrong. `` `` No , I 'm not , '' Mrs. Clinton say . `` Murders be up , all right , '' Mr. Trump say . `` You check it. `` All right , a Mr. Trump say , let 's check it . A Google search for `` Historical New York City Crime Data '' will bring you to a site with chart of serious felony . Frisks go down . So have murder , a steady decline that have continue , with slight annual variation , through this year . In the use by Mr. Trump , those detail land upside down . Also , he repeat a more common mistake about the decline of the tactic , attribute it to a federal judge hear a lawsuit against the city , and to Mayor Bill de Blasio , a Democrat , who succeed Mr. Bloomberg in 2014 . `` It be terminate by the current mayor , '' Mr. Trump say . Actually , no . Last year , the city police conduct 22 , 939 stop , or about 63 a day . So be not terminate by Mr. de Blasio , or by anyone else for that matter . It 's true that the use of the tactic have decline . During the mayoralty of Mr. Bloomberg , the number of reported stop skyrocket , but then be scale back a the city face pressure from the litigation , bring by the New York Civil Liberties Union and the Center for Constitutional Rights . By the end of 2013 , the year Shira A. Scheindlin , the federal judge hear the case , rule that the city 's wholesale search practice violate the Constitution , the number of stop have decline by 72 percent from it peak in 2011 . `` But have a tremendous impact on the safety of New York City , '' Mr. Trump say during the debate . `` Tremendous beyond belief . So when you say it have no impact , it really do . It have a very , very big impact. `` During the era praise by Mr. Trump , about 90 percent of the people who be stop be young black or Latino men who have commit no crime whatsoever , accord to police data . Of those few who be arrest , the vast majority be charge with nothing more serious than possession of marijuana , not have gun . Hundreds of thousand of innocent people be be stop every year so that the city could arrest ten of thousand for have weed . Applied almost exclusively to minority , the tactic in New York become an elephantine government project that waste time and money , degrade both to the personhood of the men and woman who be stop and to the professionalism of the people do the stopping . It be poor social hygiene , not defensible a a matter of law or a effective law and order . As Mr. Trump say , it be `` tremendous beyond belief. `` Just so .  \n",
       "47399                                                                                                                                                                                                                                                                                                                                                                                                                                                                                                                                                                                                                                                                                                                                                                                                                                                                                                                                                                                                                                                                                                                                                                                                                                                                                                                                                                                                                                                                                                                                                                                                                                                                                                                                                                                                                                                                                                                                                                                                                                                                                                                                                                                                                                                                                                                                                                                                                                                                                                                                                                                                                                                                                                                                                                                                                                                                                                                                                                                                                                                                                                                                                                                                                    Even Daddy be n't totally immune from public sector bureaucracy and delay . So we 're give him a head start ! [ Starring : MILO , MILO 's trainer Will Magner , Brett Gilly , _USER_ , Mike Ma and special guest PABLITO . Shot and edit by Matthew Perdie . MILO wear Lunar Force 1 Duckboot by Nike , _CUR_165 . Sportswear tech fleece windrunner by Nike , _CUR_130 . Sportswear tech fleece men 's jogger by Nike , _CUR_100 . Glasses by Givenchy , _CUR_350 . Snake emboss leather baseball hat by Gucci , _CUR_560 . DANGEROUS be available to now via Amazon , in hardcover and Kindle edition . And yes , MILO be read the audiobook version himself ! Follow Milo Yiannopoulos on Facebook , Instagram and Snapchat . Hear him every Friday on The Milo Yiannopoulos Show . Write to Milo at milo @ breitbart . com .  \n",
       "23459                                                                                                                                                                                                                                                                                                                                                                                                                                                                                                                                                                                                                                                                                                                                                                                                                                                                                                                                                                                                                                                                                                                                                                                                                                                                                                                                                                                                                                                                                                                                                                                                                                                                                                                                                                                                                                                                                                                                                                                                                                                                                                                                                                                                                                                                                                                                                                                                                                                                                                                                                                                    An Etihad Airways flight travel from Abu Dhabi to Sydney make an emergency land at Australia s Adelaide Airport early on Saturday after a warning indicator activate in the cockpit . Crew on board Etihad flight EY450 land the plane at 5 a.m. at Adelaide Airport , in the state of South Australia . The Boeing 777 passenger jet have 349 passenger on board who disembark via emergency exit , accord to online news service Adelaide Advertiser . A technical fault with a cargo hold air recirculation fan have be find , Etihad Airways tell Reuters in an email . Etihad Airways apologize for the inconvenience . The safety of our guest and crew be of paramount importance , it say . Australia s ABC News have report that a smoke alarm have activate . Passengers would make their onward journey via other airline due to crew rest requirement , the airline say . Saturday s Etihad flight EY451 , from Sydney to Abu Dhabi , have be cancel and passenger would be reschedule on later Etihad service out of Sydney , the airline say . It be the second incident this year for the Etihad flight that connect Australia s big city with the hub of Abu Dhabi , where passenger transit for worldwide destination . In July , four men be arrest in Sydney over an Islamist plot to attack the flight . One of the men send his unsuspecting brother to catch the July 15 Sydney to Abu Dhabi flight carry a bomb hidden in a meat-mincer .  \n",
       "16024                                                                                                                                                                                                                                                                                                                                                                                                                                                                                                                                                                                                                                                                                                                                                                                                                                                                                                                                                                                                                                                                                                                                                                                                                                                                                                                                                                                                                                                                                                                                                                                                                                                                                                                                                                                                                                                                                                                                    A Columbia University professor from Brooklyn go into hide Thursday after pal James Comey reveal during his Senate testimony that the man leak memos detail the former FBI chief s conversation with President Trump to the press.But Richman have vanish from his Henry Street dig by midday , and family member , friend and neighbor wouldn t answer door or phone call to shed any more light.A doorman eventually turn security guard to stop reporter enter the building.Richman s wife , Alexandra Bowie , be a former president of the influential neighborhood civic group the Brooklyn Heights Association . Its director , Peter Bray , decline to speak about the man who have suddenly usurped Lena Dunham a the nabe s most famous inhabitant.Comey say in his testimony that he decide to give the content of his Trump memo to his good friend to leak to the press after President Trump tweet out about possible take of their conversation . Comey also say of leak the memo , I think it might prompt the appointment of a special counsel . Via : NYPWho know the FBI Director be a leaker ! This be too much ! Our intel community have become so politicized that it prohibit them from follow the law or even focus on gutting to the truth ! During testimony today , Susan Collins ask if Comey ever share memo from President Trump : COMEY S RESPONSE WAS A SHOCKER . HE SAID HE FELT HE NEEDED TO GET THAT OUT INTO THE PUBLIC SQUARE SO HE ASKED A FRIEND TO SHARE THE MEMO WITH A REPORTER : The person that Comey give the memo to be a former classmate from Columbia Law School . He be consider to be a and adviser to Comey . Daniel Richman be in the video below and be a rather interesting guy . The video be date but be mean to give you an idea of the character of this friend and adviser to the former FBI Director.Comey state : James Comey leak detail of his conversation with _USER_ to friend and confidant Daniel Richman.Does this man look sane to you ? _URL_ Josh Caplan June 8 , 2017 Does this man look sane to you ? _URL_ Josh Caplan June 8 , 2017  \n",
       "75038                                                                                                                                                                                                                                                                                                                                                                                                                                                                                                                                                                                                                                                                                                                                                                                                                                                                                                                                                                                                                                                                                                                                                                                                                                                                                                                                                                                                                                                                                                                                                                                                                                                                                                                                                                                                                                                                                                                                                                                                                                                                                                                                                                                                                                                                                                                                                                                                                                                                                                                                                                                                                                                                                                                                                                                                                                                                                                                                                                                                                                                                                                                                                                                                                                                                                                                                                                                                                                                                                                                                                                                                                                                                                                                                                                                                                                                                                                                                                                                          HERE S WHAT MCCAIN SAID THAT GOT RAND PAUL ALL WORKED UP :  "
      ]
     },
     "execution_count": 12,
     "metadata": {},
     "output_type": "execute_result"
    }
   ],
   "source": [
    "# Apply the processing functions and measure the time for each\n",
    "# Porter Stemmer\n",
    "start_time = time.time()\n",
    "df_sample['porter'] = df_sample['content'].apply(process_porter)\n",
    "print(\"Porter Stemmer time: {:.4f} seconds\".format(time.time() - start_time))\n",
    "\n",
    "# Snowball Stemmer\n",
    "start_time = time.time()\n",
    "df_sample['snowball'] = df_sample['content'].apply(process_snowball)\n",
    "print(\"Snowball Stemmer time: {:.4f} seconds\".format(time.time() - start_time))\n",
    "\n",
    "# WordNet Lemmatizer\n",
    "start_time = time.time()\n",
    "df_sample['wordnet'] = df_sample['content'].apply(process_wordnet)\n",
    "print(\"WordNet Lemmatizer time: {:.4f} seconds\".format(time.time() - start_time))\n",
    "\n",
    "# WordNet Lemmatizer with POS tagging\n",
    "start_time = time.time()\n",
    "df_sample['wordnetPOS'] = df_sample['content'].apply(lemmatize_passage)\n",
    "print(\"WordNet Lemmatizer with POS tagging time: {:.4f} seconds\".format(time.time() - start_time))\n",
    "\n",
    "# Display the resulting dataframe with the new columns\n",
    "df_sample.head()"
   ]
  },
  {
   "cell_type": "markdown",
   "id": "8f0ddf4b",
   "metadata": {
    "id": "8f0ddf4b"
   },
   "source": [
    "The results with the lemmatiser are far superior to the two stemmers tested. For example, both stemmers change \"president\" to \"presid\" and \"Hillary\" to \"hillari\". Therefore i will apply the lemmatiser and POS tagging to the entire dataset."
   ]
  },
  {
   "cell_type": "code",
   "execution_count": 13,
   "id": "90e7e981",
   "metadata": {
    "colab": {
     "referenced_widgets": [
      "95d7f121066b4940bf2a3179e539b69d"
     ]
    },
    "id": "90e7e981",
    "outputId": "a65d1225-ba8b-4e76-9769-45049df0b7d4"
   },
   "outputs": [
    {
     "data": {
      "application/vnd.jupyter.widget-view+json": {
       "model_id": "4ea9776986684ed597c88e225a83e075",
       "version_major": 2,
       "version_minor": 0
      },
      "text/plain": [
       "  0%|          | 0/78588 [00:00<?, ?it/s]"
      ]
     },
     "metadata": {},
     "output_type": "display_data"
    },
    {
     "ename": "KeyboardInterrupt",
     "evalue": "",
     "output_type": "error",
     "traceback": [
      "\u001b[1;31m---------------------------------------------------------------------------\u001b[0m",
      "\u001b[1;31mKeyboardInterrupt\u001b[0m                         Traceback (most recent call last)",
      "Cell \u001b[1;32mIn[13], line 3\u001b[0m\n\u001b[0;32m      1\u001b[0m \u001b[38;5;66;03m#apply POS tagging and lemmatiser to entire df\u001b[39;00m\n\u001b[0;32m      2\u001b[0m start_time \u001b[38;5;241m=\u001b[39m time\u001b[38;5;241m.\u001b[39mtime()\n\u001b[1;32m----> 3\u001b[0m df[\u001b[38;5;124m'\u001b[39m\u001b[38;5;124mcontent_lemma\u001b[39m\u001b[38;5;124m'\u001b[39m] \u001b[38;5;241m=\u001b[39m \u001b[43mdf\u001b[49m\u001b[43m[\u001b[49m\u001b[38;5;124;43m'\u001b[39;49m\u001b[38;5;124;43mcontent\u001b[39;49m\u001b[38;5;124;43m'\u001b[39;49m\u001b[43m]\u001b[49m\u001b[38;5;241;43m.\u001b[39;49m\u001b[43mprogress_apply\u001b[49m\u001b[43m(\u001b[49m\u001b[43mlemmatize_passage\u001b[49m\u001b[43m)\u001b[49m\n\u001b[0;32m      4\u001b[0m \u001b[38;5;28mprint\u001b[39m(\u001b[38;5;124m\"\u001b[39m\u001b[38;5;124mWordNet Lemmatizer with POS tagging time: \u001b[39m\u001b[38;5;132;01m{:.4f}\u001b[39;00m\u001b[38;5;124m seconds\u001b[39m\u001b[38;5;124m\"\u001b[39m\u001b[38;5;241m.\u001b[39mformat(time\u001b[38;5;241m.\u001b[39mtime() \u001b[38;5;241m-\u001b[39m start_time))\n\u001b[0;32m      5\u001b[0m df\u001b[38;5;241m.\u001b[39mhead()\n",
      "File \u001b[1;32m~\\anaconda3\\lib\\site-packages\\tqdm\\std.py:814\u001b[0m, in \u001b[0;36mtqdm.pandas.<locals>.inner_generator.<locals>.inner\u001b[1;34m(df, func, *args, **kwargs)\u001b[0m\n\u001b[0;32m    811\u001b[0m \u001b[38;5;66;03m# Apply the provided function (in **kwargs)\u001b[39;00m\n\u001b[0;32m    812\u001b[0m \u001b[38;5;66;03m# on the df using our wrapper (which provides bar updating)\u001b[39;00m\n\u001b[0;32m    813\u001b[0m \u001b[38;5;28;01mtry\u001b[39;00m:\n\u001b[1;32m--> 814\u001b[0m     \u001b[38;5;28;01mreturn\u001b[39;00m \u001b[38;5;28mgetattr\u001b[39m(df, df_function)(wrapper, \u001b[38;5;241m*\u001b[39m\u001b[38;5;241m*\u001b[39mkwargs)\n\u001b[0;32m    815\u001b[0m \u001b[38;5;28;01mfinally\u001b[39;00m:\n\u001b[0;32m    816\u001b[0m     t\u001b[38;5;241m.\u001b[39mclose()\n",
      "File \u001b[1;32m~\\anaconda3\\lib\\site-packages\\pandas\\core\\series.py:4771\u001b[0m, in \u001b[0;36mSeries.apply\u001b[1;34m(self, func, convert_dtype, args, **kwargs)\u001b[0m\n\u001b[0;32m   4661\u001b[0m \u001b[38;5;28;01mdef\u001b[39;00m \u001b[38;5;21mapply\u001b[39m(\n\u001b[0;32m   4662\u001b[0m     \u001b[38;5;28mself\u001b[39m,\n\u001b[0;32m   4663\u001b[0m     func: AggFuncType,\n\u001b[1;32m   (...)\u001b[0m\n\u001b[0;32m   4666\u001b[0m     \u001b[38;5;241m*\u001b[39m\u001b[38;5;241m*\u001b[39mkwargs,\n\u001b[0;32m   4667\u001b[0m ) \u001b[38;5;241m-\u001b[39m\u001b[38;5;241m>\u001b[39m DataFrame \u001b[38;5;241m|\u001b[39m Series:\n\u001b[0;32m   4668\u001b[0m \u001b[38;5;250m    \u001b[39m\u001b[38;5;124;03m\"\"\"\u001b[39;00m\n\u001b[0;32m   4669\u001b[0m \u001b[38;5;124;03m    Invoke function on values of Series.\u001b[39;00m\n\u001b[0;32m   4670\u001b[0m \n\u001b[1;32m   (...)\u001b[0m\n\u001b[0;32m   4769\u001b[0m \u001b[38;5;124;03m    dtype: float64\u001b[39;00m\n\u001b[0;32m   4770\u001b[0m \u001b[38;5;124;03m    \"\"\"\u001b[39;00m\n\u001b[1;32m-> 4771\u001b[0m     \u001b[38;5;28;01mreturn\u001b[39;00m \u001b[43mSeriesApply\u001b[49m\u001b[43m(\u001b[49m\u001b[38;5;28;43mself\u001b[39;49m\u001b[43m,\u001b[49m\u001b[43m \u001b[49m\u001b[43mfunc\u001b[49m\u001b[43m,\u001b[49m\u001b[43m \u001b[49m\u001b[43mconvert_dtype\u001b[49m\u001b[43m,\u001b[49m\u001b[43m \u001b[49m\u001b[43margs\u001b[49m\u001b[43m,\u001b[49m\u001b[43m \u001b[49m\u001b[43mkwargs\u001b[49m\u001b[43m)\u001b[49m\u001b[38;5;241;43m.\u001b[39;49m\u001b[43mapply\u001b[49m\u001b[43m(\u001b[49m\u001b[43m)\u001b[49m\n",
      "File \u001b[1;32m~\\anaconda3\\lib\\site-packages\\pandas\\core\\apply.py:1123\u001b[0m, in \u001b[0;36mSeriesApply.apply\u001b[1;34m(self)\u001b[0m\n\u001b[0;32m   1120\u001b[0m     \u001b[38;5;28;01mreturn\u001b[39;00m \u001b[38;5;28mself\u001b[39m\u001b[38;5;241m.\u001b[39mapply_str()\n\u001b[0;32m   1122\u001b[0m \u001b[38;5;66;03m# self.f is Callable\u001b[39;00m\n\u001b[1;32m-> 1123\u001b[0m \u001b[38;5;28;01mreturn\u001b[39;00m \u001b[38;5;28;43mself\u001b[39;49m\u001b[38;5;241;43m.\u001b[39;49m\u001b[43mapply_standard\u001b[49m\u001b[43m(\u001b[49m\u001b[43m)\u001b[49m\n",
      "File \u001b[1;32m~\\anaconda3\\lib\\site-packages\\pandas\\core\\apply.py:1174\u001b[0m, in \u001b[0;36mSeriesApply.apply_standard\u001b[1;34m(self)\u001b[0m\n\u001b[0;32m   1172\u001b[0m     \u001b[38;5;28;01melse\u001b[39;00m:\n\u001b[0;32m   1173\u001b[0m         values \u001b[38;5;241m=\u001b[39m obj\u001b[38;5;241m.\u001b[39mastype(\u001b[38;5;28mobject\u001b[39m)\u001b[38;5;241m.\u001b[39m_values\n\u001b[1;32m-> 1174\u001b[0m         mapped \u001b[38;5;241m=\u001b[39m \u001b[43mlib\u001b[49m\u001b[38;5;241;43m.\u001b[39;49m\u001b[43mmap_infer\u001b[49m\u001b[43m(\u001b[49m\n\u001b[0;32m   1175\u001b[0m \u001b[43m            \u001b[49m\u001b[43mvalues\u001b[49m\u001b[43m,\u001b[49m\n\u001b[0;32m   1176\u001b[0m \u001b[43m            \u001b[49m\u001b[43mf\u001b[49m\u001b[43m,\u001b[49m\n\u001b[0;32m   1177\u001b[0m \u001b[43m            \u001b[49m\u001b[43mconvert\u001b[49m\u001b[38;5;241;43m=\u001b[39;49m\u001b[38;5;28;43mself\u001b[39;49m\u001b[38;5;241;43m.\u001b[39;49m\u001b[43mconvert_dtype\u001b[49m\u001b[43m,\u001b[49m\n\u001b[0;32m   1178\u001b[0m \u001b[43m        \u001b[49m\u001b[43m)\u001b[49m\n\u001b[0;32m   1180\u001b[0m \u001b[38;5;28;01mif\u001b[39;00m \u001b[38;5;28mlen\u001b[39m(mapped) \u001b[38;5;129;01mand\u001b[39;00m \u001b[38;5;28misinstance\u001b[39m(mapped[\u001b[38;5;241m0\u001b[39m], ABCSeries):\n\u001b[0;32m   1181\u001b[0m     \u001b[38;5;66;03m# GH#43986 Need to do list(mapped) in order to get treated as nested\u001b[39;00m\n\u001b[0;32m   1182\u001b[0m     \u001b[38;5;66;03m#  See also GH#25959 regarding EA support\u001b[39;00m\n\u001b[0;32m   1183\u001b[0m     \u001b[38;5;28;01mreturn\u001b[39;00m obj\u001b[38;5;241m.\u001b[39m_constructor_expanddim(\u001b[38;5;28mlist\u001b[39m(mapped), index\u001b[38;5;241m=\u001b[39mobj\u001b[38;5;241m.\u001b[39mindex)\n",
      "File \u001b[1;32m~\\anaconda3\\lib\\site-packages\\pandas\\_libs\\lib.pyx:2924\u001b[0m, in \u001b[0;36mpandas._libs.lib.map_infer\u001b[1;34m()\u001b[0m\n",
      "File \u001b[1;32m~\\anaconda3\\lib\\site-packages\\tqdm\\std.py:809\u001b[0m, in \u001b[0;36mtqdm.pandas.<locals>.inner_generator.<locals>.inner.<locals>.wrapper\u001b[1;34m(*args, **kwargs)\u001b[0m\n\u001b[0;32m    803\u001b[0m \u001b[38;5;28;01mdef\u001b[39;00m \u001b[38;5;21mwrapper\u001b[39m(\u001b[38;5;241m*\u001b[39margs, \u001b[38;5;241m*\u001b[39m\u001b[38;5;241m*\u001b[39mkwargs):\n\u001b[0;32m    804\u001b[0m     \u001b[38;5;66;03m# update tbar correctly\u001b[39;00m\n\u001b[0;32m    805\u001b[0m     \u001b[38;5;66;03m# it seems `pandas apply` calls `func` twice\u001b[39;00m\n\u001b[0;32m    806\u001b[0m     \u001b[38;5;66;03m# on the first column/row to decide whether it can\u001b[39;00m\n\u001b[0;32m    807\u001b[0m     \u001b[38;5;66;03m# take a fast or slow code path; so stop when t.total==t.n\u001b[39;00m\n\u001b[0;32m    808\u001b[0m     t\u001b[38;5;241m.\u001b[39mupdate(n\u001b[38;5;241m=\u001b[39m\u001b[38;5;241m1\u001b[39m \u001b[38;5;28;01mif\u001b[39;00m \u001b[38;5;129;01mnot\u001b[39;00m t\u001b[38;5;241m.\u001b[39mtotal \u001b[38;5;129;01mor\u001b[39;00m t\u001b[38;5;241m.\u001b[39mn \u001b[38;5;241m<\u001b[39m t\u001b[38;5;241m.\u001b[39mtotal \u001b[38;5;28;01melse\u001b[39;00m \u001b[38;5;241m0\u001b[39m)\n\u001b[1;32m--> 809\u001b[0m     \u001b[38;5;28;01mreturn\u001b[39;00m func(\u001b[38;5;241m*\u001b[39margs, \u001b[38;5;241m*\u001b[39m\u001b[38;5;241m*\u001b[39mkwargs)\n",
      "Cell \u001b[1;32mIn[11], line 39\u001b[0m, in \u001b[0;36mlemmatize_passage\u001b[1;34m(text)\u001b[0m\n\u001b[0;32m     37\u001b[0m \u001b[38;5;28;01mdef\u001b[39;00m \u001b[38;5;21mlemmatize_passage\u001b[39m(text):\n\u001b[0;32m     38\u001b[0m     words \u001b[38;5;241m=\u001b[39m word_tokenize(text)\n\u001b[1;32m---> 39\u001b[0m     pos_tags \u001b[38;5;241m=\u001b[39m \u001b[43mpos_tag\u001b[49m\u001b[43m(\u001b[49m\u001b[43mwords\u001b[49m\u001b[43m)\u001b[49m\n\u001b[0;32m     40\u001b[0m     lemmatizer \u001b[38;5;241m=\u001b[39m WordNetLemmatizer()\n\u001b[0;32m     41\u001b[0m     lemmatized_words \u001b[38;5;241m=\u001b[39m [lemmatizer\u001b[38;5;241m.\u001b[39mlemmatize(word, get_wordnet_pos(tag)) \u001b[38;5;28;01mfor\u001b[39;00m word, tag \u001b[38;5;129;01min\u001b[39;00m pos_tags]\n",
      "File \u001b[1;32m~\\anaconda3\\lib\\site-packages\\nltk\\tag\\__init__.py:169\u001b[0m, in \u001b[0;36mpos_tag\u001b[1;34m(tokens, tagset, lang)\u001b[0m\n\u001b[0;32m    144\u001b[0m \u001b[38;5;250m\u001b[39m\u001b[38;5;124;03m\"\"\"\u001b[39;00m\n\u001b[0;32m    145\u001b[0m \u001b[38;5;124;03mUse NLTK's currently recommended part of speech tagger to\u001b[39;00m\n\u001b[0;32m    146\u001b[0m \u001b[38;5;124;03mtag the given list of tokens.\u001b[39;00m\n\u001b[1;32m   (...)\u001b[0m\n\u001b[0;32m    166\u001b[0m \u001b[38;5;124;03m:rtype: list(tuple(str, str))\u001b[39;00m\n\u001b[0;32m    167\u001b[0m \u001b[38;5;124;03m\"\"\"\u001b[39;00m\n\u001b[0;32m    168\u001b[0m tagger \u001b[38;5;241m=\u001b[39m _get_tagger(lang)\n\u001b[1;32m--> 169\u001b[0m \u001b[38;5;28;01mreturn\u001b[39;00m \u001b[43m_pos_tag\u001b[49m\u001b[43m(\u001b[49m\u001b[43mtokens\u001b[49m\u001b[43m,\u001b[49m\u001b[43m \u001b[49m\u001b[43mtagset\u001b[49m\u001b[43m,\u001b[49m\u001b[43m \u001b[49m\u001b[43mtagger\u001b[49m\u001b[43m,\u001b[49m\u001b[43m \u001b[49m\u001b[43mlang\u001b[49m\u001b[43m)\u001b[49m\n",
      "File \u001b[1;32m~\\anaconda3\\lib\\site-packages\\nltk\\tag\\__init__.py:126\u001b[0m, in \u001b[0;36m_pos_tag\u001b[1;34m(tokens, tagset, tagger, lang)\u001b[0m\n\u001b[0;32m    123\u001b[0m     \u001b[38;5;28;01mraise\u001b[39;00m \u001b[38;5;167;01mTypeError\u001b[39;00m(\u001b[38;5;124m\"\u001b[39m\u001b[38;5;124mtokens: expected a list of strings, got a string\u001b[39m\u001b[38;5;124m\"\u001b[39m)\n\u001b[0;32m    125\u001b[0m \u001b[38;5;28;01melse\u001b[39;00m:\n\u001b[1;32m--> 126\u001b[0m     tagged_tokens \u001b[38;5;241m=\u001b[39m \u001b[43mtagger\u001b[49m\u001b[38;5;241;43m.\u001b[39;49m\u001b[43mtag\u001b[49m\u001b[43m(\u001b[49m\u001b[43mtokens\u001b[49m\u001b[43m)\u001b[49m\n\u001b[0;32m    127\u001b[0m     \u001b[38;5;28;01mif\u001b[39;00m tagset:  \u001b[38;5;66;03m# Maps to the specified tagset.\u001b[39;00m\n\u001b[0;32m    128\u001b[0m         \u001b[38;5;28;01mif\u001b[39;00m lang \u001b[38;5;241m==\u001b[39m \u001b[38;5;124m\"\u001b[39m\u001b[38;5;124meng\u001b[39m\u001b[38;5;124m\"\u001b[39m:\n",
      "File \u001b[1;32m~\\anaconda3\\lib\\site-packages\\nltk\\tag\\perceptron.py:201\u001b[0m, in \u001b[0;36mPerceptronTagger.tag\u001b[1;34m(self, tokens, return_conf, use_tagdict)\u001b[0m\n\u001b[0;32m    199\u001b[0m \u001b[38;5;28;01mif\u001b[39;00m \u001b[38;5;129;01mnot\u001b[39;00m tag:\n\u001b[0;32m    200\u001b[0m     features \u001b[38;5;241m=\u001b[39m \u001b[38;5;28mself\u001b[39m\u001b[38;5;241m.\u001b[39m_get_features(i, word, context, prev, prev2)\n\u001b[1;32m--> 201\u001b[0m     tag, conf \u001b[38;5;241m=\u001b[39m \u001b[38;5;28;43mself\u001b[39;49m\u001b[38;5;241;43m.\u001b[39;49m\u001b[43mmodel\u001b[49m\u001b[38;5;241;43m.\u001b[39;49m\u001b[43mpredict\u001b[49m\u001b[43m(\u001b[49m\u001b[43mfeatures\u001b[49m\u001b[43m,\u001b[49m\u001b[43m \u001b[49m\u001b[43mreturn_conf\u001b[49m\u001b[43m)\u001b[49m\n\u001b[0;32m    202\u001b[0m output\u001b[38;5;241m.\u001b[39mappend((word, tag, conf) \u001b[38;5;28;01mif\u001b[39;00m return_conf \u001b[38;5;241m==\u001b[39m \u001b[38;5;28;01mTrue\u001b[39;00m \u001b[38;5;28;01melse\u001b[39;00m (word, tag))\n\u001b[0;32m    204\u001b[0m prev2 \u001b[38;5;241m=\u001b[39m prev\n",
      "File \u001b[1;32m~\\anaconda3\\lib\\site-packages\\nltk\\tag\\perceptron.py:83\u001b[0m, in \u001b[0;36mAveragedPerceptron.predict\u001b[1;34m(self, features, return_conf)\u001b[0m\n\u001b[0;32m     81\u001b[0m     weights \u001b[38;5;241m=\u001b[39m \u001b[38;5;28mself\u001b[39m\u001b[38;5;241m.\u001b[39mweights[feat]\n\u001b[0;32m     82\u001b[0m     \u001b[38;5;28;01mfor\u001b[39;00m label, weight \u001b[38;5;129;01min\u001b[39;00m weights\u001b[38;5;241m.\u001b[39mitems():\n\u001b[1;32m---> 83\u001b[0m         scores[label] \u001b[38;5;241m+\u001b[39m\u001b[38;5;241m=\u001b[39m value \u001b[38;5;241m*\u001b[39m weight\n\u001b[0;32m     85\u001b[0m \u001b[38;5;66;03m# Do a secondary alphabetic sort, for stability\u001b[39;00m\n\u001b[0;32m     86\u001b[0m best_label \u001b[38;5;241m=\u001b[39m \u001b[38;5;28mmax\u001b[39m(\u001b[38;5;28mself\u001b[39m\u001b[38;5;241m.\u001b[39mclasses, key\u001b[38;5;241m=\u001b[39m\u001b[38;5;28;01mlambda\u001b[39;00m label: (scores[label], label))\n",
      "\u001b[1;31mKeyboardInterrupt\u001b[0m: "
     ]
    }
   ],
   "source": [
    "#apply POS tagging and lemmatiser to entire df\n",
    "start_time = time.time()\n",
    "df['content_lemma'] = df['content'].progress_apply(lemmatize_passage)\n",
    "print(\"WordNet Lemmatizer with POS tagging time: {:.4f} seconds\".format(time.time() - start_time))\n",
    "df.head()"
   ]
  },
  {
   "cell_type": "code",
   "execution_count": null,
   "id": "c4347be2",
   "metadata": {
    "id": "c4347be2"
   },
   "outputs": [],
   "source": [
    "df.to_csv('phase1_lemmatised.csv', index=False)"
   ]
  },
  {
   "cell_type": "markdown",
   "id": "e73e23a1",
   "metadata": {
    "id": "e73e23a1"
   },
   "source": [
    "### Remove stopwords, punctuation and lower case\n",
    "Removing stopwords (a set of common words) helps reduce noise in the data. I'm removing punctuation for the same reason. Finally, I'm converting all text to lower case to reduce vocabulary size. All these decisions will reduce sparsity in the data and make modelling easier."
   ]
  },
  {
   "cell_type": "code",
   "execution_count": null,
   "id": "073a5498",
   "metadata": {
    "id": "073a5498"
   },
   "outputs": [],
   "source": [
    "#create the stopword list and expand to include punctuation\n",
    "stop_words = set(stopwords.words('english'))\n",
    "stop_words.update(list(string.punctuation))\n",
    "\n",
    "def remove_stopwords_and_punct(text):\n",
    "    \"\"\"\n",
    "        Preprocesses a given text string by removing punctuation and stopwords and lowercasing the string.\n",
    "\n",
    "        Parameters:\n",
    "        ----------\n",
    "        text : str\n",
    "            The input text string to preprocess.\n",
    "\n",
    "        Returns:\n",
    "        -------\n",
    "        str\n",
    "            The cleaned and preprocessed text, with tokens joined back into a single string.\n",
    "    \"\"\"\n",
    "    #lower case the text\n",
    "    text = text.lower()\n",
    "    #remove punctuation using regex\n",
    "    text = re.sub(r'[' + re.escape(string.punctuation) + ']', '', text)\n",
    "    #create tokens\n",
    "    tokens = word_tokenize(text)\n",
    "    #filter out stop words\n",
    "    filtered_tokens = [word for word in tokens if word not in stop_words]\n",
    "    #return the string\n",
    "    return \" \".join(filtered_tokens)"
   ]
  },
  {
   "cell_type": "code",
   "execution_count": null,
   "id": "c262d787",
   "metadata": {
    "id": "c262d787"
   },
   "outputs": [],
   "source": [
    "# Apply final cleaning\n",
    "start_time = time.time()\n",
    "df['content_lemma_nostop'] = df['content_lemma'].apply(remove_stopwords_and_punct)\n",
    "print(\"Removing stopwords and punctuation: {:.4f} seconds\".format(time.time() - start_time))\n",
    "df.head(3)"
   ]
  },
  {
   "cell_type": "code",
   "execution_count": null,
   "id": "4d881d0e",
   "metadata": {
    "id": "4d881d0e"
   },
   "outputs": [],
   "source": [
    "df.to_csv('phase1_final_clean.csv', index=False)"
   ]
  },
  {
   "cell_type": "markdown",
   "id": "df28013d",
   "metadata": {
    "id": "df28013d"
   },
   "source": [
    "### Data Exploration\n",
    "Let's have a quick look at our cleaned data to understand it a little better."
   ]
  },
  {
   "cell_type": "code",
   "execution_count": null,
   "id": "d6a2fd8d",
   "metadata": {
    "id": "d6a2fd8d"
   },
   "outputs": [],
   "source": [
    "def get_top_n_words_by_class(df, text_column, label_column, n=10):\n",
    "    top_words_by_class = {}\n",
    "    for label in df[label_column].unique():\n",
    "        #get the texts for just one class\n",
    "        texts = df[df[label_column] == label][text_column]\n",
    "        #create a CountVectorizer\n",
    "        vectorizer = CountVectorizer()\n",
    "        X = vectorizer.fit_transform(texts)\n",
    "        #sum up word counts over all documents in this class\n",
    "        word_counts = np.asarray(X.sum(axis=0)).flatten()\n",
    "        words = vectorizer.get_feature_names_out()\n",
    "        #get indices for the top n words (in descending order)\n",
    "        top_n_idx = word_counts.argsort()[::-1][:n]\n",
    "        top_words = [(words[i], word_counts[i]) for i in top_n_idx]\n",
    "        top_words_by_class[label] = top_words\n",
    "    return top_words_by_class\n",
    "\n",
    "#get top 10 words for each class\n",
    "top_words = get_top_n_words_by_class(df, 'content', 'label', n=10)\n",
    "for label, words in top_words.items():\n",
    "    print(f\"Top words for class {label}:\")\n",
    "    print(words)\n",
    "    print()"
   ]
  },
  {
   "cell_type": "code",
   "execution_count": null,
   "id": "eea65ce1",
   "metadata": {
    "id": "eea65ce1",
    "outputId": "e421984f-ba6a-446d-8724-abb100fc0593"
   },
   "outputs": [],
   "source": [
    "def get_top_n_ngrams_by_class(df, text_column, label_column, ngram_range=(2, 2), n=10):\n",
    "    \"\"\"\n",
    "    Returns the top n n-grams for each class in the dataframe.\n",
    "\n",
    "    Parameters:\n",
    "    -----------\n",
    "    df : pd.DataFrame\n",
    "        The DataFrame containing the text data.\n",
    "    text_column : str\n",
    "        The name of the column containing the text.\n",
    "    label_column : str\n",
    "        The name of the column containing the class labels.\n",
    "    ngram_range : tuple (min_n, max_n)\n",
    "        The lower and upper boundary of the range of n-values for different n-grams.\n",
    "    n : int\n",
    "        The number of top n-grams to return.\n",
    "\n",
    "    Returns:\n",
    "    --------\n",
    "    dict\n",
    "        A dictionary where keys are class labels and values are lists of tuples,\n",
    "        each tuple containing an n-gram and its frequency.\n",
    "    \"\"\"\n",
    "    top_ngrams_by_class = {}\n",
    "\n",
    "    for label in df[label_column].unique():\n",
    "        #get the texts for only 1 class\n",
    "        subset = df[df[label_column] == label]\n",
    "        #initialize the vectorizer\n",
    "        vectorizer = CountVectorizer(ngram_range=ngram_range)\n",
    "        X = vectorizer.fit_transform(subset[text_column])\n",
    "        #sum word counts for each n-gram in the subset\n",
    "        ngram_counts = np.asarray(X.sum(axis=0)).flatten()\n",
    "        ngrams = vectorizer.get_feature_names_out()\n",
    "        #get indices of the top n n-grams, sorted by frequency\n",
    "        top_n_idx = ngram_counts.argsort()[::-1][:n]\n",
    "        top_ngrams = [(ngrams[i], ngram_counts[i]) for i in top_n_idx]\n",
    "        top_ngrams_by_class[label] = top_ngrams\n",
    "\n",
    "    return top_ngrams_by_class\n",
    "\n",
    "#Get top 10 bigrams for each class\n",
    "top_ngrams = get_top_n_ngrams_by_class(df, 'content', 'label', ngram_range=(2,2), n=10)\n",
    "for label, ngrams in top_ngrams.items():\n",
    "    print(f\"Top bi-grams for class {label}:\")\n",
    "    print(ngrams)"
   ]
  },
  {
   "cell_type": "code",
   "execution_count": null,
   "id": "5164e9bf",
   "metadata": {
    "id": "5164e9bf",
    "outputId": "e1fdc828-d794-4222-bd37-3fa49bc1c1cd"
   },
   "outputs": [],
   "source": [
    "def plot_wordclouds_by_class(df, text_column, label_column, width=800, height=400, bg_color='white'):\n",
    "    \"\"\"\n",
    "    Generates and displays a word cloud for each class in the DataFrame.\n",
    "\n",
    "    Parameters:\n",
    "    -----------\n",
    "    df : pd.DataFrame\n",
    "        The DataFrame containing your data.\n",
    "    text_column : str\n",
    "        The name of the column that contains the text to analyze.\n",
    "    label_column : str\n",
    "        The name of the column containing the class labels.\n",
    "    width : int, optional\n",
    "        The width of the generated word cloud image (default is 800).\n",
    "    height : int, optional\n",
    "        The height of the generated word cloud image (default is 400).\n",
    "    bg_color : str, optional\n",
    "        The background color for the word cloud (default is 'white').\n",
    "    \"\"\"\n",
    "    #get the unique class labels\n",
    "    classes = df[label_column].unique()\n",
    "\n",
    "    for cls in classes:\n",
    "        #combine text for the current class\n",
    "        class_text = \" \".join(df[df[label_column] == cls][text_column].dropna())\n",
    "\n",
    "        #generate wordcloud\n",
    "        wordcloud = WordCloud(width=width, height=height, background_color=bg_color).generate(class_text)\n",
    "\n",
    "        #plot wordcloud\n",
    "        plt.figure(figsize=(10, 5))\n",
    "        plt.imshow(wordcloud, interpolation='bilinear')\n",
    "        plt.axis(\"off\")\n",
    "        plt.title(f\"Word Cloud for Class {cls}\")\n",
    "        plt.show()\n",
    "\n",
    "plot_wordclouds_by_class(df, text_column='content', label_column='label')"
   ]
  },
  {
   "cell_type": "code",
   "execution_count": null,
   "id": "2e203887",
   "metadata": {
    "id": "2e203887",
    "outputId": "37ded3cd-6229-4d27-d937-5dc8d31d5fb8"
   },
   "outputs": [],
   "source": [
    "#see document length distribution by class\n",
    "df['doc_length'] = df['content'].apply(lambda x: len(x.split()))\n",
    "classes = df['label'].unique(\n",
    "lengths_by_class = [df[df['label'] == cls]['doc_length'] for cls in classes]\n",
    "\n",
    "#plot a stacked histogram of document lengths by class\n",
    "plt.figure(figsize=(10, 6))\n",
    "plt.hist(lengths_by_class, bins=50, stacked=True, label=classes)\n",
    "plt.xlabel('Document Length (number of words)')\n",
    "plt.ylabel('Number of Documents')\n",
    "plt.title('Document Length Distribution by Class')\n",
    "plt.legend(title='Class')\n",
    "plt.show()"
   ]
  },
  {
   "cell_type": "markdown",
   "id": "6ca519b7",
   "metadata": {
    "id": "6ca519b7"
   },
   "source": [
    "## Phase 2: Misinformation Typology Classification\n",
    "For the second stage, a new dataset was created (see data scraping notebook) to classify misinformation into one\n",
    "of four categories from the Molina taxonomy. 400 articles per label were collected, resulting in a balanced dataset of 1,600 samples.\n",
    "\n",
    "We will apply the exact same cleaning steps as before to this new dataset."
   ]
  },
  {
   "cell_type": "code",
   "execution_count": null,
   "id": "ae7c40e2",
   "metadata": {
    "id": "ae7c40e2",
    "outputId": "075caba4-297e-48c6-b268-4ff33ee9a8b8"
   },
   "outputs": [],
   "source": [
    "df2 = pd.read_csv('master.csv')\n",
    "#shuffle the dataset\n",
    "df2 = df2.sample(frac=1, random_state=999).reset_index(drop=True)\n",
    "#combine the title and text columns into a single column\n",
    "df2['content'] = df2['title'].fillna('') + \" \" + df2['text'].fillna('')\n",
    "#drop unnecessary columns\n",
    "df2 = df2[['content', 'class']]\n",
    "#basic checks\n",
    "print(\"DataFrame Info:\")\n",
    "df2.info()\n",
    "print(\"\\nClass overview:\")\n",
    "print(df2['class'].value_counts())\n",
    "#encode the classes\n",
    "le = LabelEncoder()\n",
    "df2['label'] = le.fit_transform(df2['class'])\n",
    "#see the mapping\n",
    "mapping = dict(zip(le.classes_, le.transform(le.classes_)))\n",
    "print(\"Label mapping:\", mapping)\n",
    "#drop unnecessary columns\n",
    "df2 = df2[['content', 'label']]\n",
    "#store\n",
    "df2.to_csv('phase2_first_clean.csv', index=False)"
   ]
  },
  {
   "cell_type": "code",
   "execution_count": null,
   "id": "738b2d98",
   "metadata": {
    "colab": {
     "referenced_widgets": [
      "cb48a8a2b252465aa35e8b256ba53c4a"
     ]
    },
    "id": "738b2d98",
    "outputId": "677f9f03-17d3-45f9-8b63-e4b128e6ee05"
   },
   "outputs": [],
   "source": [
    "start_time = time.time()\n",
    "df2['content'] = df2['content'].progress_apply(basic_clean)\n",
    "print(\"Basic clean: {:.4f} seconds\".format(time.time() - start_time))\n",
    "df2.head(3)"
   ]
  },
  {
   "cell_type": "code",
   "execution_count": null,
   "id": "11d16c9d",
   "metadata": {},
   "outputs": [],
   "source": [
    "#readability metrics\n",
    "df2['word_count'] = df2['content'].apply(lambda x: len(x.split()))\n",
    "df2['sentence_count'] = df2['content'].apply(lambda x: (textstat.sentence_count(x)))\n",
    "df2['flesch_reading_ease'] = df2['content'].apply(lambda x: textstat.flesch_reading_ease(x))"
   ]
  },
  {
   "cell_type": "code",
   "execution_count": null,
   "id": "05dd0868",
   "metadata": {
    "colab": {
     "referenced_widgets": [
      "336022e8d9254617b4303f9f723e739c"
     ]
    },
    "id": "05dd0868",
    "outputId": "043cb678-f878-4835-e666-7036fcbfcf28"
   },
   "outputs": [],
   "source": [
    "#apply POS tagging and lemmatiser to entire df\n",
    "start_time = time.time()\n",
    "df2['content_lemma'] = df2['content'].progress_apply(lemmatize_passage)\n",
    "print(\"WordNet Lemmatizer with POS tagging time: {:.4f} seconds\".format(time.time() - start_time))\n",
    "df2.head()"
   ]
  },
  {
   "cell_type": "code",
   "execution_count": null,
   "id": "4698e62c",
   "metadata": {
    "id": "4698e62c",
    "outputId": "972fcf28-8068-4505-9549-ba1e8f9290e3"
   },
   "outputs": [],
   "source": [
    "# Apply final cleaning\n",
    "start_time = time.time()\n",
    "df2['content_lemma_nostop'] = df2['content_lemma'].apply(remove_stopwords_and_punct)\n",
    "print(\"Removing stopwords and punctuation: {:.4f} seconds\".format(time.time() - start_time))\n",
    "df2.head(3)"
   ]
  },
  {
   "cell_type": "code",
   "execution_count": null,
   "id": "cdc02530",
   "metadata": {
    "id": "cdc02530"
   },
   "outputs": [],
   "source": [
    "df2.to_csv('phase2_final_clean.csv', index=False)"
   ]
  },
  {
   "cell_type": "markdown",
   "id": "3d5837ff",
   "metadata": {
    "id": "3d5837ff"
   },
   "source": [
    "### Data Exploration"
   ]
  },
  {
   "cell_type": "code",
   "execution_count": null,
   "id": "350b1374",
   "metadata": {
    "id": "350b1374",
    "outputId": "02478c22-39c6-4dd3-91e3-7a68cbe4aea5"
   },
   "outputs": [],
   "source": [
    "#get top 10 words for each class\n",
    "top_words = get_top_n_words_by_class(df2, 'content', 'label', n=10)\n",
    "for label, words in top_words.items():\n",
    "    print(f\"Top words for class {label}:\")\n",
    "    print(words)\n",
    "    print()"
   ]
  },
  {
   "cell_type": "code",
   "execution_count": null,
   "id": "15a44609",
   "metadata": {
    "id": "15a44609",
    "outputId": "dc682c27-68c4-4c0f-a34d-60e11aa6a941"
   },
   "outputs": [],
   "source": [
    "#get top 10 bigrams for each class\n",
    "top_ngrams = get_top_n_ngrams_by_class(df2, 'content', 'label', ngram_range=(2,2), n=10)\n",
    "for label, ngrams in top_ngrams.items():\n",
    "    print(f\"Top bi-grams for class {label}:\")\n",
    "    print(ngrams)"
   ]
  },
  {
   "cell_type": "code",
   "execution_count": null,
   "id": "306e8eff",
   "metadata": {
    "id": "306e8eff",
    "outputId": "d86f11be-a427-4f28-b942-b32410ea6bac"
   },
   "outputs": [],
   "source": [
    "#print wordcloud for each class\n",
    "plot_wordclouds_by_class(df2, text_column='content', label_column='label')"
   ]
  },
  {
   "cell_type": "code",
   "execution_count": null,
   "id": "985584c3",
   "metadata": {
    "id": "985584c3",
    "outputId": "487985b1-fe03-4f0c-82af-96e86d4aa86b"
   },
   "outputs": [],
   "source": [
    "#see document length distribution by class\n",
    "df2['doc_length'] = df2['content'].apply(lambda x: len(x.split()))\n",
    "classes = df2['label'].unique()\n",
    "lengths_by_class = [df2[df2['label'] == cls]['doc_length'] for cls in classes]\n",
    "\n",
    "#plot a stacked histogram of document lengths by class\n",
    "plt.figure(figsize=(10, 6))\n",
    "plt.hist(lengths_by_class, bins=50, stacked=True, label=classes)\n",
    "plt.xlabel('Document Length (number of words)')\n",
    "plt.ylabel('Number of Documents')\n",
    "plt.title('Document Length Distribution by Class')\n",
    "plt.legend(title='Class')\n",
    "plt.show()"
   ]
  },
  {
   "cell_type": "markdown",
   "id": "961ccde5",
   "metadata": {
    "id": "961ccde5"
   },
   "source": [
    "## Extra dataset to validate\n",
    "Extra data from ISOT dataset, downloaded from https://onlineacademiccommunity.uvic.ca/isot/2022/11/27/fake-news-detection-datasets/. This will be used to sense check the phase 1 model later. The same preprocessing is applied as to the Phase 1 and Phase 2 data."
   ]
  },
  {
   "cell_type": "code",
   "execution_count": null,
   "id": "f27e49b8",
   "metadata": {
    "id": "f27e49b8",
    "outputId": "3d2dbf40-d929-4780-a91f-134b2bbe3274"
   },
   "outputs": [],
   "source": [
    "fake_df = pd.read_csv('ISOT-Fake.csv')\n",
    "fake_df = fake_df.sample(n=250, random_state=123).copy()\n",
    "fake_df.drop(columns=['Unnamed: 0'], inplace=True)\n",
    "fake_df['label'] = 1\n",
    "true_df = pd.read_csv('ISOT-True.csv')\n",
    "true_df = fake_df.sample(n=250, random_state=123).copy()\n",
    "true_df['label'] = 0\n",
    "#combine the dataframes\n",
    "data = pd.concat([true_df, fake_df], ignore_index=True)\n",
    "#shuffle the dataset\n",
    "data = data.sample(frac=1, random_state=999).reset_index(drop=True)\n",
    "#rename column\n",
    "data = data.rename(columns={\"text\": \"content\"})\n",
    "#store\n",
    "data.to_csv('ExtraDataset.csv', index=False)\n",
    "data.head()"
   ]
  },
  {
   "cell_type": "code",
   "execution_count": null,
   "id": "daed68d7",
   "metadata": {
    "colab": {
     "referenced_widgets": [
      "129dab6ec596450e817d03c6813c8e4d"
     ]
    },
    "id": "daed68d7",
    "outputId": "acf0b3c1-1524-43af-9503-8362371dae8d"
   },
   "outputs": [],
   "source": [
    "start_time = time.time()\n",
    "#replace the censored words\n",
    "data['content'] = data['content'].progress_apply(lambda x: replace_censored_words(x, substitutions))\n",
    "#take care of the other random asterixes by replacing with a space e.g. \"language***killer\" and \"2016*you\"\n",
    "data['content'] = data['content'].str.replace(r'\\*', ' ', regex=True)\n",
    "#remove twitter noise (any time twitter is repeated 3 or more times in a row)\n",
    "data['content'] = data['content'].str.replace(r'(?i)(?:twitter){3,}', ' ', regex=True)\n",
    "#print time taken\n",
    "print(\"Replace censored words: {:.4f} seconds\".format(time.time() - start_time))\n",
    "#quick check\n",
    "data.head(3)"
   ]
  },
  {
   "cell_type": "code",
   "execution_count": null,
   "id": "e66f073c",
   "metadata": {
    "colab": {
     "referenced_widgets": [
      "ee57cec3a5bd4773ae238fcbad736aa2"
     ]
    },
    "id": "e66f073c",
    "outputId": "7cbaad05-1d42-4d8a-e4da-ea4d151a2d5a"
   },
   "outputs": [],
   "source": [
    "start_time = time.time()\n",
    "data['content'] = data['content'].progress_apply(basic_clean)\n",
    "print(\"Basic clean: {:.4f} seconds\".format(time.time() - start_time))\n",
    "data.head(3)"
   ]
  },
  {
   "cell_type": "code",
   "execution_count": null,
   "id": "923d2499",
   "metadata": {},
   "outputs": [],
   "source": [
    "data['word_count'] = data['content'].apply(lambda x: len(x.split()))\n",
    "data['sentence_count'] = data['content'].apply(lambda x: (textstat.sentence_count(x)))\n",
    "data['flesch_reading_ease'] = data['content'].apply(lambda x: textstat.flesch_reading_ease(x))"
   ]
  },
  {
   "cell_type": "code",
   "execution_count": null,
   "id": "a8f75557",
   "metadata": {
    "colab": {
     "referenced_widgets": [
      "54d6b68656af494ab4f84839e2a1f4ed"
     ]
    },
    "id": "a8f75557",
    "outputId": "7954a3d6-3757-4b84-ecd7-5a0f131f6e37"
   },
   "outputs": [],
   "source": [
    "#apply POS tagging and lemmatiser to entire df\n",
    "start_time = time.time()\n",
    "data['content_lemma'] = data['content'].progress_apply(lemmatize_passage)\n",
    "print(\"WordNet Lemmatizer with POS tagging time: {:.4f} seconds\".format(time.time() - start_time))\n",
    "data.head(3)"
   ]
  },
  {
   "cell_type": "code",
   "execution_count": null,
   "id": "ca092932",
   "metadata": {
    "id": "ca092932",
    "outputId": "9d94715e-8185-48cc-c571-cf237c2b0074"
   },
   "outputs": [],
   "source": [
    "# Apply final cleaning\n",
    "start_time = time.time()\n",
    "data['content_lemma_nostop'] = data['content_lemma'].apply(remove_stopwords_and_punct)\n",
    "print(\"Removing stopwords and punctuation: {:.4f} seconds\".format(time.time() - start_time))\n",
    "data.head(3)"
   ]
  },
  {
   "cell_type": "code",
   "execution_count": null,
   "id": "e93c5641",
   "metadata": {
    "id": "e93c5641"
   },
   "outputs": [],
   "source": [
    "data.to_csv('extra_data_final_clean.csv', index=False)"
   ]
  }
 ],
 "metadata": {
  "accelerator": "GPU",
  "colab": {
   "gpuType": "A100",
   "machine_shape": "hm",
   "provenance": []
  },
  "kernelspec": {
   "display_name": "Python 3 (ipykernel)",
   "language": "python",
   "name": "python3"
  },
  "language_info": {
   "codemirror_mode": {
    "name": "ipython",
    "version": 3
   },
   "file_extension": ".py",
   "mimetype": "text/x-python",
   "name": "python",
   "nbconvert_exporter": "python",
   "pygments_lexer": "ipython3",
   "version": "3.10.9"
  },
  "widgets": {
   "application/vnd.jupyter.widget-state+json": {
    "089ca46a36ad4820ae344000f2a765c4": {
     "model_module": "@jupyter-widgets/controls",
     "model_module_version": "1.5.0",
     "model_name": "ProgressStyleModel",
     "state": {
      "_model_module": "@jupyter-widgets/controls",
      "_model_module_version": "1.5.0",
      "_model_name": "ProgressStyleModel",
      "_view_count": null,
      "_view_module": "@jupyter-widgets/base",
      "_view_module_version": "1.2.0",
      "_view_name": "StyleView",
      "bar_color": null,
      "description_width": ""
     }
    },
    "186d5b794614407c83af14e0eca0d301": {
     "model_module": "@jupyter-widgets/controls",
     "model_module_version": "1.5.0",
     "model_name": "FloatProgressModel",
     "state": {
      "_dom_classes": [],
      "_model_module": "@jupyter-widgets/controls",
      "_model_module_version": "1.5.0",
      "_model_name": "FloatProgressModel",
      "_view_count": null,
      "_view_module": "@jupyter-widgets/controls",
      "_view_module_version": "1.5.0",
      "_view_name": "ProgressView",
      "bar_style": "success",
      "description": "",
      "description_tooltip": null,
      "layout": "IPY_MODEL_ab43ba9aef2c4e82991540c652d2a85d",
      "max": 78588,
      "min": 0,
      "orientation": "horizontal",
      "style": "IPY_MODEL_832075caaccb4004a668fcfe75acca67",
      "value": 78588
     }
    },
    "2afa685a1f2340a7a567ef1335144ea1": {
     "model_module": "@jupyter-widgets/controls",
     "model_module_version": "1.5.0",
     "model_name": "HTMLModel",
     "state": {
      "_dom_classes": [],
      "_model_module": "@jupyter-widgets/controls",
      "_model_module_version": "1.5.0",
      "_model_name": "HTMLModel",
      "_view_count": null,
      "_view_module": "@jupyter-widgets/controls",
      "_view_module_version": "1.5.0",
      "_view_name": "HTMLView",
      "description": "",
      "description_tooltip": null,
      "layout": "IPY_MODEL_3fc7b55fc6c94658a71efcfebd481e36",
      "placeholder": "​",
      "style": "IPY_MODEL_6c461ae2ac6748ca806d94b1b6e6b57b",
      "value": "100%"
     }
    },
    "2cba372ef2d741f7bd05c00b82c2d4e7": {
     "model_module": "@jupyter-widgets/base",
     "model_module_version": "1.2.0",
     "model_name": "LayoutModel",
     "state": {
      "_model_module": "@jupyter-widgets/base",
      "_model_module_version": "1.2.0",
      "_model_name": "LayoutModel",
      "_view_count": null,
      "_view_module": "@jupyter-widgets/base",
      "_view_module_version": "1.2.0",
      "_view_name": "LayoutView",
      "align_content": null,
      "align_items": null,
      "align_self": null,
      "border": null,
      "bottom": null,
      "display": null,
      "flex": null,
      "flex_flow": null,
      "grid_area": null,
      "grid_auto_columns": null,
      "grid_auto_flow": null,
      "grid_auto_rows": null,
      "grid_column": null,
      "grid_gap": null,
      "grid_row": null,
      "grid_template_areas": null,
      "grid_template_columns": null,
      "grid_template_rows": null,
      "height": null,
      "justify_content": null,
      "justify_items": null,
      "left": null,
      "margin": null,
      "max_height": null,
      "max_width": null,
      "min_height": null,
      "min_width": null,
      "object_fit": null,
      "object_position": null,
      "order": null,
      "overflow": null,
      "overflow_x": null,
      "overflow_y": null,
      "padding": null,
      "right": null,
      "top": null,
      "visibility": null,
      "width": null
     }
    },
    "3680883e78c24821a860160ca303b339": {
     "model_module": "@jupyter-widgets/controls",
     "model_module_version": "1.5.0",
     "model_name": "DescriptionStyleModel",
     "state": {
      "_model_module": "@jupyter-widgets/controls",
      "_model_module_version": "1.5.0",
      "_model_name": "DescriptionStyleModel",
      "_view_count": null,
      "_view_module": "@jupyter-widgets/base",
      "_view_module_version": "1.2.0",
      "_view_name": "StyleView",
      "description_width": ""
     }
    },
    "39ef300a70844ee0a549818937361628": {
     "model_module": "@jupyter-widgets/base",
     "model_module_version": "1.2.0",
     "model_name": "LayoutModel",
     "state": {
      "_model_module": "@jupyter-widgets/base",
      "_model_module_version": "1.2.0",
      "_model_name": "LayoutModel",
      "_view_count": null,
      "_view_module": "@jupyter-widgets/base",
      "_view_module_version": "1.2.0",
      "_view_name": "LayoutView",
      "align_content": null,
      "align_items": null,
      "align_self": null,
      "border": null,
      "bottom": null,
      "display": null,
      "flex": null,
      "flex_flow": null,
      "grid_area": null,
      "grid_auto_columns": null,
      "grid_auto_flow": null,
      "grid_auto_rows": null,
      "grid_column": null,
      "grid_gap": null,
      "grid_row": null,
      "grid_template_areas": null,
      "grid_template_columns": null,
      "grid_template_rows": null,
      "height": null,
      "justify_content": null,
      "justify_items": null,
      "left": null,
      "margin": null,
      "max_height": null,
      "max_width": null,
      "min_height": null,
      "min_width": null,
      "object_fit": null,
      "object_position": null,
      "order": null,
      "overflow": null,
      "overflow_x": null,
      "overflow_y": null,
      "padding": null,
      "right": null,
      "top": null,
      "visibility": null,
      "width": null
     }
    },
    "3fc7b55fc6c94658a71efcfebd481e36": {
     "model_module": "@jupyter-widgets/base",
     "model_module_version": "1.2.0",
     "model_name": "LayoutModel",
     "state": {
      "_model_module": "@jupyter-widgets/base",
      "_model_module_version": "1.2.0",
      "_model_name": "LayoutModel",
      "_view_count": null,
      "_view_module": "@jupyter-widgets/base",
      "_view_module_version": "1.2.0",
      "_view_name": "LayoutView",
      "align_content": null,
      "align_items": null,
      "align_self": null,
      "border": null,
      "bottom": null,
      "display": null,
      "flex": null,
      "flex_flow": null,
      "grid_area": null,
      "grid_auto_columns": null,
      "grid_auto_flow": null,
      "grid_auto_rows": null,
      "grid_column": null,
      "grid_gap": null,
      "grid_row": null,
      "grid_template_areas": null,
      "grid_template_columns": null,
      "grid_template_rows": null,
      "height": null,
      "justify_content": null,
      "justify_items": null,
      "left": null,
      "margin": null,
      "max_height": null,
      "max_width": null,
      "min_height": null,
      "min_width": null,
      "object_fit": null,
      "object_position": null,
      "order": null,
      "overflow": null,
      "overflow_x": null,
      "overflow_y": null,
      "padding": null,
      "right": null,
      "top": null,
      "visibility": null,
      "width": null
     }
    },
    "5680598b01b546f0be4702f73286ee79": {
     "model_module": "@jupyter-widgets/base",
     "model_module_version": "1.2.0",
     "model_name": "LayoutModel",
     "state": {
      "_model_module": "@jupyter-widgets/base",
      "_model_module_version": "1.2.0",
      "_model_name": "LayoutModel",
      "_view_count": null,
      "_view_module": "@jupyter-widgets/base",
      "_view_module_version": "1.2.0",
      "_view_name": "LayoutView",
      "align_content": null,
      "align_items": null,
      "align_self": null,
      "border": null,
      "bottom": null,
      "display": null,
      "flex": null,
      "flex_flow": null,
      "grid_area": null,
      "grid_auto_columns": null,
      "grid_auto_flow": null,
      "grid_auto_rows": null,
      "grid_column": null,
      "grid_gap": null,
      "grid_row": null,
      "grid_template_areas": null,
      "grid_template_columns": null,
      "grid_template_rows": null,
      "height": null,
      "justify_content": null,
      "justify_items": null,
      "left": null,
      "margin": null,
      "max_height": null,
      "max_width": null,
      "min_height": null,
      "min_width": null,
      "object_fit": null,
      "object_position": null,
      "order": null,
      "overflow": null,
      "overflow_x": null,
      "overflow_y": null,
      "padding": null,
      "right": null,
      "top": null,
      "visibility": null,
      "width": null
     }
    },
    "6542a71ce1634f958b60ff851eee15c3": {
     "model_module": "@jupyter-widgets/controls",
     "model_module_version": "1.5.0",
     "model_name": "FloatProgressModel",
     "state": {
      "_dom_classes": [],
      "_model_module": "@jupyter-widgets/controls",
      "_model_module_version": "1.5.0",
      "_model_name": "FloatProgressModel",
      "_view_count": null,
      "_view_module": "@jupyter-widgets/controls",
      "_view_module_version": "1.5.0",
      "_view_name": "ProgressView",
      "bar_style": "success",
      "description": "",
      "description_tooltip": null,
      "layout": "IPY_MODEL_2cba372ef2d741f7bd05c00b82c2d4e7",
      "max": 78588,
      "min": 0,
      "orientation": "horizontal",
      "style": "IPY_MODEL_089ca46a36ad4820ae344000f2a765c4",
      "value": 78588
     }
    },
    "6c461ae2ac6748ca806d94b1b6e6b57b": {
     "model_module": "@jupyter-widgets/controls",
     "model_module_version": "1.5.0",
     "model_name": "DescriptionStyleModel",
     "state": {
      "_model_module": "@jupyter-widgets/controls",
      "_model_module_version": "1.5.0",
      "_model_name": "DescriptionStyleModel",
      "_view_count": null,
      "_view_module": "@jupyter-widgets/base",
      "_view_module_version": "1.2.0",
      "_view_name": "StyleView",
      "description_width": ""
     }
    },
    "8023bc2f7bb2433687c993118166fb10": {
     "model_module": "@jupyter-widgets/controls",
     "model_module_version": "1.5.0",
     "model_name": "HTMLModel",
     "state": {
      "_dom_classes": [],
      "_model_module": "@jupyter-widgets/controls",
      "_model_module_version": "1.5.0",
      "_model_name": "HTMLModel",
      "_view_count": null,
      "_view_module": "@jupyter-widgets/controls",
      "_view_module_version": "1.5.0",
      "_view_name": "HTMLView",
      "description": "",
      "description_tooltip": null,
      "layout": "IPY_MODEL_39ef300a70844ee0a549818937361628",
      "placeholder": "​",
      "style": "IPY_MODEL_3680883e78c24821a860160ca303b339",
      "value": "100%"
     }
    },
    "832075caaccb4004a668fcfe75acca67": {
     "model_module": "@jupyter-widgets/controls",
     "model_module_version": "1.5.0",
     "model_name": "ProgressStyleModel",
     "state": {
      "_model_module": "@jupyter-widgets/controls",
      "_model_module_version": "1.5.0",
      "_model_name": "ProgressStyleModel",
      "_view_count": null,
      "_view_module": "@jupyter-widgets/base",
      "_view_module_version": "1.2.0",
      "_view_name": "StyleView",
      "bar_color": null,
      "description_width": ""
     }
    },
    "8b394cded28441e1b703658eddade4a7": {
     "model_module": "@jupyter-widgets/controls",
     "model_module_version": "1.5.0",
     "model_name": "HBoxModel",
     "state": {
      "_dom_classes": [],
      "_model_module": "@jupyter-widgets/controls",
      "_model_module_version": "1.5.0",
      "_model_name": "HBoxModel",
      "_view_count": null,
      "_view_module": "@jupyter-widgets/controls",
      "_view_module_version": "1.5.0",
      "_view_name": "HBoxView",
      "box_style": "",
      "children": [
       "IPY_MODEL_2afa685a1f2340a7a567ef1335144ea1",
       "IPY_MODEL_6542a71ce1634f958b60ff851eee15c3",
       "IPY_MODEL_e4b6dbdc37004964b8ab7a676eb16e41"
      ],
      "layout": "IPY_MODEL_9d83c48596774357874c6f6922f7639e"
     }
    },
    "9d83c48596774357874c6f6922f7639e": {
     "model_module": "@jupyter-widgets/base",
     "model_module_version": "1.2.0",
     "model_name": "LayoutModel",
     "state": {
      "_model_module": "@jupyter-widgets/base",
      "_model_module_version": "1.2.0",
      "_model_name": "LayoutModel",
      "_view_count": null,
      "_view_module": "@jupyter-widgets/base",
      "_view_module_version": "1.2.0",
      "_view_name": "LayoutView",
      "align_content": null,
      "align_items": null,
      "align_self": null,
      "border": null,
      "bottom": null,
      "display": null,
      "flex": null,
      "flex_flow": null,
      "grid_area": null,
      "grid_auto_columns": null,
      "grid_auto_flow": null,
      "grid_auto_rows": null,
      "grid_column": null,
      "grid_gap": null,
      "grid_row": null,
      "grid_template_areas": null,
      "grid_template_columns": null,
      "grid_template_rows": null,
      "height": null,
      "justify_content": null,
      "justify_items": null,
      "left": null,
      "margin": null,
      "max_height": null,
      "max_width": null,
      "min_height": null,
      "min_width": null,
      "object_fit": null,
      "object_position": null,
      "order": null,
      "overflow": null,
      "overflow_x": null,
      "overflow_y": null,
      "padding": null,
      "right": null,
      "top": null,
      "visibility": null,
      "width": null
     }
    },
    "a6e1ff3740394119a00f83b1043c9729": {
     "model_module": "@jupyter-widgets/controls",
     "model_module_version": "1.5.0",
     "model_name": "DescriptionStyleModel",
     "state": {
      "_model_module": "@jupyter-widgets/controls",
      "_model_module_version": "1.5.0",
      "_model_name": "DescriptionStyleModel",
      "_view_count": null,
      "_view_module": "@jupyter-widgets/base",
      "_view_module_version": "1.2.0",
      "_view_name": "StyleView",
      "description_width": ""
     }
    },
    "a9045380051d4b48805535f6c46687f6": {
     "model_module": "@jupyter-widgets/base",
     "model_module_version": "1.2.0",
     "model_name": "LayoutModel",
     "state": {
      "_model_module": "@jupyter-widgets/base",
      "_model_module_version": "1.2.0",
      "_model_name": "LayoutModel",
      "_view_count": null,
      "_view_module": "@jupyter-widgets/base",
      "_view_module_version": "1.2.0",
      "_view_name": "LayoutView",
      "align_content": null,
      "align_items": null,
      "align_self": null,
      "border": null,
      "bottom": null,
      "display": null,
      "flex": null,
      "flex_flow": null,
      "grid_area": null,
      "grid_auto_columns": null,
      "grid_auto_flow": null,
      "grid_auto_rows": null,
      "grid_column": null,
      "grid_gap": null,
      "grid_row": null,
      "grid_template_areas": null,
      "grid_template_columns": null,
      "grid_template_rows": null,
      "height": null,
      "justify_content": null,
      "justify_items": null,
      "left": null,
      "margin": null,
      "max_height": null,
      "max_width": null,
      "min_height": null,
      "min_width": null,
      "object_fit": null,
      "object_position": null,
      "order": null,
      "overflow": null,
      "overflow_x": null,
      "overflow_y": null,
      "padding": null,
      "right": null,
      "top": null,
      "visibility": null,
      "width": null
     }
    },
    "ab43ba9aef2c4e82991540c652d2a85d": {
     "model_module": "@jupyter-widgets/base",
     "model_module_version": "1.2.0",
     "model_name": "LayoutModel",
     "state": {
      "_model_module": "@jupyter-widgets/base",
      "_model_module_version": "1.2.0",
      "_model_name": "LayoutModel",
      "_view_count": null,
      "_view_module": "@jupyter-widgets/base",
      "_view_module_version": "1.2.0",
      "_view_name": "LayoutView",
      "align_content": null,
      "align_items": null,
      "align_self": null,
      "border": null,
      "bottom": null,
      "display": null,
      "flex": null,
      "flex_flow": null,
      "grid_area": null,
      "grid_auto_columns": null,
      "grid_auto_flow": null,
      "grid_auto_rows": null,
      "grid_column": null,
      "grid_gap": null,
      "grid_row": null,
      "grid_template_areas": null,
      "grid_template_columns": null,
      "grid_template_rows": null,
      "height": null,
      "justify_content": null,
      "justify_items": null,
      "left": null,
      "margin": null,
      "max_height": null,
      "max_width": null,
      "min_height": null,
      "min_width": null,
      "object_fit": null,
      "object_position": null,
      "order": null,
      "overflow": null,
      "overflow_x": null,
      "overflow_y": null,
      "padding": null,
      "right": null,
      "top": null,
      "visibility": null,
      "width": null
     }
    },
    "b4911de035cf4ad18b2b2348d5237c99": {
     "model_module": "@jupyter-widgets/base",
     "model_module_version": "1.2.0",
     "model_name": "LayoutModel",
     "state": {
      "_model_module": "@jupyter-widgets/base",
      "_model_module_version": "1.2.0",
      "_model_name": "LayoutModel",
      "_view_count": null,
      "_view_module": "@jupyter-widgets/base",
      "_view_module_version": "1.2.0",
      "_view_name": "LayoutView",
      "align_content": null,
      "align_items": null,
      "align_self": null,
      "border": null,
      "bottom": null,
      "display": null,
      "flex": null,
      "flex_flow": null,
      "grid_area": null,
      "grid_auto_columns": null,
      "grid_auto_flow": null,
      "grid_auto_rows": null,
      "grid_column": null,
      "grid_gap": null,
      "grid_row": null,
      "grid_template_areas": null,
      "grid_template_columns": null,
      "grid_template_rows": null,
      "height": null,
      "justify_content": null,
      "justify_items": null,
      "left": null,
      "margin": null,
      "max_height": null,
      "max_width": null,
      "min_height": null,
      "min_width": null,
      "object_fit": null,
      "object_position": null,
      "order": null,
      "overflow": null,
      "overflow_x": null,
      "overflow_y": null,
      "padding": null,
      "right": null,
      "top": null,
      "visibility": null,
      "width": null
     }
    },
    "c6c55437a0b84151a1bb4c24ffd0659a": {
     "model_module": "@jupyter-widgets/controls",
     "model_module_version": "1.5.0",
     "model_name": "DescriptionStyleModel",
     "state": {
      "_model_module": "@jupyter-widgets/controls",
      "_model_module_version": "1.5.0",
      "_model_name": "DescriptionStyleModel",
      "_view_count": null,
      "_view_module": "@jupyter-widgets/base",
      "_view_module_version": "1.2.0",
      "_view_name": "StyleView",
      "description_width": ""
     }
    },
    "ccd1ce39b3cf48389aac70e4b6e02c11": {
     "model_module": "@jupyter-widgets/controls",
     "model_module_version": "1.5.0",
     "model_name": "HBoxModel",
     "state": {
      "_dom_classes": [],
      "_model_module": "@jupyter-widgets/controls",
      "_model_module_version": "1.5.0",
      "_model_name": "HBoxModel",
      "_view_count": null,
      "_view_module": "@jupyter-widgets/controls",
      "_view_module_version": "1.5.0",
      "_view_name": "HBoxView",
      "box_style": "",
      "children": [
       "IPY_MODEL_8023bc2f7bb2433687c993118166fb10",
       "IPY_MODEL_186d5b794614407c83af14e0eca0d301",
       "IPY_MODEL_edea0d8518674e89a759a2198931beb3"
      ],
      "layout": "IPY_MODEL_b4911de035cf4ad18b2b2348d5237c99"
     }
    },
    "e4b6dbdc37004964b8ab7a676eb16e41": {
     "model_module": "@jupyter-widgets/controls",
     "model_module_version": "1.5.0",
     "model_name": "HTMLModel",
     "state": {
      "_dom_classes": [],
      "_model_module": "@jupyter-widgets/controls",
      "_model_module_version": "1.5.0",
      "_model_name": "HTMLModel",
      "_view_count": null,
      "_view_module": "@jupyter-widgets/controls",
      "_view_module_version": "1.5.0",
      "_view_name": "HTMLView",
      "description": "",
      "description_tooltip": null,
      "layout": "IPY_MODEL_a9045380051d4b48805535f6c46687f6",
      "placeholder": "​",
      "style": "IPY_MODEL_c6c55437a0b84151a1bb4c24ffd0659a",
      "value": " 78588/78588 [02:48&lt;00:00, 438.27it/s]"
     }
    },
    "edea0d8518674e89a759a2198931beb3": {
     "model_module": "@jupyter-widgets/controls",
     "model_module_version": "1.5.0",
     "model_name": "HTMLModel",
     "state": {
      "_dom_classes": [],
      "_model_module": "@jupyter-widgets/controls",
      "_model_module_version": "1.5.0",
      "_model_name": "HTMLModel",
      "_view_count": null,
      "_view_module": "@jupyter-widgets/controls",
      "_view_module_version": "1.5.0",
      "_view_name": "HTMLView",
      "description": "",
      "description_tooltip": null,
      "layout": "IPY_MODEL_5680598b01b546f0be4702f73286ee79",
      "placeholder": "​",
      "style": "IPY_MODEL_a6e1ff3740394119a00f83b1043c9729",
      "value": " 78588/78588 [00:33&lt;00:00, 2501.38it/s]"
     }
    }
   }
  }
 },
 "nbformat": 4,
 "nbformat_minor": 5
}
