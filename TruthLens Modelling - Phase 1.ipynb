{
 "cells": [
  {
   "cell_type": "markdown",
   "id": "e0976e04",
   "metadata": {
    "id": "e0976e04"
   },
   "source": [
    "# TruthLens Modelling - Phase 1 : Binary Classification\n",
    "The aim of phase 1 is to classify text into real or fake. \"Fake\" content will move to phase 2 for multiclass classification, so essentially what we are trying to do with this stage is to filter out real news.\n",
    "\n",
    "The dataset used is the Misinformation & Fake News text dataset, which has already been cleaned and preprocessed (see \"TruthLens Data Cleaning\" notebook)."
   ]
  },
  {
   "cell_type": "code",
   "execution_count": 1,
   "id": "7c391f5d",
   "metadata": {
    "id": "7c391f5d"
   },
   "outputs": [],
   "source": [
    "#imports\n",
    "import pandas as pd\n",
    "import numpy as np\n",
    "from sklearn.feature_extraction.text import TfidfVectorizer\n",
    "from sklearn.model_selection import train_test_split\n",
    "from sklearn.preprocessing import StandardScaler\n",
    "from scipy.sparse import hstack, csr_matrix\n",
    "import time\n",
    "from sklearn.linear_model import LogisticRegression\n",
    "import matplotlib.pyplot as plt\n",
    "from sklearn.svm import SVC\n",
    "from sklearn.ensemble import RandomForestClassifier\n",
    "from sklearn.model_selection import GridSearchCV\n",
    "from sklearn.metrics import accuracy_score, confusion_matrix, ConfusionMatrixDisplay, roc_curve, auc, classification_report\n",
    "import csv\n",
    "import random\n",
    "import pickle\n",
    "import seaborn as sns\n",
    "pd.set_option('display.max_colwidth', None)"
   ]
  },
  {
   "cell_type": "markdown",
   "id": "b39615dc",
   "metadata": {
    "id": "b39615dc"
   },
   "source": [
    "### Feature Extraction Using TF-IDF, n-grams and readability metrics\n",
    "In this section I will use a TfidfVectorizer to extract features from the training data. I will then combine these with the scaled readability metrics into one horizontally stacked feature matrix that I will use for modelling."
   ]
  },
  {
   "cell_type": "code",
   "execution_count": 2,
   "id": "9f55d404",
   "metadata": {
    "colab": {
     "base_uri": "https://localhost:8080/"
    },
    "id": "9f55d404",
    "outputId": "2e1721c4-00a8-4ae2-ded8-23ad6a54a868"
   },
   "outputs": [
    {
     "name": "stdout",
     "output_type": "stream",
     "text": [
      "Dataset Information:\n",
      "<class 'pandas.core.frame.DataFrame'>\n",
      "RangeIndex: 78588 entries, 0 to 78587\n",
      "Data columns (total 7 columns):\n",
      " #   Column                Non-Null Count  Dtype  \n",
      "---  ------                --------------  -----  \n",
      " 0   content               78541 non-null  object \n",
      " 1   label                 78588 non-null  int64  \n",
      " 2   word_count            78588 non-null  int64  \n",
      " 3   sentence_count        78588 non-null  int64  \n",
      " 4   flesch_reading_ease   78588 non-null  float64\n",
      " 5   content_lemma         78540 non-null  object \n",
      " 6   content_lemma_nostop  78538 non-null  object \n",
      "dtypes: float64(1), int64(3), object(3)\n",
      "memory usage: 4.2+ MB\n",
      "None \n",
      "\n",
      "Dataset Head:\n",
      "                                                                                                                                                                                                                                                                                                                                                                                                                                                                                                                                                                                                                                                                                                                                                                                                                                                                                                                                                                                                                                                                                                                                                                                                                                                                                                                                                                                                                                                                                                                                                                                                                                                                                                                                                                                                                                                                                                                                                                                                                                                                                                                                                                                                                                                                                                              content  \\\n",
      "0                                                                                                                                                                                                                                                                                                                                                                                                                                                                                                                                                                                                                                                           Of course, America s favorite criminal candidate says America shouldn t believe the infamous hacker who claims he accessed her unsecured server because he s a criminal. LOL if anyone can spot a criminal, it s Crooked Hillary The infamous Romanian hacker known as Guccifer, speaking exclusively with Fox News, claimed he easily and repeatedly breached former Secretary of State Hillary Clinton s personal email server in early 2013. For me, it was easy easy for me, for everybody, Marcel Lehel Lazar, who goes by the moniker Guccifer, told Fox News from a Virginia jail where he is being held.Guccifer s potential role in the Clinton email investigation was first reported by Fox News last month. The hacker subsequently claimed he was able to access the server and provided extensive details about how he did it and what he found over the course of a half-hour jailhouse interview and a series of recorded phone calls with Fox News.Fox News could not independently confirm Lazar s claims.In response to Lazar s claims, the Clinton campaign issued a statement Wednesday night saying, There is absolutely no basis to believe the claims made by this criminal from his prison cell. In addition to the fact he offers no proof to support his claims, his descriptions of Secretary Clinton s server are inaccurate. It is unfathomable that he would have gained access to her emails and not leaked them the way he did to his other victims. The former secretary of state s server held nearly 2,200 emails containing information now deemed classified, and another 22 at the Top Secret level. Via: FOX News   \n",
      "1                                                                                                                                                                                                                                                                                                                                                                                                                                                         U.S. President Donald Trump expressed satisfaction on Tuesday with the federal response to Hurricane Maria s devastation of Puerto Rico, despite criticism that the government was slow to address the crisis. Trump, who has grappled with hurricanes Harvey, Irma and Maria in the past six weeks, said at a briefing that the disasters were straining the U.S. budget. I hate to tell you, Puerto Rico, but you ve thrown our budget a little out of whack because we ve spent a lot of money on Puerto Rico, he said. And that s fine. We ve saved a lot of lives. Two weeks after it was hit by the worst hurricane in 90 years, many of Puerto Rico s 3.4 million residents are still struggling without basic necessities. Shortly after Trump left Puerto Rico, Governor Ricardo Rosello said the death toll had risen from 16 to 34. The U.S. territory s economy already was in recession before Hurricane Maria and its government had filed for bankruptcy in the face of a _CUR_72 billion debt load. In an interview with Fox News, Trump said the island s debt would have to be erased. They owe a lot of money to your friends on Wall Street and we re going to have to wipe that out. You re going to say goodbye to that, I don t know if it s Goldman Sachs but whoever it is you can wave goodbye to that, Trump said in the interview, conducted while he visited the island. Moody s on Tuesday estimated Maria s total cost to Puerto Rico, including lost output, at _CUR_45 billion to _CUR_95 billion and significant relief from the federal government would be required. Trump said the federal response to Maria compared favorably with a real catastrophe like Katrina, the 2005 storm that swamped Louisiana and Mississippi and killed more than 1,800. What s happened in terms of recovery, in terms of saving lives   \n",
      "2  Romania s lower house of parliament approved on Wednesday legislation to overhaul its justice system, legislation that the European Commission, the U.S. State Department and the country s president have criticized as threatening judicial independence. Two bills, and a third which was approved on Monday, are part of a wider overhaul that has triggered street protests across the country in recent weeks and which thousands of magistrates oppose The European Union state, ranked as one of the bloc s most corrupt, joins its eastern European peers Hungary and Poland, where populist leaders are also trying to control the judiciary, defying EU concerns over the rule of law. Romania s ruling Social Democrats, which command an overwhelming majority in parliament together with their junior coalition partner, ALDE, have so far ignored the protesters. Changes approved on Wednesday include setting up a special unit to investigate criminal offences committed by judges and prosecutors. This makes magistrates the only professional category with a system dedicated to investigating them. The bills also enforce more restrictive criteria for prosecutors seeking to join anti-corruption and anti-organizedcrime prosecuting units. On Monday, lawmakers approved a bill that changes the way magistrates are supervised and amends the definition of prosecutor activity to exclude the word independent . The three bills must now be approved by the senate, with a vote expected next week. Opposition parties and President Klaus Iohannis could also challenge the bills at the Constitutional Court, but the outcome of that was unclear. The ruling Social Democrats also plan changes to the country s criminal code. In November, the European Commission said justice reform has stagnated this year and challenges to judicial independence remain a persistent source of concern. At the start of this year, attempts by the Social Democrats to decriminalize several corruption offences triggered the country s largest street protests in decades. Romanian prosecutors have investigated thousands of public officials in an unprecedented crackdown on top-level graft. The lower house and senate speakers are both currently on trial in separate cases.   \n",
      "\n",
      "   label  word_count  sentence_count  flesch_reading_ease  \\\n",
      "0      1         270              11                46.61   \n",
      "1      0         322              15                58.11   \n",
      "2      0         336              15                31.92   \n",
      "\n",
      "                                                                                                                                                                                                                                                                                                                                                                                                                                                                                                                                                                                                                                                                                                                                                                                                                                                                                                                                                                                                                                                                                                                                                                                                                                                                                                                                                                                                                                                                                                                                                                                                                                                                                                                                                                                                                                                                                                                                                                                                                                                                                                                                                                                                                                     content_lemma  \\\n",
      "0                                                                                                                                                                                                                                                                                                                                                                                                                                                                                                                                                                                                                          Of course , America s favorite criminal candidate say America shouldn t believe the infamous hacker who claim he access her unsecured server because he s a criminal . LOL if anyone can spot a criminal , it s Crooked Hillary The infamous Romanian hacker know a Guccifer , speak exclusively with Fox News , claim he easily and repeatedly breach former Secretary of State Hillary Clinton s personal email server in early 2013 . For me , it be easy easy for me , for everybody , Marcel Lehel Lazar , who go by the moniker Guccifer , tell Fox News from a Virginia jail where he be be held.Guccifer s potential role in the Clinton email investigation be first report by Fox News last month . The hacker subsequently claim he be able to access the server and provide extensive detail about how he do it and what he find over the course of a half-hour jailhouse interview and a series of recorded phone call with Fox News.Fox News could not independently confirm Lazar s claims.In response to Lazar s claim , the Clinton campaign issue a statement Wednesday night say , There be absolutely no basis to believe the claim make by this criminal from his prison cell . In addition to the fact he offer no proof to support his claim , his description of Secretary Clinton s server be inaccurate . It be unfathomable that he would have gain access to her email and not leak them the way he do to his other victim . The former secretary of state s server hold nearly 2,200 email contain information now deem classify , and another 22 at the Top Secret level . Via : FOX News   \n",
      "1                                                                                                                                                                                                                                                                                                                                                                                                                   U.S. President Donald Trump express satisfaction on Tuesday with the federal response to Hurricane Maria s devastation of Puerto Rico , despite criticism that the government be slow to address the crisis . Trump , who have grapple with hurricane Harvey , Irma and Maria in the past six week , say at a briefing that the disaster be strain the U.S. budget . I hate to tell you , Puerto Rico , but you ve thrown our budget a little out of whack because we ve spend a lot of money on Puerto Rico , he say . And that s fine . We ve save a lot of life . Two week after it be hit by the bad hurricane in 90 year , many of Puerto Rico s 3.4 million resident be still struggle without basic necessity . Shortly after Trump leave Puerto Rico , Governor Ricardo Rosello say the death toll have rise from 16 to 34 . The U.S. territory s economy already be in recession before Hurricane Maria and it government have file for bankruptcy in the face of a _CUR_72 billion debt load . In an interview with Fox News , Trump say the island s debt would have to be erase . They owe a lot of money to your friend on Wall Street and we re go to have to wipe that out . You re go to say goodbye to that , I don t know if it s Goldman Sachs but whoever it be you can wave goodbye to that , Trump say in the interview , conduct while he visit the island . Moody s on Tuesday estimate Maria s total cost to Puerto Rico , include lose output , at _CUR_45 billion to _CUR_95 billion and significant relief from the federal government would be require . Trump say the federal response to Maria compare favorably with a real catastrophe like Katrina , the 2005 storm that swamp Louisiana and Mississippi and kill more than 1,800 . What s happen in term of recovery , in term of save life   \n",
      "2  Romania s low house of parliament approve on Wednesday legislation to overhaul it justice system , legislation that the European Commission , the U.S. State Department and the country s president have criticize a threaten judicial independence . Two bill , and a third which be approve on Monday , be part of a wider overhaul that have trigger street protest across the country in recent week and which thousand of magistrate oppose The European Union state , rank a one of the bloc s most corrupt , join it eastern European peer Hungary and Poland , where populist leader be also try to control the judiciary , defy EU concern over the rule of law . Romania s rule Social Democrats , which command an overwhelming majority in parliament together with their junior coalition partner , ALDE , have so far ignore the protester . Changes approve on Wednesday include set up a special unit to investigate criminal offence commit by judge and prosecutor . This make magistrates the only professional category with a system dedicate to investigate them . The bill also enforce more restrictive criterion for prosecutor seek to join anti-corruption and anti-organizedcrime prosecute unit . On Monday , lawmaker approve a bill that change the way magistrate be supervise and amend the definition of prosecutor activity to exclude the word independent . The three bill must now be approve by the senate , with a vote expect next week . Opposition party and President Klaus Iohannis could also challenge the bill at the Constitutional Court , but the outcome of that be unclear . The rule Social Democrats also plan change to the country s criminal code . In November , the European Commission say justice reform have stagnate this year and challenge to judicial independence remain a persistent source of concern . At the start of this year , attempt by the Social Democrats to decriminalize several corruption offence trigger the country s large street protest in decade . Romanian prosecutor have investigate thousand of public official in an unprecedented crackdown on top-level graft . The low house and senate speaker be both currently on trial in separate case .   \n",
      "\n",
      "                                                                                                                                                                                                                                                                                                                                                                                                                                                                                                                                                                                                                                                                                                                                                                                                                                                                                                                                                                                                                                                                                                                                                                                                                                                                                                                                                                                                                                                                                                                                                                                                                                                                         content_lemma_nostop  \n",
      "0                                                                                                                                                                                                                                                                                                                                                                                                                                                                                                                                               course america favorite criminal candidate say america believe infamous hacker claim access unsecured server criminal lol anyone spot criminal crooked hillary infamous romanian hacker know guccifer speak exclusively fox news claim easily repeatedly breach former secretary state hillary clinton personal email server early 2013 easy easy everybody marcel lehel lazar go moniker guccifer tell fox news virginia jail heldguccifer potential role clinton email investigation first report fox news last month hacker subsequently claim able access server provide extensive detail find course halfhour jailhouse interview series recorded phone call fox newsfox news could independently confirm lazar claimsin response lazar claim clinton campaign issue statement wednesday night say absolutely basis believe claim make criminal prison cell addition fact offer proof support claim description secretary clinton server inaccurate unfathomable would gain access email leak way victim former secretary state server hold nearly 2200 email contain information deem classify another 22 top secret level via fox news  \n",
      "1                                                                                                                                                                                                                                                                                                                                                                                                                                                                            us president donald trump express satisfaction tuesday federal response hurricane maria devastation puerto rico despite criticism government slow address crisis trump grapple hurricane harvey irma maria past six week say briefing disaster strain us budget hate tell puerto rico thrown budget little whack spend lot money puerto rico say fine save lot life two week hit bad hurricane 90 year many puerto rico 34 million resident still struggle without basic necessity shortly trump leave puerto rico governor ricardo rosello say death toll rise 16 34 us territory economy already recession hurricane maria government file bankruptcy face cur72 billion debt load interview fox news trump say island debt would erase owe lot money friend wall street go wipe go say goodbye know goldman sachs whoever wave goodbye trump say interview conduct visit island moody tuesday estimate maria total cost puerto rico include lose output cur45 billion cur95 billion significant relief federal government would require trump say federal response maria compare favorably real catastrophe like katrina 2005 storm swamp louisiana mississippi kill 1800 happen term recovery term save life  \n",
      "2  romania low house parliament approve wednesday legislation overhaul justice system legislation european commission us state department country president criticize threaten judicial independence two bill third approve monday part wider overhaul trigger street protest across country recent week thousand magistrate oppose european union state rank one bloc corrupt join eastern european peer hungary poland populist leader also try control judiciary defy eu concern rule law romania rule social democrats command overwhelming majority parliament together junior coalition partner alde far ignore protester changes approve wednesday include set special unit investigate criminal offence commit judge prosecutor make magistrates professional category system dedicate investigate bill also enforce restrictive criterion prosecutor seek join anticorruption antiorganizedcrime prosecute unit monday lawmaker approve bill change way magistrate supervise amend definition prosecutor activity exclude word independent three bill must approve senate vote expect next week opposition party president klaus iohannis could also challenge bill constitutional court outcome unclear rule social democrats also plan change country criminal code november european commission say justice reform stagnate year challenge judicial independence remain persistent source concern start year attempt social democrats decriminalize several corruption offence trigger country large street protest decade romanian prosecutor investigate thousand public official unprecedented crackdown toplevel graft low house senate speaker currently trial separate case  \n"
     ]
    }
   ],
   "source": [
    "#load data\n",
    "df = pd.read_csv('Data/phase1_final_clean.csv')\n",
    "df = df.reset_index(drop=True)\n",
    "print(\"Dataset Information:\")\n",
    "print(df.info(), \"\\n\")\n",
    "print(\"Dataset Head:\")\n",
    "print(df.head(3))"
   ]
  },
  {
   "cell_type": "code",
   "execution_count": 13,
   "id": "640da603",
   "metadata": {
    "colab": {
     "base_uri": "https://localhost:8080/"
    },
    "id": "640da603",
    "outputId": "80543b61-4c7c-4a90-c77b-678d3ac293cd"
   },
   "outputs": [
    {
     "name": "stdout",
     "output_type": "stream",
     "text": [
      "Feature extraction: 480.0830 seconds\n"
     ]
    }
   ],
   "source": [
    "#TF-IDF feature extraction with n-grams\n",
    "start_time = time.time()\n",
    "#replace NaN values with an empty string to resolve NaN ValueError\n",
    "df['content_lemma_nostop'] = df['content_lemma_nostop'].fillna('')\n",
    "vectorizer = TfidfVectorizer(max_features=5000, ngram_range=(1, 3))\n",
    "X_tfidf = vectorizer.fit_transform(df['content_lemma_nostop'])\n",
    "#get pre-calculated readability features\n",
    "readability_features = df[['word_count', 'sentence_count', 'flesch_reading_ease']].values\n",
    "#standardise readability features\n",
    "scaler = StandardScaler()\n",
    "readability_scaled = scaler.fit_transform(readability_features)\n",
    "#convert to a sparse matrix\n",
    "readability_sparse = csr_matrix(readability_scaled)\n",
    "#combine TF-IDF features with the readability metrics\n",
    "X_combined = hstack([X_tfidf, readability_sparse])\n",
    "\n",
    "y = df['label']\n",
    "print(\"Feature extraction: {:.4f} seconds\".format(time.time() - start_time))"
   ]
  },
  {
   "cell_type": "markdown",
   "id": "c0949d9b",
   "metadata": {
    "id": "c0949d9b"
   },
   "source": [
    "### Split dataset"
   ]
  },
  {
   "cell_type": "code",
   "execution_count": 14,
   "id": "daf94d1a",
   "metadata": {
    "id": "daf94d1a"
   },
   "outputs": [],
   "source": [
    "#retain the indices as we need these for looking up explanations later\n",
    "train_indices, test_indices = train_test_split(df.index, test_size=0.2, random_state=999)\n",
    "#split X and y using the train/test indices\n",
    "X_train = X_combined[train_indices]\n",
    "X_test = X_combined[test_indices]\n",
    "y_train = y.iloc[train_indices]\n",
    "y_test = y.iloc[test_indices]"
   ]
  },
  {
   "cell_type": "markdown",
   "id": "d24cd01e",
   "metadata": {
    "id": "d24cd01e"
   },
   "source": [
    "### Phase 1 Modelling\n",
    "I will test three different models on the data to see which is best. The models to be tested are:\n",
    "- Logistic Regression\n",
    "- Random Forest\n",
    "- Support Vector Machine (SVM)\n",
    "\n",
    "#### Logistic Regression"
   ]
  },
  {
   "cell_type": "code",
   "execution_count": null,
   "id": "4a99a164",
   "metadata": {
    "colab": {
     "base_uri": "https://localhost:8080/"
    },
    "id": "4a99a164",
    "outputId": "6df8001c-48aa-44ad-ffa5-479e74e2cf50"
   },
   "outputs": [
    {
     "name": "stdout",
     "output_type": "stream",
     "text": [
      "Fit Logistic Regression model: 6.0120 seconds\n",
      "Accuracy: 0.942295457437333\n",
      "Classification Report:\n",
      "               precision    recall  f1-score   support\n",
      "\n",
      "           0       0.94      0.93      0.93      6931\n",
      "           1       0.94      0.95      0.95      8787\n",
      "\n",
      "    accuracy                           0.94     15718\n",
      "   macro avg       0.94      0.94      0.94     15718\n",
      "weighted avg       0.94      0.94      0.94     15718\n",
      "\n"
     ]
    }
   ],
   "source": [
    "start_time = time.time()\n",
    "model = LogisticRegression(max_iter=1000)\n",
    "model.fit(X_train, y_train)\n",
    "y_pred = model.predict(X_test)\n",
    "print(\"Fit Logistic Regression model: {:.4f} seconds\".format(time.time() - start_time))\n",
    "print(\"Accuracy:\", accuracy_score(y_test, y_pred))\n",
    "print(\"Classification Report:\\n\", classification_report(y_test, y_pred))"
   ]
  },
  {
   "cell_type": "markdown",
   "id": "9e8795bc",
   "metadata": {
    "id": "9e8795bc"
   },
   "source": [
    "#### Random Forest"
   ]
  },
  {
   "cell_type": "code",
   "execution_count": null,
   "id": "5cd2b147",
   "metadata": {
    "colab": {
     "base_uri": "https://localhost:8080/"
    },
    "id": "5cd2b147",
    "outputId": "05db7a93-4939-4c8d-fa82-a63559216a09"
   },
   "outputs": [
    {
     "name": "stdout",
     "output_type": "stream",
     "text": [
      "Fit Random Forest model: 347.0968 seconds\n",
      "Random Forest Accuracy: 0.9523476269245451\n",
      "Random Forest Classification Report:\n",
      "               precision    recall  f1-score   support\n",
      "\n",
      "           0       0.95      0.94      0.95      6931\n",
      "           1       0.95      0.96      0.96      8787\n",
      "\n",
      "    accuracy                           0.95     15718\n",
      "   macro avg       0.95      0.95      0.95     15718\n",
      "weighted avg       0.95      0.95      0.95     15718\n",
      "\n"
     ]
    }
   ],
   "source": [
    "start_time = time.time()\n",
    "rf_model = RandomForestClassifier()\n",
    "rf_model.fit(X_train, y_train)\n",
    "rf_pred = rf_model.predict(X_test)\n",
    "print(\"Fit Random Forest model: {:.4f} seconds\".format(time.time() - start_time))\n",
    "print(\"Random Forest Accuracy:\", accuracy_score(y_test, rf_pred))\n",
    "print(\"Random Forest Classification Report:\\n\", classification_report(y_test, rf_pred))"
   ]
  },
  {
   "cell_type": "markdown",
   "id": "5d1a7b5e",
   "metadata": {
    "id": "5d1a7b5e"
   },
   "source": [
    "#### Support Vector Machine (SVM)"
   ]
  },
  {
   "cell_type": "code",
   "execution_count": null,
   "id": "9b292177",
   "metadata": {
    "colab": {
     "base_uri": "https://localhost:8080/"
    },
    "id": "9b292177",
    "outputId": "69c05bac-ec3d-4774-eecb-0658a77748dc"
   },
   "outputs": [
    {
     "name": "stdout",
     "output_type": "stream",
     "text": [
      "Fit SVM model: 4252.7811 seconds\n",
      "SVM Accuracy: 0.9504389871484922\n",
      "SVM Classification Report:\n",
      "               precision    recall  f1-score   support\n",
      "\n",
      "           0       0.95      0.93      0.94      6931\n",
      "           1       0.95      0.96      0.96      8787\n",
      "\n",
      "    accuracy                           0.95     15718\n",
      "   macro avg       0.95      0.95      0.95     15718\n",
      "weighted avg       0.95      0.95      0.95     15718\n",
      "\n"
     ]
    }
   ],
   "source": [
    "start_time = time.time()\n",
    "svm_model = SVC()\n",
    "svm_model.fit(X_train, y_train)\n",
    "svm_pred = svm_model.predict(X_test)\n",
    "print(\"Fit SVM model: {:.4f} seconds\".format(time.time() - start_time))\n",
    "print(\"SVM Accuracy:\", accuracy_score(y_test, svm_pred))\n",
    "print(\"SVM Classification Report:\\n\", classification_report(y_test, svm_pred))"
   ]
  },
  {
   "cell_type": "markdown",
   "id": "6d7a7637",
   "metadata": {
    "id": "6d7a7637"
   },
   "source": [
    "#### Conclusion\n",
    "For phase 1 to be successful according to our success metrics, we want an accuracy of at least 90%. All three algorithms tested have performed better than that.\n",
    "\n",
    "Random Forest and SVM both had an accuracy of 0.95 which is impressive. Logistic regression was slightly lower with an accuracy of 0.94. However, when computational efficiency is taken into account, Logistic regression is the preferred model. It took just over 6 seconds to fit the Logistic regression model to our data, compared to 347 seconds (almost 6 minutes) for random forest, and a whooping 4252 seconds (just under 71 minutes) for SVM.\n",
    "\n",
    "Next we will test what column works best - content, content_lemma (which is lemmatised) or content_lemma_nostop (which is lemmatised and additionally has stopwords and punctuation removed.)\n",
    "\n",
    "### Column selection"
   ]
  },
  {
   "cell_type": "code",
   "execution_count": null,
   "id": "cfff84cc",
   "metadata": {
    "id": "cfff84cc"
   },
   "outputs": [],
   "source": [
    "def evaluate_text_representation(text_column, df):\n",
    "    print(\"Evaluating model on \",text_column)\n",
    "    start_time = time.time()\n",
    "    #replace NaN values with an empty string to resolve NaN ValueError\n",
    "    df[text_column] = df[text_column].fillna('')\n",
    "\n",
    "    #get TF-IDF features for the chosen text column\n",
    "    vectorizer = TfidfVectorizer(max_features=5000, ngram_range=(1, 3))\n",
    "    X_tfidf = vectorizer.fit_transform(df[text_column])\n",
    "\n",
    "    #get pre-calculated readability features\n",
    "    readability_features = df[['word_count', 'sentence_count', 'flesch_reading_ease']].values\n",
    "    scaler = StandardScaler()\n",
    "    #standardise readability features\n",
    "    readability_scaled = scaler.fit_transform(readability_features)\n",
    "    #convert to a sparse matrix\n",
    "    readability_sparse = csr_matrix(readability_scaled)\n",
    "\n",
    "    #combine TF-IDF features with the readability metrics\n",
    "    X_combined = hstack([X_tfidf, readability_sparse])\n",
    "\n",
    "    y = df['label']\n",
    "\n",
    "    #split the data into training and testing sets using the dataframe index\n",
    "    train_indices, test_indices = train_test_split(df.index, test_size=0.2, random_state=999)\n",
    "    X_train = X_combined[train_indices]\n",
    "    X_test = X_combined[test_indices]\n",
    "    y_train = y.iloc[train_indices]\n",
    "    y_test = y.iloc[test_indices]\n",
    "\n",
    "    #train a simple Logistic Regression model\n",
    "    model = LogisticRegression(max_iter=1000)\n",
    "    model.fit(X_train, y_train)\n",
    "    y_pred = model.predict(X_test)\n",
    "    elapsed_time = time.time() - start_time\n",
    "\n",
    "    # Evaluate and print the results\n",
    "    accuracy = accuracy_score(y_test, y_pred)\n",
    "    report = classification_report(y_test, y_pred)\n",
    "\n",
    "    print(f\"Results for '{text_column}':\")\n",
    "    print(\"Time elapsed: {:.4f} seconds\".format(elapsed_time))\n",
    "    print(\"Accuracy:\", accuracy)\n",
    "    print(\"Classification Report:\\n\", report)\n",
    "    print(\"-\" * 50)\n",
    "\n",
    "    return accuracy, model, vectorizer"
   ]
  },
  {
   "cell_type": "code",
   "execution_count": null,
   "id": "a521e8e5",
   "metadata": {
    "colab": {
     "base_uri": "https://localhost:8080/"
    },
    "id": "a521e8e5",
    "outputId": "928e51d5-d54b-438f-e1a6-46af1823d5f2"
   },
   "outputs": [
    {
     "name": "stdout",
     "output_type": "stream",
     "text": [
      "Evaluating model on  content\n",
      "Results for 'content':\n",
      "Time elapsed: 399.0861 seconds\n",
      "Accuracy: 0.9401323323578064\n",
      "Classification Report:\n",
      "               precision    recall  f1-score   support\n",
      "\n",
      "           0       0.94      0.92      0.93      6931\n",
      "           1       0.94      0.95      0.95      8787\n",
      "\n",
      "    accuracy                           0.94     15718\n",
      "   macro avg       0.94      0.94      0.94     15718\n",
      "weighted avg       0.94      0.94      0.94     15718\n",
      "\n",
      "--------------------------------------------------\n",
      "Evaluating model on  content_lemma\n",
      "Results for 'content_lemma':\n",
      "Time elapsed: 355.7318 seconds\n",
      "Accuracy: 0.9481486194172286\n",
      "Classification Report:\n",
      "               precision    recall  f1-score   support\n",
      "\n",
      "           0       0.95      0.93      0.94      6931\n",
      "           1       0.95      0.96      0.95      8787\n",
      "\n",
      "    accuracy                           0.95     15718\n",
      "   macro avg       0.95      0.95      0.95     15718\n",
      "weighted avg       0.95      0.95      0.95     15718\n",
      "\n",
      "--------------------------------------------------\n",
      "Evaluating model on  content_lemma_nostop\n",
      "Results for 'content_lemma_nostop':\n",
      "Time elapsed: 299.1153 seconds\n",
      "Accuracy: 0.942295457437333\n",
      "Classification Report:\n",
      "               precision    recall  f1-score   support\n",
      "\n",
      "           0       0.94      0.93      0.93      6931\n",
      "           1       0.94      0.95      0.95      8787\n",
      "\n",
      "    accuracy                           0.94     15718\n",
      "   macro avg       0.94      0.94      0.94     15718\n",
      "weighted avg       0.94      0.94      0.94     15718\n",
      "\n",
      "--------------------------------------------------\n",
      "Summary of accuracies:\n",
      "content: 0.9401\n",
      "content_lemma: 0.9481\n",
      "content_lemma_nostop: 0.9423\n",
      "\n",
      "Best performing column: content_lemma with accuracy: 0.9481\n"
     ]
    }
   ],
   "source": [
    "#columns to test\n",
    "text_columns = ['content', 'content_lemma', 'content_lemma_nostop']\n",
    "results = {}\n",
    "\n",
    "#run the evaluation for each column\n",
    "for col in text_columns:\n",
    "    acc, model, vectorizer = evaluate_text_representation(col, df)\n",
    "    results[col] = {'accuracy': acc, 'model': model, 'vectorizer': vectorizer}\n",
    "\n",
    "#identify the best performing model based on accuracy\n",
    "best_column = max(results, key=lambda x: results[x]['accuracy'])\n",
    "best_result = results[best_column]\n",
    "\n",
    "#print a summary of the accuracies\n",
    "print(\"Summary of accuracies:\")\n",
    "for col, result in results.items():\n",
    "    print(f\"{col}: {result['accuracy']:.4f}\")\n",
    "\n",
    "print(f\"\\nBest performing column: {best_column} with accuracy: {best_result['accuracy']:.4f}\")\n",
    "\n",
    "#set the best model\n",
    "best_model = best_result['model']"
   ]
  },
  {
   "cell_type": "markdown",
   "id": "a1adbc21",
   "metadata": {
    "id": "a1adbc21"
   },
   "source": [
    "#### Results\n",
    "As we can see from the output above, the classifier performed best on the lemmatised column, with an accuracy of 0.9481.\n",
    "\n",
    "Next we will use some tuning to try and increase the accuracy of our logistic regression model."
   ]
  },
  {
   "cell_type": "markdown",
   "id": "c636d5dc",
   "metadata": {
    "id": "c636d5dc"
   },
   "source": [
    "### Tweak model"
   ]
  },
  {
   "cell_type": "code",
   "execution_count": 6,
   "id": "SENZi1Za2rj_",
   "metadata": {
    "colab": {
     "base_uri": "https://localhost:8080/"
    },
    "id": "SENZi1Za2rj_",
    "outputId": "7d553fcb-c7fc-472a-d4a3-26eccd7bbe20"
   },
   "outputs": [
    {
     "name": "stdout",
     "output_type": "stream",
     "text": [
      "Feature extraction: 600.2935 seconds\n"
     ]
    }
   ],
   "source": [
    "#This code is repeated from the top of the file - look into making this a fucntion to reduce repetition\n",
    "#Also I've just calculated most of this in the previous function - see if I can maybe get it from there instead of recalculating\n",
    "start_time = time.time()\n",
    "#replace NaN values with an empty string to resolve NaN ValueError\n",
    "df['content_lemma'] = df['content_lemma'].fillna('')\n",
    "vectorizer = TfidfVectorizer(max_features=5000, ngram_range=(1, 3))\n",
    "X_tfidf = vectorizer.fit_transform(df['content_lemma'])\n",
    "#get pre-calculated readability features\n",
    "readability_features = df[['word_count', 'sentence_count', 'flesch_reading_ease']].values\n",
    "#standardise readability features\n",
    "scaler = StandardScaler()\n",
    "readability_scaled = scaler.fit_transform(readability_features)\n",
    "#convert to a sparse matrix\n",
    "readability_sparse = csr_matrix(readability_scaled)\n",
    "#combine TF-IDF features with the readability metrics\n",
    "X_combined = hstack([X_tfidf, readability_sparse])\n",
    "\n",
    "y = df['label']\n",
    "print(\"Feature extraction: {:.4f} seconds\".format(time.time() - start_time))\n",
    "\n"
   ]
  },
  {
   "cell_type": "code",
   "execution_count": 7,
   "id": "Qmz49-xf3P0F",
   "metadata": {
    "id": "Qmz49-xf3P0F"
   },
   "outputs": [],
   "source": [
    "#retain the indices as we need these for looking up explanations later\n",
    "train_indices, test_indices = train_test_split(df.index, test_size=0.2, random_state=999)\n",
    "#split X and y using the train/test indices\n",
    "X_train = X_combined[train_indices]\n",
    "X_test = X_combined[test_indices]\n",
    "y_train = y.iloc[train_indices]\n",
    "y_test = y.iloc[test_indices]"
   ]
  },
  {
   "cell_type": "code",
   "execution_count": 6,
   "id": "bd569a08",
   "metadata": {
    "colab": {
     "base_uri": "https://localhost:8080/"
    },
    "id": "bd569a08",
    "outputId": "85a65f9e-18cf-4d24-f83a-b7c6d7d39139"
   },
   "outputs": [
    {
     "name": "stdout",
     "output_type": "stream",
     "text": [
      "Best parameters: {'C': 10, 'penalty': 'l1', 'solver': 'liblinear'}\n",
      "Best cross-validation score: 0.954254805167687\n",
      "Grid Search: 15976.0700 seconds\n"
     ]
    }
   ],
   "source": [
    "start_time = time.time()\n",
    "#we're going to test for the best combo of regularisation type (l1 or l2), C values, and solvers\n",
    "param_grid = [\n",
    "    {\n",
    "        #l1 regularisation\n",
    "        'penalty': ['l1'],\n",
    "        'C': [0.1, 1, 10],\n",
    "        'solver': ['liblinear', 'saga']\n",
    "    },\n",
    "    {\n",
    "        #l2 regularization\n",
    "        'penalty': ['l2'],\n",
    "        'C': [0.1, 1, 10],\n",
    "        'solver': ['saga', 'sag']\n",
    "    }\n",
    "]\n",
    "\n",
    "#set up the grid search\n",
    "grid = GridSearchCV(LogisticRegression(max_iter=2000), param_grid, cv=3, n_jobs = -1)\n",
    "grid.fit(X_train, y_train)\n",
    "\n",
    "#print the best parameters and best score, and the time it took\n",
    "print(\"Best parameters:\", grid.best_params_)\n",
    "print(\"Best cross-validation score:\", grid.best_score_)\n",
    "print(\"Grid Search: {:.4f} seconds\".format(time.time() - start_time))"
   ]
  },
  {
   "cell_type": "markdown",
   "id": "2412b71f",
   "metadata": {
    "id": "2412b71f"
   },
   "source": [
    "#### Tuning Results\n",
    "As we can see from the above results the best parameters chosen by the gridSearch were {'C': 10, 'penalty': 'l1', 'solver': 'liblinear'}. The best cross-validation score was 0.954 which is a big improvement from the previous score of 0.948 and our starting score of 0.942. The GridSearch is both computationally and time consuming, taking almost 4 and a half hours.\n",
    "\n",
    "\n",
    "### Create and save final Phase 1 model"
   ]
  },
  {
   "cell_type": "code",
   "execution_count": 15,
   "id": "fc051ec0",
   "metadata": {
    "id": "fc051ec0"
   },
   "outputs": [
    {
     "name": "stdout",
     "output_type": "stream",
     "text": [
      "Final Model Accuracy: 0.9470034355515969\n",
      "Final Model Classification Report:\n",
      "               precision    recall  f1-score   support\n",
      "\n",
      "           0       0.94      0.94      0.94      6931\n",
      "           1       0.95      0.95      0.95      8787\n",
      "\n",
      "    accuracy                           0.95     15718\n",
      "   macro avg       0.95      0.95      0.95     15718\n",
      "weighted avg       0.95      0.95      0.95     15718\n",
      "\n",
      "Final model: 37.7171 seconds\n"
     ]
    }
   ],
   "source": [
    "start_time = time.time()\n",
    "#instantiate the final model with the best hyperparameters as found by the grid search\n",
    "final_model = LogisticRegression(C=10, penalty='l1', solver='liblinear', max_iter=2000)\n",
    "\n",
    "#fit the model\n",
    "final_model.fit(X_train, y_train)\n",
    "\n",
    "#evaluate on the test set\n",
    "final_predictions = final_model.predict(X_test)\n",
    "final_probabilities = final_model.predict_proba(X_test)[:, 1]\n",
    "print(\"Final Model Accuracy:\", accuracy_score(y_test, final_predictions))\n",
    "print(\"Final Model Classification Report:\\n\", classification_report(y_test, final_predictions))\n",
    "\n",
    "print(\"Final model: {:.4f} seconds\".format(time.time() - start_time))"
   ]
  },
  {
   "cell_type": "code",
   "execution_count": 16,
   "id": "3ca19521",
   "metadata": {},
   "outputs": [
    {
     "name": "stdout",
     "output_type": "stream",
     "text": [
      "Final Model (TF-IDF) Accuracy: 0.9535564321160453\n",
      "Final Model (TF-IDF) Classification Report:\n",
      "               precision    recall  f1-score   support\n",
      "\n",
      "           0       0.95      0.94      0.95      6931\n",
      "           1       0.95      0.96      0.96      8787\n",
      "\n",
      "    accuracy                           0.95     15718\n",
      "   macro avg       0.95      0.95      0.95     15718\n",
      "weighted avg       0.95      0.95      0.95     15718\n",
      "\n",
      "Final model (TF-IDF): 704.6080 seconds\n"
     ]
    }
   ],
   "source": [
    "#finally I want to test out the final model with just the TF-IDF features and not the readability features\n",
    "start_time = time.time()\n",
    "\n",
    "#fix nan error\n",
    "df['content_lemma'] = df['content_lemma'].fillna('')\n",
    "#TF-IDF feature extraction\n",
    "vectorizer_tfidf = TfidfVectorizer(max_features=5000, ngram_range=(1, 3))\n",
    "X_tfidf = vectorizer_tfidf.fit_transform(df['content_lemma'])\n",
    "\n",
    "#retain the indices as we need these for looking up explanations later\n",
    "train_indices, test_indices = train_test_split(df.index, test_size=0.2, random_state=999)\n",
    "#split X and y using the train/test indices\n",
    "X_train_tfidf = X_tfidf[train_indices]\n",
    "X_test_tfidf = X_tfidf[test_indices]\n",
    "y_train_tfidf = y.iloc[train_indices]\n",
    "y_test_tfidf = y.iloc[test_indices]\n",
    "\n",
    "#instantiate the final model with the best hyperparameters as found by the grid search\n",
    "final_model_tfidf = LogisticRegression(C=10, penalty='l1', solver='liblinear', max_iter=2000)\n",
    "\n",
    "#fit the model\n",
    "final_model_tfidf.fit(X_train_tfidf, y_train_tfidf)\n",
    "\n",
    "#evaluate on the test set\n",
    "final_predictions_tfidf = final_model_tfidf.predict(X_test_tfidf)\n",
    "final_probabilities_tfidf = final_model_tfidf.predict_proba(X_test_tfidf)[:, 1]\n",
    "print(\"Final Model (TF-IDF) Accuracy:\", accuracy_score(y_test_tfidf, final_predictions_tfidf))\n",
    "print(\"Final Model (TF-IDF) Classification Report:\\n\", classification_report(y_test_tfidf, final_predictions_tfidf))\n",
    "\n",
    "print(\"Final model (TF-IDF): {:.4f} seconds\".format(time.time() - start_time))"
   ]
  },
  {
   "cell_type": "markdown",
   "id": "f35b8978",
   "metadata": {},
   "source": [
    "#### Conclusion:\n",
    "Interestingly, we can see that the model trained without the readability metrics actually performs better (0.947 vs 0.953).  Will save out this model now. "
   ]
  },
  {
   "cell_type": "code",
   "execution_count": 18,
   "id": "cac9bc7f",
   "metadata": {
    "id": "cac9bc7f"
   },
   "outputs": [],
   "source": [
    "#save our model, vectorizer and scaler\n",
    "with open('final_phase1_model.pkl', 'wb') as file:\n",
    "    pickle.dump(final_model_tfidf, file)\n",
    "with open('final_phase1_vectorizer.pkl', 'wb') as file:\n",
    "    pickle.dump(vectorizer_tfidf, file)"
   ]
  },
  {
   "cell_type": "markdown",
   "id": "991feb8b",
   "metadata": {},
   "source": [
    "### Model exploration\n",
    "Now that we have saved out our final model, let's explore it a little further and examine the results more carefully. We'll look at the confusion matrix and ROC curve, and look at some examples of misclassified rows so we can see if we can see any trend or issue."
   ]
  },
  {
   "cell_type": "code",
   "execution_count": 19,
   "id": "85f7fb1d",
   "metadata": {},
   "outputs": [
    {
     "name": "stdout",
     "output_type": "stream",
     "text": [
      "Confusion Matrix:\n",
      "[[6529  402]\n",
      " [ 328 8459]]\n"
     ]
    },
    {
     "data": {
      "image/png": "[encoded data removed]",
      "text/plain": [
       "<Figure size 640x480 with 2 Axes>"
      ]
     },
     "metadata": {},
     "output_type": "display_data"
    }
   ],
   "source": [
    "#calculate the confusion matrix\n",
    "cm = confusion_matrix(y_test_tfidf, final_predictions_tfidf)\n",
    "print(\"Confusion Matrix:\")\n",
    "print(cm)\n",
    "disp = ConfusionMatrixDisplay(confusion_matrix=cm)\n",
    "disp.plot(cmap=plt.cm.Blues)\n",
    "plt.title(\"Confusion Matrix:\")\n",
    "plt.show()"
   ]
  },
  {
   "cell_type": "code",
   "execution_count": 20,
   "id": "1f831271",
   "metadata": {},
   "outputs": [
    {
     "name": "stdout",
     "output_type": "stream",
     "text": [
      "Number of misclassified examples: 730\n",
      "                                                                                                                                                                                                                                                                                                                                                                                                                                                                                                                                                                                                                                                                                                                                                                                                                                                                                                                                                                                                                                                                                                                                                                                                                                                                                                                                                                                                                                                                                                                                                                                                                                                                                                                                                                                                                                                                                                                                                                                                                                                                                                                                                                                                                                                                                                                                                                                                                                                                                                                                                                                                                                                                                                                                                                                                                                                                                                                        content  \\\n",
      "47381                                                                                                                                                                                                                                                                                                                                                                                                                                                                                                                                                                                                                                                                                                                                                                                                                                                                                                                                                                                                                                                                                                                                                                                                                                                                                                                                                                                                                                                                                                                                                                                                                                                                                                                                                                                                                                                                                                                                                                                                                                                                                                               Even Daddy isn't totally immune from public sector bureaucracy and delays. So we're giving him a head start![ Starring: MILO, MILO's trainer Will Magner, Brett Gilly, _USER_, Mike Ma and special guest PABLITO. Shot and edited by Matthew Perdie. MILO wears Lunar Force 1 Duckboot by Nike, _CUR_165. Sportswear tech fleece windrunner by Nike, _CUR_130. Sportswear tech fleece men's joggers by Nike, _CUR_100. Glasses by Givenchy, _CUR_350. Snake embossed leather baseball hat by Gucci, _CUR_560. DANGEROUS is available to now via Amazon, in hardcover and Kindle editions. And yes, MILO is reading the audiobook version himself! Follow Milo Yiannopoulos  on Facebook, Instagram and Snapchat. Hear him every Friday on The Milo Yiannopoulos Show. Write to Milo at milo@breitbart. com.   \n",
      "23452                                                                                                                                                                                                                                                                                                                                                                                                                                                                                                                                                                                                                                                                                                                                                                                                                                                                                                                                                                                                                                                                                                                                                                                                                                                                                                                                                                                                                                An Etihad Airways flight traveling from Abu Dhabi to Sydney made an emergency landing at Australia s Adelaide Airport early on Saturday after a warning indicator activated in the cockpit. Crew on board Etihad flight EY450 landed the plane at 5 a.m.  at Adelaide Airport, in the state of South Australia. The Boeing 777 passenger jet had 349 passengers on board who disembarked via emergency exits, according to online news service Adelaide Advertiser. A technical fault with a cargo hold air recirculation fan had been found, Etihad Airways told Reuters in an email. Etihad Airways apologizes for the inconvenience. The safety of our guests and crew is of paramount importance, it said. Australia s ABC News had reported that a smoke alarm had activated. Passengers would make their onward journeys via other airlines due to crew rest requirements, the airline said. Saturday s Etihad flight EY451, from Sydney to Abu Dhabi, had been canceled and passengers would be rescheduled on later Etihad services out of Sydney, the airline said. It was the second incident this year for the Etihad flight that connects Australia s biggest city with the hub of Abu Dhabi, where passengers transit for worldwide destinations. In July, four men were arrested in Sydney over an Islamist plot to attack the flight. One of the men sent his unsuspecting brother to catch the July 15 Sydney to Abu Dhabi flight carrying a bomb hidden in a meat-mincer.   \n",
      "70670                                                                                                                                                                                                                                                                                                                                                                                                                                                                                                         Good morning. I'll be spending a lot of today with Kim Severson, our national food correspondent, up from Atlanta to help us welcome guests to our Food for Tomorrow conference, which starts tomorrow in Pocantico Hills, N. Y. at the Stone Barns Center for Food Agriculture. It would be great if we were cooking, but we'll be in a car, talk, talk, talking, and when we need gas, we'll stop, and Kim will scout for pork rinds, because you never know: There may be a better kind than Golden Flake. I hope you'll be cooking.  If I were cooking, I'd be pleased this evening to serve Pierre Franey's great old recipe for chicken breasts with lemon alongside some plain rice and a platter of green beans with shallots. It makes for a relatively fast meal, and it should leave you time to clean up ahead of the first debate of this election season.  I'd be making plans for the rest of the week, too. I'm excited to try my hand at David Tanis's recipe for lamb steaks with Lebanese spices. I'd like to serve Florence Fabricant's recipe for broccoli rabe made . I want to make Nigella Lawson's recipe for salmon in a ginger and lemongrass broth. It's getting to the time of year when I want to eat David's recipe for pork chops with apples and cider. And who doesn't want, as fall begins to cool off our evenings a little, to settle into a dinner of Jamie Oliver's recipe for eggplant Parmesan? The Food for Tomorrow conference runs through Wednesday, so perhaps I'll get to one of those toward the end of the week. If you beat me to the punch, take a photograph of what you cook and post it to social media, where we monitor the hashtag #NYTCooking on Twitter, Instagram, Facebook and Pinterest. We've got a growing community of home cooks going. Let's share our work! You can find many more recipes on Cooking. Search through our collections and see if you can't find something delicious to cook. Then cook it! You can rate your results on a scale of one to five stars, and, if you have a good substitution or hack to suggest, you can post a note on the recipe. And, as always, I'll ask you to reach out to us for help if you need it. There are kind and careful people standing by at cookingcare@nytimes. com. Now, have you read this piece in our Sunday Review arguing that industrial farms are good for the environment? Discuss.   \n",
      "6320   Meanwhile, families with two full time working parents have been choosing generic cheerios from the cereal aisle at Kroger and forgoing vacations so welfare recipients can fill their leisure time with fun activities. If you re wondering how we ever got to this point, look no further than the Democrats freebies  for votes scheme There s nothing fun about being on welfare, and a new Kansas law aims to keep it that way.Republican Gov. Sam Brownback signed House Bill 2258 into law Thursday. The measure means Kansas families receiving government assistance will no longer be able to use those funds to visit swimming pools, see movies, go gambling or get tattoos on the state s dime.Those are just a few of the restrictions contained within the law that aims to tighten regulations on how poor families spend their government aid. It will go into effect July 1.The measure called the HOPE Act by supporters provides an opportunity for success, Brownback said in a statement after signing the bill. It s about the dignity of work and helping families move from reliance on a government pittance to becoming self-sufficient by developing the skills to find a well-paying job and build a career. State Sen. Michael O Donnell, a Wichita Republican who has advocated for the bill, said the legislation was designed to pressure those receiving Temporary Assistance for Needy Families to spend more responsibly. We re trying to make sure those benefits are used the way they were intended, O Donnell, vice chair of the state senate s standing committee on public health and welfare, told the Topeka Capital-Journal earlier this year. This is about prosperity. This is about having a great life. That, according to the legislation, means limiting spending on body piercings, massages, spas, tobacco, nail salons, lingerie, arcades, cruise ships or visits to psychics. The measure which limits TANF recipients from withdrawing more than _CUR_25 per day from ATMs also forbids recipients from spending money at a: theme park, dog or horse racing facility, parimutuel facility, or sexually oriented business or any retail establishment which provides adult-oriented entertainment in which performers disrobe or perform in an unclothed state for entertainment, or in any business or retail establishment where minors under age 18 are not permitted. I just think we are simply saying to people, If you are asking for assistance in this state, you re sort of less than other people and we re going to tell you how and where to spend your money, state Rep. Carolyn Bridges, a Wichita Democrat, said during a House debate, according to the Associated Press.The Kansas House and Senate passed the bill April 2 with wide support from Republicans, who control both legislative chambers, according to the APVia: Washington Post   \n",
      "29501                                                                                                                                                                                                                                                                                                                                                                                                                                                                                                                                                                                                                                                                                                                                                                               31 UTC © Yossi Cohen / Facebook Muslim family mistakenly prays in airport synagogue Jews in Israeli Ben Gurion International Airport were quite taken aback after they saw several Turkish Muslims praying in the airport's synagogue, apparently mistaking it for a mosque. The footage was released by Facebook user Yossi Cohen on Monday. \"Today at the synagogue in Ben Gurion airport,\" he wrote under the video. They were all members of one Turkish family, according to Breaking Israeli news. They were apparently looking for a place to pray and found a synagogue which was empty. It was just before the holiday of Simchat Torah, a Jewish holiday that marks the end of the annual cycle of public Torah readings and the beginning of a new cycle. Religious Jews do not usually travel on such days. The family used the available Jewish prayer shawls, also known as tallits, as prayer mats. Tallits are shawls traditionally worn over the clothes by religious Jews during prayers. But when the Muslim family realized that they were praying in the synagogue, they \"folded the shawls and explained that they'd just looked for a place to pray,\" a witness told NRG website. According to the Times of Israel , Ben Gurion Airport doesn't provide any facilities for believers of religions other than Judaism. Some Israelis welcomed the act of praying in the synagogue. According to Yehuda Glick, a member of the Knesset, he himself \"prayed in a mosque\" and he said he is \"happy that Muslims prayed in a synagogue.\" \"Where is the embarrassment? I couldn't find any,\" he wrote on Facebook, as cited by Arutz Sheva network. His position was supported by Rabbi David Menachem, rabbi of the Mishkan Yosef synagogue in Jerusalem. \"A group of Muslims from Turkey innocently prayed in the airport synagogue in Ben-Gurion. Innocently and in honor of God,\" he wrote on Facebook. Comment: What a refreshing reaction. Facebook commenter David Auman added : Why is there really no place for Muslims to pray ben gurion airport? At the airport in turkey. They set a place for Jews to pray.    \n",
      "\n",
      "       actual_label  predicted_label  \n",
      "47381             0                1  \n",
      "23452             0                1  \n",
      "70670             0                1  \n",
      "6320              1                0  \n",
      "29501             1                0  \n"
     ]
    }
   ],
   "source": [
    "test_df = df.iloc[test_indices].copy()\n",
    "test_df['actual_label'] = y_test_tfidf.values\n",
    "test_df['predicted_label'] = final_predictions_tfidf\n",
    "\n",
    "#filter for just incorrectly classified rows\n",
    "misclassified = test_df[test_df['actual_label'] != test_df['predicted_label']]\n",
    "print(\"Number of misclassified examples:\", len(misclassified))\n",
    "\n",
    "#show some misclassified examples\n",
    "print(misclassified[['content', 'actual_label', 'predicted_label']].head())"
   ]
  },
  {
   "cell_type": "code",
   "execution_count": 21,
   "id": "84f9f0c8",
   "metadata": {},
   "outputs": [
    {
     "data": {
      "image/png": "[encoded data removed]",
      "text/plain": [
       "<Figure size 640x480 with 1 Axes>"
      ]
     },
     "metadata": {},
     "output_type": "display_data"
    }
   ],
   "source": [
    "fpr, tpr, thresholds = roc_curve(y_test_tfidf, final_probabilities_tfidf)\n",
    "roc_auc = auc(fpr, tpr)\n",
    "\n",
    "plt.figure()\n",
    "plt.plot(fpr, tpr, label=f'ROC curve (AUC = {roc_auc:.2f})')\n",
    "plt.plot([0, 1], [0, 1], 'k--', label='Random Coin Flip')\n",
    "plt.xlabel('False Positive Rate')\n",
    "plt.ylabel('True Positive Rate')\n",
    "plt.legend(loc='lower right')\n",
    "plt.show()\n"
   ]
  },
  {
   "cell_type": "code",
   "execution_count": 22,
   "id": "8fbdc4aa",
   "metadata": {},
   "outputs": [
    {
     "data": {
      "image/png": "[encoded data removed]",
      "text/plain": [
       "<Figure size 1000x500 with 1 Axes>"
      ]
     },
     "metadata": {},
     "output_type": "display_data"
    }
   ],
   "source": [
    "#add predicted probability to the test df\n",
    "test_df['predicted_probability'] = final_model_tfidf.predict_proba(X_test_tfidf)[:, 1]\n",
    "\n",
    "#separate out incorrectly classified examples\n",
    "misclassified = test_df[test_df['actual_label'] != test_df['predicted_label']]\n",
    "\n",
    "#plot histogram\n",
    "plt.figure(figsize=(10, 5))\n",
    "sns.histplot(misclassified['predicted_probability'], bins=20, color='red', label='Misclassified', kde=True)\n",
    "plt.xlabel(\"Predicted Probability for Class 1\")\n",
    "plt.title(\"Predicted Probability Distribution: Misclassified posts\")\n",
    "plt.legend()\n",
    "plt.show()"
   ]
  },
  {
   "cell_type": "markdown",
   "id": "22c3c3cb",
   "metadata": {},
   "source": [
    "Charting this is interesting because we can learn a few things.\n",
    "\n",
    "Firstly, there is a spike of misclassified examples with a predicted probability near 1.0. This means the model is very certain that they belong to class 1 (Fake) but they are actually true. High confidence errors like this can be an indication of overfitting, or learning spurious signals. We see a similar but smaller spike at 0.0. \n",
    "\n",
    "Secondly, there are quite a few misclassifications in the middle range where the predication probability is between 0.4 and 0.6. These errors are more expected and could be migitated somewhat by adjusting the decision threshold."
   ]
  },
  {
   "cell_type": "code",
   "execution_count": 23,
   "id": "4854779d",
   "metadata": {},
   "outputs": [
    {
     "name": "stdout",
     "output_type": "stream",
     "text": [
      "High confidence errors predicted as class 1 (Fake):\n",
      "                                                                                                                                                                                                                                                                                                                                                                                                                                                                                                                                                                                                                                                                                                                                                                                                                                                                                                                                                                                                                                                                                                                                                                                                                                                                                                                                                                                                                                                                                          content  \\\n",
      "47381                                                                                                                                                                                                                                                                                                                                                                                                                                                                                                                                                                                                                                                                                 Even Daddy isn't totally immune from public sector bureaucracy and delays. So we're giving him a head start![ Starring: MILO, MILO's trainer Will Magner, Brett Gilly, _USER_, Mike Ma and special guest PABLITO. Shot and edited by Matthew Perdie. MILO wears Lunar Force 1 Duckboot by Nike, _CUR_165. Sportswear tech fleece windrunner by Nike, _CUR_130. Sportswear tech fleece men's joggers by Nike, _CUR_100. Glasses by Givenchy, _CUR_350. Snake embossed leather baseball hat by Gucci, _CUR_560. DANGEROUS is available to now via Amazon, in hardcover and Kindle editions. And yes, MILO is reading the audiobook version himself! Follow Milo Yiannopoulos  on Facebook, Instagram and Snapchat. Hear him every Friday on The Milo Yiannopoulos Show. Write to Milo at milo@breitbart. com.   \n",
      "23452  An Etihad Airways flight traveling from Abu Dhabi to Sydney made an emergency landing at Australia s Adelaide Airport early on Saturday after a warning indicator activated in the cockpit. Crew on board Etihad flight EY450 landed the plane at 5 a.m.  at Adelaide Airport, in the state of South Australia. The Boeing 777 passenger jet had 349 passengers on board who disembarked via emergency exits, according to online news service Adelaide Advertiser. A technical fault with a cargo hold air recirculation fan had been found, Etihad Airways told Reuters in an email. Etihad Airways apologizes for the inconvenience. The safety of our guests and crew is of paramount importance, it said. Australia s ABC News had reported that a smoke alarm had activated. Passengers would make their onward journeys via other airlines due to crew rest requirements, the airline said. Saturday s Etihad flight EY451, from Sydney to Abu Dhabi, had been canceled and passengers would be rescheduled on later Etihad services out of Sydney, the airline said. It was the second incident this year for the Etihad flight that connects Australia s biggest city with the hub of Abu Dhabi, where passengers transit for worldwide destinations. In July, four men were arrested in Sydney over an Islamist plot to attack the flight. One of the men sent his unsuspecting brother to catch the July 15 Sydney to Abu Dhabi flight carrying a bomb hidden in a meat-mincer.   \n",
      "77089                                                                                                                                                                                                                                                                                                                                                                                                                                                                                                                                                                                                                                                                                                                                                                                                                                                                                                                                                                                                                                                                                                                                                                                                                                                                                                                                                    It was my great honor to join our wonderful Veterans at AMVETS Post 44 in Youngstown, Ohio this evening. A grateful nation salutes you!    \n",
      "\n",
      "       actual_label  predicted_label  predicted_probability  \n",
      "47381             0                1               0.995956  \n",
      "23452             0                1               0.856459  \n",
      "77089             0                1               0.991475  \n",
      "\n",
      "High confidence errors predicted as class 0 (True):\n",
      "                                                                                                                                                                                                                                                                                                                                                                                                                                                                                                                                                                                                                                                                                                                                                                                                                                                                                                                                                                                                                                                                                                                                                                                                                                                                                                                                                                                                                                                                                                                                                                                                                                                                                                                                                                                                                                                                                                                                                                                                                                                                                                                                                                                                                                                                                                                                                                                                                                                                                                                                                                                                                                                                                                                                                                                                                                                                                                                                                                                                                                                                                                                                                                                                                              content  \\\n",
      "29501                                                                                                                                                                                                                                                                                                                                                                                                                                                                                                                                                                                                                                                                                                                                                                                                                                                                                                                                                                                                                                                                                     31 UTC © Yossi Cohen / Facebook Muslim family mistakenly prays in airport synagogue Jews in Israeli Ben Gurion International Airport were quite taken aback after they saw several Turkish Muslims praying in the airport's synagogue, apparently mistaking it for a mosque. The footage was released by Facebook user Yossi Cohen on Monday. \"Today at the synagogue in Ben Gurion airport,\" he wrote under the video. They were all members of one Turkish family, according to Breaking Israeli news. They were apparently looking for a place to pray and found a synagogue which was empty. It was just before the holiday of Simchat Torah, a Jewish holiday that marks the end of the annual cycle of public Torah readings and the beginning of a new cycle. Religious Jews do not usually travel on such days. The family used the available Jewish prayer shawls, also known as tallits, as prayer mats. Tallits are shawls traditionally worn over the clothes by religious Jews during prayers. But when the Muslim family realized that they were praying in the synagogue, they \"folded the shawls and explained that they'd just looked for a place to pray,\" a witness told NRG website. According to the Times of Israel , Ben Gurion Airport doesn't provide any facilities for believers of religions other than Judaism. Some Israelis welcomed the act of praying in the synagogue. According to Yehuda Glick, a member of the Knesset, he himself \"prayed in a mosque\" and he said he is \"happy that Muslims prayed in a synagogue.\" \"Where is the embarrassment? I couldn't find any,\" he wrote on Facebook, as cited by Arutz Sheva network. His position was supported by Rabbi David Menachem, rabbi of the Mishkan Yosef synagogue in Jerusalem. \"A group of Muslims from Turkey innocently prayed in the airport synagogue in Ben-Gurion. Innocently and in honor of God,\" he wrote on Facebook. Comment: What a refreshing reaction. Facebook commenter David Auman added : Why is there really no place for Muslims to pray ben gurion airport? At the airport in turkey. They set a place for Jews to pray.    \n",
      "19576                                                                                                                                                                                                                                                                                                                                                                                                                                                                                                                                                                                                                                                                                                                                                                                                                                                                                                                                                                                                                                                                                                                                                                                                       Remember this? Mayor Rawlings-Blake says that the Baltimore rioters needed room to destroy The Federal Emergency Management Agency has denied a state request for disaster aid to cover the costs associated with the rioting and unrest that broke out in Baltimore after the death of Freddie Gray.W. Craig Fugate, FEMA s administrator, wrote in a June 12 letter to Gov. Larry Hogan that federal disaster aid was not appropriate for such an event. Therefore, I must inform you that your request for a major disaster declaration is denied, Fugate wrote.Spokeswoman Erin Montgomery said Friday that the Hogan administration is reviewing FEMA s response and will make a determination about the appropriate next steps, including a possible appeal. A disaster declaration would allow public agencies and residents affected by the unrest to seek reimbursement for related costs.City officials have reserved _CUR_20 million to cover direct costs, including overtime for police and firefighters, damage to city-owned property and repaying other jurisdictions for police and other assistance.Howard Libit, a spokesman for Mayor Stephanie Rawlings-Blake, said Friday that the city is working on an appeal. We re told we have 30 days to appeal, he said. We re working with the federal delegation and Obama administration officials to assess what we might do to become eligible for reimbursement. Henry J. Raymond, Baltimore s finance director, said in May that the city was covering the costs from its rainy-day fund but hoped for federal reimbursement of up to 75 percent of the costs.In his request for aid, Hogan had cited Baltimore s preliminary estimate that the rioting and looting in April and the five-night citywide curfew had an economic impact of _CUR_30.5 million. That included the loss of conventions, hospitality and leisure spending, and tourism from Orioles games that were closed to the public or moved to Florida. Read more: The Baltimore Sun   \n",
      "66720  5 broken ribs with trouble breathing, lung contusions and life-threatening possibilities is not a minor injury as media claimed A senior adviser for Rand Paul says the U.S. senator is recovering from five broken ribs following an assault at his home.Doug Stafford said it is unclear when Paul will return to work since he is in considerable pain and has difficulty getting around, including flying. Stafford said Sunday that the broken ribs include three displaced fractures, which can lead to life-threatening injuries. The severe pain can last for weeks or months.Police arrested 59-year-old Rene Boucher on Saturday and charged him with misdemeanor fourth-degree assault with a minor injury. Boucher is accused of attacking Paul on Friday, but officials have not released a motive.Boucher lives next door to Paul and his wife, according to Warren County property records.Boucher was released from jail on Saturday. He has not returned a call seeking comment.OUR PREVIOUS REPORT ON THE ATTACK:Another unhinged Democrat has been arrested for attacking someone with political views that are in opposition to his yawn Kentucky State Police have arrested a person accused of assaulting Sen. Rand Paul  at his home in Kentucky, the senator s office confirmed on Saturday. Senator Paul was blindsided and the victim of an assault, Kelsey Cooper, a spokeswoman for Paul, said in a statement. The assailant was arrested and it is now a matter for the police. Senator Paul is fine. The suspect was identified as 59-year-old Rene Boucher of Bowling Green, Kent., according to a statement from Kentucky State Police reported by the Bowling Green Daily News. True PunditBoucher is an anesthesiologist and pain specialist. He got his medical degree from Des Moines University College of Osteopathic Medicine after being pre-med at Providence College in Rhode Island, according to Doximity. Boucher has practiced medicine in since 1982 and attended high school in New Bedford, Massachusetts. Between 1985 and 1993, Boucher was pain management specialist at the Letterman Army Medical Center in San Francisco where he also did his residency.In 2005, Boucher appeared on QVC marketing a rice-filled vest that was designed to alleviate back pain, reported the Bowling Green Daily News. The vest retailed at _CUR_30 and had to be microwaved before use. The website for Therm-a-Vest is no longer active. WAVE reports that Boucher retired in 2015.In May 2017, Boucher shared a story on Facebook about Republican Congressman Greg Gianforte assaulting The Guardian s Ben Jacobs in Bozeman, Montana. The assault was described as a body slam at the time. Boucher writes in his Facebook bio that he is in a relationship. The Bowling Green Daily News article about Boucher s pain relieving vest saw him city his wife, Lisa, as a reason for its success.Boucher is a registered Democrat. Since Trump s ascendency to the president, Boucher has been severely critical the GOP on Facebook. Boucher is shown to be an advocate for gun control and healthcare reform. There does not seem to be any posts that target Senator Paul. Heavy   \n",
      "\n",
      "       actual_label  predicted_label  predicted_probability  \n",
      "29501             1                0               0.118627  \n",
      "19576             1                0               0.123801  \n",
      "66720             1                0               0.239840  \n"
     ]
    }
   ],
   "source": [
    "#define thresholds\n",
    "high_threshold = 0.85\n",
    "low_threshold = 0.25\n",
    "\n",
    "high_confidence_class1_errors = misclassified[(misclassified['predicted_label'] == 1) & (misclassified['predicted_probability'] >= high_threshold)]\n",
    "high_confidence_class0_errors = misclassified[(misclassified['predicted_label'] == 0) & (misclassified['predicted_probability'] <= low_threshold)]\n",
    "\n",
    "#print examples from each\n",
    "print(\"High confidence errors predicted as class 1 (Fake):\")\n",
    "print(high_confidence_class1_errors[['content', 'actual_label', 'predicted_label', 'predicted_probability']].head(3))\n",
    "\n",
    "print(\"\\nHigh confidence errors predicted as class 0 (True):\")\n",
    "print(high_confidence_class0_errors[['content', 'actual_label', 'predicted_label', 'predicted_probability']].head(3))"
   ]
  },
  {
   "cell_type": "code",
   "execution_count": null,
   "id": "df145f66",
   "metadata": {},
   "outputs": [],
   "source": []
  }
 ],
 "metadata": {
  "colab": {
   "provenance": []
  },
  "kernelspec": {
   "display_name": "Python 3 (ipykernel)",
   "language": "python",
   "name": "python3"
  },
  "language_info": {
   "codemirror_mode": {
    "name": "ipython",
    "version": 3
   },
   "file_extension": ".py",
   "mimetype": "text/x-python",
   "name": "python",
   "nbconvert_exporter": "python",
   "pygments_lexer": "ipython3",
   "version": "3.10.9"
  }
 },
 "nbformat": 4,
 "nbformat_minor": 5
}
