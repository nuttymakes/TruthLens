{
 "cells": [
  {
   "cell_type": "markdown",
   "id": "e0976e04",
   "metadata": {},
   "source": [
    "# TruthLens Modelling - Phase 1 : Binary Classification\n",
    "The aim of phase 1 is to classify text into real or fake. \"Fake\" content will move to phase 2 for multiclass classification, so essentially what we are trying to do with this stage is to filter out real news. \n",
    "\n",
    "The dataset used is the Misinformation & Fake News text dataset, which has already been cleaned and preprocessed (see \"TruthLens Data Cleaning\" notebook)."
   ]
  },
  {
   "cell_type": "code",
   "execution_count": 35,
   "id": "7c391f5d",
   "metadata": {},
   "outputs": [],
   "source": [
    "#imports\n",
    "import pandas as pd\n",
    "import numpy as np\n",
    "from sklearn.feature_extraction.text import TfidfVectorizer\n",
    "from sklearn.model_selection import train_test_split\n",
    "from sklearn.preprocessing import StandardScaler\n",
    "from scipy.sparse import hstack, csr_matrix\n",
    "import time\n",
    "from sklearn.linear_model import LogisticRegression\n",
    "from sklearn.metrics import accuracy_score, classification_report\n",
    "from sklearn.svm import SVC\n",
    "from sklearn.ensemble import RandomForestClassifier\n",
    "from sklearn.model_selection import GridSearchCV\n",
    "import csv\n",
    "import random\n",
    "import pickle\n",
    "pd.set_option('display.max_colwidth', None)\n",
    "from lime.lime_text import LimeTextExplainer"
   ]
  },
  {
   "cell_type": "markdown",
   "id": "b39615dc",
   "metadata": {},
   "source": [
    "### Feature Extraction Using TF-IDF, n-grams and readability metrics"
   ]
  },
  {
   "cell_type": "code",
   "execution_count": 36,
   "id": "9f55d404",
   "metadata": {},
   "outputs": [
    {
     "name": "stdout",
     "output_type": "stream",
     "text": [
      "                                                                                                                                                                                                                                                                                                                                                                                                                                                                                                                                                                                                                                                                                                                                                                                                                                                                                                                                                                                                                                                                                                                                                                                                                                                                                                                                                                                                                                                                                                                                                                                                                                                                                                                                                                                                                                                                                                                                                                                                                                                                                                                                                                                                                                                                                                              content  \\\n",
      "0                                                                                                                                                                                                                                                                                                                                                                                                                                                                                                                                                                                                                                                           Of course, America s favorite criminal candidate says America shouldn t believe the infamous hacker who claims he accessed her unsecured server because he s a criminal. LOL if anyone can spot a criminal, it s Crooked Hillary The infamous Romanian hacker known as Guccifer, speaking exclusively with Fox News, claimed he easily and repeatedly breached former Secretary of State Hillary Clinton s personal email server in early 2013. For me, it was easy easy for me, for everybody, Marcel Lehel Lazar, who goes by the moniker Guccifer, told Fox News from a Virginia jail where he is being held.Guccifer s potential role in the Clinton email investigation was first reported by Fox News last month. The hacker subsequently claimed he was able to access the server and provided extensive details about how he did it and what he found over the course of a half-hour jailhouse interview and a series of recorded phone calls with Fox News.Fox News could not independently confirm Lazar s claims.In response to Lazar s claims, the Clinton campaign issued a statement Wednesday night saying, There is absolutely no basis to believe the claims made by this criminal from his prison cell. In addition to the fact he offers no proof to support his claims, his descriptions of Secretary Clinton s server are inaccurate. It is unfathomable that he would have gained access to her emails and not leaked them the way he did to his other victims. The former secretary of state s server held nearly 2,200 emails containing information now deemed classified, and another 22 at the Top Secret level. Via: FOX News   \n",
      "1                                                                                                                                                                                                                                                                                                                                                                                                                                                         U.S. President Donald Trump expressed satisfaction on Tuesday with the federal response to Hurricane Maria s devastation of Puerto Rico, despite criticism that the government was slow to address the crisis. Trump, who has grappled with hurricanes Harvey, Irma and Maria in the past six weeks, said at a briefing that the disasters were straining the U.S. budget. I hate to tell you, Puerto Rico, but you ve thrown our budget a little out of whack because we ve spent a lot of money on Puerto Rico, he said. And that s fine. We ve saved a lot of lives. Two weeks after it was hit by the worst hurricane in 90 years, many of Puerto Rico s 3.4 million residents are still struggling without basic necessities. Shortly after Trump left Puerto Rico, Governor Ricardo Rosello said the death toll had risen from 16 to 34. The U.S. territory s economy already was in recession before Hurricane Maria and its government had filed for bankruptcy in the face of a _CUR_72 billion debt load. In an interview with Fox News, Trump said the island s debt would have to be erased. They owe a lot of money to your friends on Wall Street and we re going to have to wipe that out. You re going to say goodbye to that, I don t know if it s Goldman Sachs but whoever it is you can wave goodbye to that, Trump said in the interview, conducted while he visited the island. Moody s on Tuesday estimated Maria s total cost to Puerto Rico, including lost output, at _CUR_45 billion to _CUR_95 billion and significant relief from the federal government would be required. Trump said the federal response to Maria compared favorably with a real catastrophe like Katrina, the 2005 storm that swamped Louisiana and Mississippi and killed more than 1,800. What s happened in terms of recovery, in terms of saving lives   \n",
      "2  Romania s lower house of parliament approved on Wednesday legislation to overhaul its justice system, legislation that the European Commission, the U.S. State Department and the country s president have criticized as threatening judicial independence. Two bills, and a third which was approved on Monday, are part of a wider overhaul that has triggered street protests across the country in recent weeks and which thousands of magistrates oppose The European Union state, ranked as one of the bloc s most corrupt, joins its eastern European peers Hungary and Poland, where populist leaders are also trying to control the judiciary, defying EU concerns over the rule of law. Romania s ruling Social Democrats, which command an overwhelming majority in parliament together with their junior coalition partner, ALDE, have so far ignored the protesters. Changes approved on Wednesday include setting up a special unit to investigate criminal offences committed by judges and prosecutors. This makes magistrates the only professional category with a system dedicated to investigating them. The bills also enforce more restrictive criteria for prosecutors seeking to join anti-corruption and anti-organizedcrime prosecuting units. On Monday, lawmakers approved a bill that changes the way magistrates are supervised and amends the definition of prosecutor activity to exclude the word independent . The three bills must now be approved by the senate, with a vote expected next week. Opposition parties and President Klaus Iohannis could also challenge the bills at the Constitutional Court, but the outcome of that was unclear. The ruling Social Democrats also plan changes to the country s criminal code. In November, the European Commission said justice reform has stagnated this year and challenges to judicial independence remain a persistent source of concern. At the start of this year, attempts by the Social Democrats to decriminalize several corruption offences triggered the country s largest street protests in decades. Romanian prosecutors have investigated thousands of public officials in an unprecedented crackdown on top-level graft. The lower house and senate speakers are both currently on trial in separate cases.   \n",
      "\n",
      "   label  word_count  sentence_count  flesch_reading_ease  \\\n",
      "0      1         270              11                46.61   \n",
      "1      0         322              15                58.11   \n",
      "2      0         336              15                31.92   \n",
      "\n",
      "                                                                                                                                                                                                                                                                                                                                                                                                                                                                                                                                                                                                                                                                                                                                                                                                                                                                                                                                                                                                                                                                                                                                                                                                                                                                                                                                                                                                                                                                                                                                                                                                                                                                                                                                                                                                                                                                                                                                                                                                                                                                                                                                                                                                                                     content_lemma  \\\n",
      "0                                                                                                                                                                                                                                                                                                                                                                                                                                                                                                                                                                                                                          Of course , America s favorite criminal candidate say America shouldn t believe the infamous hacker who claim he access her unsecured server because he s a criminal . LOL if anyone can spot a criminal , it s Crooked Hillary The infamous Romanian hacker know a Guccifer , speak exclusively with Fox News , claim he easily and repeatedly breach former Secretary of State Hillary Clinton s personal email server in early 2013 . For me , it be easy easy for me , for everybody , Marcel Lehel Lazar , who go by the moniker Guccifer , tell Fox News from a Virginia jail where he be be held.Guccifer s potential role in the Clinton email investigation be first report by Fox News last month . The hacker subsequently claim he be able to access the server and provide extensive detail about how he do it and what he find over the course of a half-hour jailhouse interview and a series of recorded phone call with Fox News.Fox News could not independently confirm Lazar s claims.In response to Lazar s claim , the Clinton campaign issue a statement Wednesday night say , There be absolutely no basis to believe the claim make by this criminal from his prison cell . In addition to the fact he offer no proof to support his claim , his description of Secretary Clinton s server be inaccurate . It be unfathomable that he would have gain access to her email and not leak them the way he do to his other victim . The former secretary of state s server hold nearly 2,200 email contain information now deem classify , and another 22 at the Top Secret level . Via : FOX News   \n",
      "1                                                                                                                                                                                                                                                                                                                                                                                                                   U.S. President Donald Trump express satisfaction on Tuesday with the federal response to Hurricane Maria s devastation of Puerto Rico , despite criticism that the government be slow to address the crisis . Trump , who have grapple with hurricane Harvey , Irma and Maria in the past six week , say at a briefing that the disaster be strain the U.S. budget . I hate to tell you , Puerto Rico , but you ve thrown our budget a little out of whack because we ve spend a lot of money on Puerto Rico , he say . And that s fine . We ve save a lot of life . Two week after it be hit by the bad hurricane in 90 year , many of Puerto Rico s 3.4 million resident be still struggle without basic necessity . Shortly after Trump leave Puerto Rico , Governor Ricardo Rosello say the death toll have rise from 16 to 34 . The U.S. territory s economy already be in recession before Hurricane Maria and it government have file for bankruptcy in the face of a _CUR_72 billion debt load . In an interview with Fox News , Trump say the island s debt would have to be erase . They owe a lot of money to your friend on Wall Street and we re go to have to wipe that out . You re go to say goodbye to that , I don t know if it s Goldman Sachs but whoever it be you can wave goodbye to that , Trump say in the interview , conduct while he visit the island . Moody s on Tuesday estimate Maria s total cost to Puerto Rico , include lose output , at _CUR_45 billion to _CUR_95 billion and significant relief from the federal government would be require . Trump say the federal response to Maria compare favorably with a real catastrophe like Katrina , the 2005 storm that swamp Louisiana and Mississippi and kill more than 1,800 . What s happen in term of recovery , in term of save life   \n",
      "2  Romania s low house of parliament approve on Wednesday legislation to overhaul it justice system , legislation that the European Commission , the U.S. State Department and the country s president have criticize a threaten judicial independence . Two bill , and a third which be approve on Monday , be part of a wider overhaul that have trigger street protest across the country in recent week and which thousand of magistrate oppose The European Union state , rank a one of the bloc s most corrupt , join it eastern European peer Hungary and Poland , where populist leader be also try to control the judiciary , defy EU concern over the rule of law . Romania s rule Social Democrats , which command an overwhelming majority in parliament together with their junior coalition partner , ALDE , have so far ignore the protester . Changes approve on Wednesday include set up a special unit to investigate criminal offence commit by judge and prosecutor . This make magistrates the only professional category with a system dedicate to investigate them . The bill also enforce more restrictive criterion for prosecutor seek to join anti-corruption and anti-organizedcrime prosecute unit . On Monday , lawmaker approve a bill that change the way magistrate be supervise and amend the definition of prosecutor activity to exclude the word independent . The three bill must now be approve by the senate , with a vote expect next week . Opposition party and President Klaus Iohannis could also challenge the bill at the Constitutional Court , but the outcome of that be unclear . The rule Social Democrats also plan change to the country s criminal code . In November , the European Commission say justice reform have stagnate this year and challenge to judicial independence remain a persistent source of concern . At the start of this year , attempt by the Social Democrats to decriminalize several corruption offence trigger the country s large street protest in decade . Romanian prosecutor have investigate thousand of public official in an unprecedented crackdown on top-level graft . The low house and senate speaker be both currently on trial in separate case .   \n",
      "\n",
      "                                                                                                                                                                                                                                                                                                                                                                                                                                                                                                                                                                                                                                                                                                                                                                                                                                                                                                                                                                                                                                                                                                                                                                                                                                                                                                                                                                                                                                                                                                                                                                                                                                                                         content_lemma_nostop  \n",
      "0                                                                                                                                                                                                                                                                                                                                                                                                                                                                                                                                               course america favorite criminal candidate say america believe infamous hacker claim access unsecured server criminal lol anyone spot criminal crooked hillary infamous romanian hacker know guccifer speak exclusively fox news claim easily repeatedly breach former secretary state hillary clinton personal email server early 2013 easy easy everybody marcel lehel lazar go moniker guccifer tell fox news virginia jail heldguccifer potential role clinton email investigation first report fox news last month hacker subsequently claim able access server provide extensive detail find course halfhour jailhouse interview series recorded phone call fox newsfox news could independently confirm lazar claimsin response lazar claim clinton campaign issue statement wednesday night say absolutely basis believe claim make criminal prison cell addition fact offer proof support claim description secretary clinton server inaccurate unfathomable would gain access email leak way victim former secretary state server hold nearly 2200 email contain information deem classify another 22 top secret level via fox news  \n",
      "1                                                                                                                                                                                                                                                                                                                                                                                                                                                                            us president donald trump express satisfaction tuesday federal response hurricane maria devastation puerto rico despite criticism government slow address crisis trump grapple hurricane harvey irma maria past six week say briefing disaster strain us budget hate tell puerto rico thrown budget little whack spend lot money puerto rico say fine save lot life two week hit bad hurricane 90 year many puerto rico 34 million resident still struggle without basic necessity shortly trump leave puerto rico governor ricardo rosello say death toll rise 16 34 us territory economy already recession hurricane maria government file bankruptcy face cur72 billion debt load interview fox news trump say island debt would erase owe lot money friend wall street go wipe go say goodbye know goldman sachs whoever wave goodbye trump say interview conduct visit island moody tuesday estimate maria total cost puerto rico include lose output cur45 billion cur95 billion significant relief federal government would require trump say federal response maria compare favorably real catastrophe like katrina 2005 storm swamp louisiana mississippi kill 1800 happen term recovery term save life  \n",
      "2  romania low house parliament approve wednesday legislation overhaul justice system legislation european commission us state department country president criticize threaten judicial independence two bill third approve monday part wider overhaul trigger street protest across country recent week thousand magistrate oppose european union state rank one bloc corrupt join eastern european peer hungary poland populist leader also try control judiciary defy eu concern rule law romania rule social democrats command overwhelming majority parliament together junior coalition partner alde far ignore protester changes approve wednesday include set special unit investigate criminal offence commit judge prosecutor make magistrates professional category system dedicate investigate bill also enforce restrictive criterion prosecutor seek join anticorruption antiorganizedcrime prosecute unit monday lawmaker approve bill change way magistrate supervise amend definition prosecutor activity exclude word independent three bill must approve senate vote expect next week opposition party president klaus iohannis could also challenge bill constitutional court outcome unclear rule social democrats also plan change country criminal code november european commission say justice reform stagnate year challenge judicial independence remain persistent source concern start year attempt social democrats decriminalize several corruption offence trigger country large street protest decade romanian prosecutor investigate thousand public official unprecedented crackdown toplevel graft low house senate speaker currently trial separate case  \n"
     ]
    }
   ],
   "source": [
    "#load data\n",
    "df = pd.read_csv('Data/phase1_final_clean.csv')\n",
    "df = df.reset_index(drop=True)\n",
    "print(df.head(3))"
   ]
  },
  {
   "cell_type": "code",
   "execution_count": 37,
   "id": "640da603",
   "metadata": {},
   "outputs": [
    {
     "name": "stdout",
     "output_type": "stream",
     "text": [
      "Feature extraction: 471.0503 seconds\n"
     ]
    }
   ],
   "source": [
    "#TF-IDF feature extraction with n-grams\n",
    "start_time = time.time()\n",
    "#replace NaN values with an empty string to resolve NaN ValueError\n",
    "df['content_lemma_nostop'] = df['content_lemma_nostop'].fillna('')\n",
    "vectorizer = TfidfVectorizer(max_features=5000, ngram_range=(1, 3))\n",
    "X_tfidf = vectorizer.fit_transform(df['content_lemma_nostop'])\n",
    "#get pre-calculated readability features\n",
    "readability_features = df[['word_count', 'sentence_count', 'flesch_reading_ease']].values\n",
    "#standardise readability features\n",
    "scaler = StandardScaler()\n",
    "readability_scaled = scaler.fit_transform(readability_features)\n",
    "#convert to a sparse matrix\n",
    "readability_sparse = csr_matrix(readability_scaled)\n",
    "#combine TF-IDF features with the readability metrics\n",
    "X_combined = hstack([X_tfidf, readability_sparse])\n",
    "\n",
    "y = df['label']\n",
    "print(\"Feature extraction: {:.4f} seconds\".format(time.time() - start_time))"
   ]
  },
  {
   "cell_type": "markdown",
   "id": "c0949d9b",
   "metadata": {},
   "source": [
    "### Split dataset"
   ]
  },
  {
   "cell_type": "code",
   "execution_count": 38,
   "id": "daf94d1a",
   "metadata": {},
   "outputs": [],
   "source": [
    "#retain the indices as we need these for looking up explanations later\n",
    "train_indices, test_indices = train_test_split(df.index, test_size=0.2, random_state=999)\n",
    "#split X and y using the train/test indices\n",
    "X_train = X_combined[train_indices]\n",
    "X_test = X_combined[test_indices]\n",
    "y_train = y.iloc[train_indices]\n",
    "y_test = y.iloc[test_indices]"
   ]
  },
  {
   "cell_type": "markdown",
   "id": "d24cd01e",
   "metadata": {},
   "source": [
    "### Phase 1 Modelling\n",
    "I will test three different models on the data to see which is best. The models to be tested are:\n",
    "- Logistic Regression\n",
    "- Random Forest\n",
    "- Support Vector Machine (SVM)\n",
    "\n",
    "#### Logistic Regression"
   ]
  },
  {
   "cell_type": "code",
   "execution_count": 39,
   "id": "4a99a164",
   "metadata": {},
   "outputs": [
    {
     "name": "stdout",
     "output_type": "stream",
     "text": [
      "Fit Logistic Regression model: 23.1854 seconds\n",
      "Accuracy: 0.9419773508079908\n",
      "Classification Report:\n",
      "               precision    recall  f1-score   support\n",
      "\n",
      "           0       0.94      0.93      0.93      6931\n",
      "           1       0.94      0.95      0.95      8787\n",
      "\n",
      "    accuracy                           0.94     15718\n",
      "   macro avg       0.94      0.94      0.94     15718\n",
      "weighted avg       0.94      0.94      0.94     15718\n",
      "\n"
     ]
    }
   ],
   "source": [
    "start_time = time.time()\n",
    "model = LogisticRegression(max_iter=1000)\n",
    "model.fit(X_train, y_train)\n",
    "y_pred = model.predict(X_test)\n",
    "print(\"Fit Logistic Regression model: {:.4f} seconds\".format(time.time() - start_time))\n",
    "print(\"Accuracy:\", accuracy_score(y_test, y_pred))\n",
    "print(\"Classification Report:\\n\", classification_report(y_test, y_pred))"
   ]
  },
  {
   "cell_type": "markdown",
   "id": "9e8795bc",
   "metadata": {},
   "source": [
    "#### Random Forest"
   ]
  },
  {
   "cell_type": "code",
   "execution_count": 9,
   "id": "5cd2b147",
   "metadata": {},
   "outputs": [
    {
     "name": "stdout",
     "output_type": "stream",
     "text": [
      "Fit Random Forest model: 618.2777 seconds\n",
      "Random Forest Accuracy: 0.9505026084743606\n",
      "Random Forest Classification Report:\n",
      "               precision    recall  f1-score   support\n",
      "\n",
      "           0       0.95      0.94      0.94      6931\n",
      "           1       0.95      0.96      0.96      8787\n",
      "\n",
      "    accuracy                           0.95     15718\n",
      "   macro avg       0.95      0.95      0.95     15718\n",
      "weighted avg       0.95      0.95      0.95     15718\n",
      "\n"
     ]
    }
   ],
   "source": [
    "start_time = time.time()\n",
    "rf_model = RandomForestClassifier()\n",
    "rf_model.fit(X_train, y_train)\n",
    "rf_pred = rf_model.predict(X_test)\n",
    "print(\"Fit Random Forest model: {:.4f} seconds\".format(time.time() - start_time))\n",
    "print(\"Random Forest Accuracy:\", accuracy_score(y_test, rf_pred))\n",
    "print(\"Random Forest Classification Report:\\n\", classification_report(y_test, rf_pred))"
   ]
  },
  {
   "cell_type": "markdown",
   "id": "5d1a7b5e",
   "metadata": {},
   "source": [
    "#### Support Vector Machine (SVM)"
   ]
  },
  {
   "cell_type": "code",
   "execution_count": 34,
   "id": "9b292177",
   "metadata": {},
   "outputs": [
    {
     "name": "stdout",
     "output_type": "stream",
     "text": [
      "Fit SVM model: 4321.4944 seconds\n",
      "SVM Accuracy: 0.9504389871484922\n",
      "SVM Classification Report:\n",
      "               precision    recall  f1-score   support\n",
      "\n",
      "           0       0.95      0.93      0.94      6931\n",
      "           1       0.95      0.96      0.96      8787\n",
      "\n",
      "    accuracy                           0.95     15718\n",
      "   macro avg       0.95      0.95      0.95     15718\n",
      "weighted avg       0.95      0.95      0.95     15718\n",
      "\n"
     ]
    }
   ],
   "source": [
    "start_time = time.time()\n",
    "svm_model = SVC()\n",
    "svm_model.fit(X_train, y_train)\n",
    "svm_pred = svm_model.predict(X_test)\n",
    "print(\"Fit SVM model: {:.4f} seconds\".format(time.time() - start_time))\n",
    "print(\"SVM Accuracy:\", accuracy_score(y_test, svm_pred))\n",
    "print(\"SVM Classification Report:\\n\", classification_report(y_test, svm_pred))"
   ]
  },
  {
   "cell_type": "markdown",
   "id": "b49ad9b1",
   "metadata": {},
   "source": [
    "#### Conclusion\n",
    "For phase 1 to be successful according to our success metrics, we want an accuracy of at least 90%. All three algorithms tested have performed better than that. \n",
    "\n",
    "Random Forest and SVM both had an accuracy of 0.95 which is impressive. Logistic regression was slightly lower with an accuracy of 0.94. However, when computational efficiency is taken into account, Logistic regression is the preferred model. It took just over 23 seconds to fit the Logistic regression model to our data, compared to 618 seconds (10 minutes) for random forest, and a whooping 4321 seconds (72 minutes) for SVM. \n",
    "\n",
    "Next we will use some tuning to try and increase the accuracy of our logistic regression model."
   ]
  },
  {
   "cell_type": "markdown",
   "id": "c636d5dc",
   "metadata": {},
   "source": [
    "### Tweak model"
   ]
  },
  {
   "cell_type": "code",
   "execution_count": 40,
   "id": "3b81d790",
   "metadata": {},
   "outputs": [
    {
     "name": "stderr",
     "output_type": "stream",
     "text": [
      "C:\\Users\\hazel\\anaconda3\\lib\\site-packages\\sklearn\\linear_model\\_logistic.py:458: ConvergenceWarning: lbfgs failed to converge (status=1):\n",
      "STOP: TOTAL NO. of ITERATIONS REACHED LIMIT.\n",
      "\n",
      "Increase the number of iterations (max_iter) or scale the data as shown in:\n",
      "    https://scikit-learn.org/stable/modules/preprocessing.html\n",
      "Please also refer to the documentation for alternative solver options:\n",
      "    https://scikit-learn.org/stable/modules/linear_model.html#logistic-regression\n",
      "  n_iter_i = _check_optimize_result(\n",
      "C:\\Users\\hazel\\anaconda3\\lib\\site-packages\\sklearn\\linear_model\\_logistic.py:458: ConvergenceWarning: lbfgs failed to converge (status=1):\n",
      "STOP: TOTAL NO. of ITERATIONS REACHED LIMIT.\n",
      "\n",
      "Increase the number of iterations (max_iter) or scale the data as shown in:\n",
      "    https://scikit-learn.org/stable/modules/preprocessing.html\n",
      "Please also refer to the documentation for alternative solver options:\n",
      "    https://scikit-learn.org/stable/modules/linear_model.html#logistic-regression\n",
      "  n_iter_i = _check_optimize_result(\n",
      "C:\\Users\\hazel\\anaconda3\\lib\\site-packages\\sklearn\\linear_model\\_logistic.py:458: ConvergenceWarning: lbfgs failed to converge (status=1):\n",
      "STOP: TOTAL NO. of ITERATIONS REACHED LIMIT.\n",
      "\n",
      "Increase the number of iterations (max_iter) or scale the data as shown in:\n",
      "    https://scikit-learn.org/stable/modules/preprocessing.html\n",
      "Please also refer to the documentation for alternative solver options:\n",
      "    https://scikit-learn.org/stable/modules/linear_model.html#logistic-regression\n",
      "  n_iter_i = _check_optimize_result(\n",
      "C:\\Users\\hazel\\anaconda3\\lib\\site-packages\\sklearn\\linear_model\\_logistic.py:458: ConvergenceWarning: lbfgs failed to converge (status=1):\n",
      "STOP: TOTAL NO. of ITERATIONS REACHED LIMIT.\n",
      "\n",
      "Increase the number of iterations (max_iter) or scale the data as shown in:\n",
      "    https://scikit-learn.org/stable/modules/preprocessing.html\n",
      "Please also refer to the documentation for alternative solver options:\n",
      "    https://scikit-learn.org/stable/modules/linear_model.html#logistic-regression\n",
      "  n_iter_i = _check_optimize_result(\n",
      "C:\\Users\\hazel\\anaconda3\\lib\\site-packages\\sklearn\\linear_model\\_logistic.py:458: ConvergenceWarning: lbfgs failed to converge (status=1):\n",
      "STOP: TOTAL NO. of ITERATIONS REACHED LIMIT.\n",
      "\n",
      "Increase the number of iterations (max_iter) or scale the data as shown in:\n",
      "    https://scikit-learn.org/stable/modules/preprocessing.html\n",
      "Please also refer to the documentation for alternative solver options:\n",
      "    https://scikit-learn.org/stable/modules/linear_model.html#logistic-regression\n",
      "  n_iter_i = _check_optimize_result(\n"
     ]
    },
    {
     "name": "stdout",
     "output_type": "stream",
     "text": [
      "Best parameters: {'C': 10}\n",
      "Grid Search: 660.9683 seconds\n"
     ]
    }
   ],
   "source": [
    "start_time = time.time()\n",
    "param_grid = {'C': [0.1, 1, 10, 100]}\n",
    "grid = GridSearchCV(LogisticRegression(max_iter=1000), param_grid, cv=5)\n",
    "grid.fit(X_train, y_train)\n",
    "print(\"Best parameters:\", grid.best_params_)\n",
    "print(\"Grid Search: {:.4f} seconds\".format(time.time() - start_time))"
   ]
  },
  {
   "cell_type": "code",
   "execution_count": null,
   "id": "510ffa7c",
   "metadata": {},
   "outputs": [
    {
     "name": "stderr",
     "output_type": "stream",
     "text": [
      "C:\\Users\\hazel\\anaconda3\\lib\\site-packages\\sklearn\\linear_model\\_sag.py:350: ConvergenceWarning: The max_iter was reached which means the coef_ did not converge\n",
      "  warnings.warn(\n",
      "C:\\Users\\hazel\\anaconda3\\lib\\site-packages\\sklearn\\linear_model\\_sag.py:350: ConvergenceWarning: The max_iter was reached which means the coef_ did not converge\n",
      "  warnings.warn(\n",
      "C:\\Users\\hazel\\anaconda3\\lib\\site-packages\\sklearn\\linear_model\\_sag.py:350: ConvergenceWarning: The max_iter was reached which means the coef_ did not converge\n",
      "  warnings.warn(\n",
      "C:\\Users\\hazel\\anaconda3\\lib\\site-packages\\sklearn\\linear_model\\_sag.py:350: ConvergenceWarning: The max_iter was reached which means the coef_ did not converge\n",
      "  warnings.warn(\n",
      "C:\\Users\\hazel\\anaconda3\\lib\\site-packages\\sklearn\\linear_model\\_sag.py:350: ConvergenceWarning: The max_iter was reached which means the coef_ did not converge\n",
      "  warnings.warn(\n",
      "C:\\Users\\hazel\\anaconda3\\lib\\site-packages\\sklearn\\linear_model\\_sag.py:350: ConvergenceWarning: The max_iter was reached which means the coef_ did not converge\n",
      "  warnings.warn(\n"
     ]
    }
   ],
   "source": [
    "start_time = time.time()\n",
    "#we're going to test for the best combo of regularisation type (l1 or l2), C values, and solvers\n",
    "param_grid = [\n",
    "    {\n",
    "        #l1 regularisation\n",
    "        'penalty': ['l1'],\n",
    "        'C': [0.1, 1, 10],\n",
    "        'solver': ['liblinear', 'saga'] \n",
    "    },\n",
    "    {\n",
    "        #l2 regularization\n",
    "        'penalty': ['l2'],\n",
    "        'C': [0.1, 1, 10],\n",
    "        'solver': ['newton-cg', 'lbfgs', 'sag']\n",
    "    }\n",
    "]\n",
    "\n",
    "#set up the grid search\n",
    "grid = GridSearchCV(LogisticRegression(max_iter=2000), param_grid, cv=5)\n",
    "grid.fit(X_train, y_train)\n",
    "\n",
    "#print the best parameters and best score, and the time it took\n",
    "print(\"Best parameters:\", grid.best_params_)\n",
    "print(\"Best cross-validation score:\", grid.best_score_)\n",
    "print(\"Grid Search: {:.4f} seconds\".format(time.time() - start_time))"
   ]
  },
  {
   "cell_type": "markdown",
   "id": "562f7fcf",
   "metadata": {},
   "source": [
    "#### Tuning Results\n",
    "As we can see from the above results XXXX\n",
    "\n",
    "### Create and save final Phase 1 model"
   ]
  },
  {
   "cell_type": "code",
   "execution_count": 11,
   "id": "fc051ec0",
   "metadata": {},
   "outputs": [
    {
     "name": "stdout",
     "output_type": "stream",
     "text": [
      "Final Model Accuracy: 0.9487212113500445\n",
      "Final Model Classification Report:\n",
      "               precision    recall  f1-score   support\n",
      "\n",
      "           0       0.95      0.94      0.94      6931\n",
      "           1       0.95      0.96      0.95      8787\n",
      "\n",
      "    accuracy                           0.95     15718\n",
      "   macro avg       0.95      0.95      0.95     15718\n",
      "weighted avg       0.95      0.95      0.95     15718\n",
      "\n"
     ]
    }
   ],
   "source": [
    "#instantiate the final model with the best hyperparameters as found by the grid search\n",
    "final_model = LogisticRegression(C=10, max_iter=1000)\n",
    "\n",
    "#fit the model\n",
    "final_model.fit(X_train, y_train)\n",
    "\n",
    "#evaluate on the test set\n",
    "final_predictions = final_model.predict(X_test)\n",
    "print(\"Final Model Accuracy:\", accuracy_score(y_test, final_predictions))\n",
    "print(\"Final Model Classification Report:\\n\", classification_report(y_test, final_predictions))"
   ]
  },
  {
   "cell_type": "code",
   "execution_count": null,
   "id": "7989c635",
   "metadata": {},
   "outputs": [],
   "source": [
    "#save our model\n",
    "with open('final_model.pkl', 'wb') as file:\n",
    "    pickle.dump(final_model, file)"
   ]
  },
  {
   "cell_type": "markdown",
   "id": "d9198bed",
   "metadata": {},
   "source": [
    "### Validate model\n",
    "Extra data from https://www.kaggle.com/datasets/stevenpeutz/misinformation-fake-news-text-dataset-79k"
   ]
  },
  {
   "cell_type": "code",
   "execution_count": 33,
   "id": "b63a12c4",
   "metadata": {},
   "outputs": [
    {
     "ename": "ValueError",
     "evalue": "X has 5000 features, but LogisticRegression is expecting 5003 features as input.",
     "output_type": "error",
     "traceback": [
      "\u001b[1;31m---------------------------------------------------------------------------\u001b[0m",
      "\u001b[1;31mValueError\u001b[0m                                Traceback (most recent call last)",
      "Cell \u001b[1;32mIn[33], line 11\u001b[0m\n\u001b[0;32m      8\u001b[0m X_external \u001b[38;5;241m=\u001b[39m vectorizer\u001b[38;5;241m.\u001b[39mtransform(external_text)\n\u001b[0;32m     10\u001b[0m \u001b[38;5;66;03m# Predict using the trained model\u001b[39;00m\n\u001b[1;32m---> 11\u001b[0m external_predictions_lr \u001b[38;5;241m=\u001b[39m \u001b[43mfinal_model\u001b[49m\u001b[38;5;241;43m.\u001b[39;49m\u001b[43mpredict\u001b[49m\u001b[43m(\u001b[49m\u001b[43mX_external\u001b[49m\u001b[43m)\u001b[49m\n\u001b[0;32m     13\u001b[0m \u001b[38;5;66;03m# Evaluate the performance on the external dataset\u001b[39;00m\n\u001b[0;32m     14\u001b[0m \u001b[38;5;28mprint\u001b[39m(\u001b[38;5;124m\"\u001b[39m\u001b[38;5;124mExternal Dataset Classification Report:\u001b[39m\u001b[38;5;130;01m\\n\u001b[39;00m\u001b[38;5;124m\"\u001b[39m, classification_report(external_labels, external_predictions_lr))\n",
      "File \u001b[1;32m~\\anaconda3\\lib\\site-packages\\sklearn\\linear_model\\_base.py:419\u001b[0m, in \u001b[0;36mLinearClassifierMixin.predict\u001b[1;34m(self, X)\u001b[0m\n\u001b[0;32m    405\u001b[0m \u001b[38;5;250m\u001b[39m\u001b[38;5;124;03m\"\"\"\u001b[39;00m\n\u001b[0;32m    406\u001b[0m \u001b[38;5;124;03mPredict class labels for samples in X.\u001b[39;00m\n\u001b[0;32m    407\u001b[0m \n\u001b[1;32m   (...)\u001b[0m\n\u001b[0;32m    416\u001b[0m \u001b[38;5;124;03m    Vector containing the class labels for each sample.\u001b[39;00m\n\u001b[0;32m    417\u001b[0m \u001b[38;5;124;03m\"\"\"\u001b[39;00m\n\u001b[0;32m    418\u001b[0m xp, _ \u001b[38;5;241m=\u001b[39m get_namespace(X)\n\u001b[1;32m--> 419\u001b[0m scores \u001b[38;5;241m=\u001b[39m \u001b[38;5;28;43mself\u001b[39;49m\u001b[38;5;241;43m.\u001b[39;49m\u001b[43mdecision_function\u001b[49m\u001b[43m(\u001b[49m\u001b[43mX\u001b[49m\u001b[43m)\u001b[49m\n\u001b[0;32m    420\u001b[0m \u001b[38;5;28;01mif\u001b[39;00m \u001b[38;5;28mlen\u001b[39m(scores\u001b[38;5;241m.\u001b[39mshape) \u001b[38;5;241m==\u001b[39m \u001b[38;5;241m1\u001b[39m:\n\u001b[0;32m    421\u001b[0m     indices \u001b[38;5;241m=\u001b[39m xp\u001b[38;5;241m.\u001b[39mastype(scores \u001b[38;5;241m>\u001b[39m \u001b[38;5;241m0\u001b[39m, \u001b[38;5;28mint\u001b[39m)\n",
      "File \u001b[1;32m~\\anaconda3\\lib\\site-packages\\sklearn\\linear_model\\_base.py:400\u001b[0m, in \u001b[0;36mLinearClassifierMixin.decision_function\u001b[1;34m(self, X)\u001b[0m\n\u001b[0;32m    397\u001b[0m check_is_fitted(\u001b[38;5;28mself\u001b[39m)\n\u001b[0;32m    398\u001b[0m xp, _ \u001b[38;5;241m=\u001b[39m get_namespace(X)\n\u001b[1;32m--> 400\u001b[0m X \u001b[38;5;241m=\u001b[39m \u001b[38;5;28;43mself\u001b[39;49m\u001b[38;5;241;43m.\u001b[39;49m\u001b[43m_validate_data\u001b[49m\u001b[43m(\u001b[49m\u001b[43mX\u001b[49m\u001b[43m,\u001b[49m\u001b[43m \u001b[49m\u001b[43maccept_sparse\u001b[49m\u001b[38;5;241;43m=\u001b[39;49m\u001b[38;5;124;43m\"\u001b[39;49m\u001b[38;5;124;43mcsr\u001b[39;49m\u001b[38;5;124;43m\"\u001b[39;49m\u001b[43m,\u001b[49m\u001b[43m \u001b[49m\u001b[43mreset\u001b[49m\u001b[38;5;241;43m=\u001b[39;49m\u001b[38;5;28;43;01mFalse\u001b[39;49;00m\u001b[43m)\u001b[49m\n\u001b[0;32m    401\u001b[0m scores \u001b[38;5;241m=\u001b[39m safe_sparse_dot(X, \u001b[38;5;28mself\u001b[39m\u001b[38;5;241m.\u001b[39mcoef_\u001b[38;5;241m.\u001b[39mT, dense_output\u001b[38;5;241m=\u001b[39m\u001b[38;5;28;01mTrue\u001b[39;00m) \u001b[38;5;241m+\u001b[39m \u001b[38;5;28mself\u001b[39m\u001b[38;5;241m.\u001b[39mintercept_\n\u001b[0;32m    402\u001b[0m \u001b[38;5;28;01mreturn\u001b[39;00m xp\u001b[38;5;241m.\u001b[39mreshape(scores, \u001b[38;5;241m-\u001b[39m\u001b[38;5;241m1\u001b[39m) \u001b[38;5;28;01mif\u001b[39;00m scores\u001b[38;5;241m.\u001b[39mshape[\u001b[38;5;241m1\u001b[39m] \u001b[38;5;241m==\u001b[39m \u001b[38;5;241m1\u001b[39m \u001b[38;5;28;01melse\u001b[39;00m scores\n",
      "File \u001b[1;32m~\\anaconda3\\lib\\site-packages\\sklearn\\base.py:569\u001b[0m, in \u001b[0;36mBaseEstimator._validate_data\u001b[1;34m(self, X, y, reset, validate_separately, **check_params)\u001b[0m\n\u001b[0;32m    566\u001b[0m     out \u001b[38;5;241m=\u001b[39m X, y\n\u001b[0;32m    568\u001b[0m \u001b[38;5;28;01mif\u001b[39;00m \u001b[38;5;129;01mnot\u001b[39;00m no_val_X \u001b[38;5;129;01mand\u001b[39;00m check_params\u001b[38;5;241m.\u001b[39mget(\u001b[38;5;124m\"\u001b[39m\u001b[38;5;124mensure_2d\u001b[39m\u001b[38;5;124m\"\u001b[39m, \u001b[38;5;28;01mTrue\u001b[39;00m):\n\u001b[1;32m--> 569\u001b[0m     \u001b[38;5;28;43mself\u001b[39;49m\u001b[38;5;241;43m.\u001b[39;49m\u001b[43m_check_n_features\u001b[49m\u001b[43m(\u001b[49m\u001b[43mX\u001b[49m\u001b[43m,\u001b[49m\u001b[43m \u001b[49m\u001b[43mreset\u001b[49m\u001b[38;5;241;43m=\u001b[39;49m\u001b[43mreset\u001b[49m\u001b[43m)\u001b[49m\n\u001b[0;32m    571\u001b[0m \u001b[38;5;28;01mreturn\u001b[39;00m out\n",
      "File \u001b[1;32m~\\anaconda3\\lib\\site-packages\\sklearn\\base.py:370\u001b[0m, in \u001b[0;36mBaseEstimator._check_n_features\u001b[1;34m(self, X, reset)\u001b[0m\n\u001b[0;32m    367\u001b[0m     \u001b[38;5;28;01mreturn\u001b[39;00m\n\u001b[0;32m    369\u001b[0m \u001b[38;5;28;01mif\u001b[39;00m n_features \u001b[38;5;241m!=\u001b[39m \u001b[38;5;28mself\u001b[39m\u001b[38;5;241m.\u001b[39mn_features_in_:\n\u001b[1;32m--> 370\u001b[0m     \u001b[38;5;28;01mraise\u001b[39;00m \u001b[38;5;167;01mValueError\u001b[39;00m(\n\u001b[0;32m    371\u001b[0m         \u001b[38;5;124mf\u001b[39m\u001b[38;5;124m\"\u001b[39m\u001b[38;5;124mX has \u001b[39m\u001b[38;5;132;01m{\u001b[39;00mn_features\u001b[38;5;132;01m}\u001b[39;00m\u001b[38;5;124m features, but \u001b[39m\u001b[38;5;132;01m{\u001b[39;00m\u001b[38;5;28mself\u001b[39m\u001b[38;5;241m.\u001b[39m\u001b[38;5;18m__class__\u001b[39m\u001b[38;5;241m.\u001b[39m\u001b[38;5;18m__name__\u001b[39m\u001b[38;5;132;01m}\u001b[39;00m\u001b[38;5;124m \u001b[39m\u001b[38;5;124m\"\u001b[39m\n\u001b[0;32m    372\u001b[0m         \u001b[38;5;124mf\u001b[39m\u001b[38;5;124m\"\u001b[39m\u001b[38;5;124mis expecting \u001b[39m\u001b[38;5;132;01m{\u001b[39;00m\u001b[38;5;28mself\u001b[39m\u001b[38;5;241m.\u001b[39mn_features_in_\u001b[38;5;132;01m}\u001b[39;00m\u001b[38;5;124m features as input.\u001b[39m\u001b[38;5;124m\"\u001b[39m\n\u001b[0;32m    373\u001b[0m     )\n",
      "\u001b[1;31mValueError\u001b[0m: X has 5000 features, but LogisticRegression is expecting 5003 features as input."
     ]
    }
   ],
   "source": [
    "#load in validation dataset\n",
    "external_df = pd.read_csv('Data/extra_data_final_clean.csv')\n",
    "external_df = external_df.dropna(subset=['content_lemma_nostop']).reset_index(drop=True)\n",
    "external_text = external_df['content_lemma_nostop']\n",
    "external_labels = external_df['label']\n",
    "\n",
    "# Transform the external data using the already fitted vectorizer (or pipeline)\n",
    "X_external = vectorizer.transform(external_text)\n",
    "\n",
    "# Predict using the trained model\n",
    "external_predictions_lr = final_model.predict(X_external)\n",
    "\n",
    "# Evaluate the performance on the external dataset\n",
    "print(\"External Dataset Classification Report:\\n\", classification_report(external_labels, external_predictions_lr))\n"
   ]
  }
 ],
 "metadata": {
  "kernelspec": {
   "display_name": "Python 3 (ipykernel)",
   "language": "python",
   "name": "python3"
  },
  "language_info": {
   "codemirror_mode": {
    "name": "ipython",
    "version": 3
   },
   "file_extension": ".py",
   "mimetype": "text/x-python",
   "name": "python",
   "nbconvert_exporter": "python",
   "pygments_lexer": "ipython3",
   "version": "3.10.9"
  }
 },
 "nbformat": 4,
 "nbformat_minor": 5
}
